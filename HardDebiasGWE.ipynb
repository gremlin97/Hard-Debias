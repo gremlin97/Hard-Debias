{
  "nbformat": 4,
  "nbformat_minor": 0,
  "metadata": {
    "colab": {
      "provenance": [],
      "authorship_tag": "ABX9TyN+MpWxdrG61WclGiszVa7M",
      "include_colab_link": true
    },
    "kernelspec": {
      "name": "python3",
      "display_name": "Python 3"
    },
    "language_info": {
      "name": "python"
    },
    "accelerator": "GPU",
    "gpuClass": "standard",
    "widgets": {
      "application/vnd.jupyter.widget-state+json": {
        "3af893c6309248028cbf6850068e91cf": {
          "model_module": "@jupyter-widgets/controls",
          "model_name": "HBoxModel",
          "model_module_version": "1.5.0",
          "state": {
            "_dom_classes": [],
            "_model_module": "@jupyter-widgets/controls",
            "_model_module_version": "1.5.0",
            "_model_name": "HBoxModel",
            "_view_count": null,
            "_view_module": "@jupyter-widgets/controls",
            "_view_module_version": "1.5.0",
            "_view_name": "HBoxView",
            "box_style": "",
            "children": [
              "IPY_MODEL_0b828ad917c24312b81e2370508e1c8c",
              "IPY_MODEL_4cbe5ef5a5e34b78b4f02cf4a986c9fe",
              "IPY_MODEL_dacc0959c6de41418e73625000934190"
            ],
            "layout": "IPY_MODEL_1d1705d842e84e749cd8c764404ef7fc"
          }
        },
        "0b828ad917c24312b81e2370508e1c8c": {
          "model_module": "@jupyter-widgets/controls",
          "model_name": "HTMLModel",
          "model_module_version": "1.5.0",
          "state": {
            "_dom_classes": [],
            "_model_module": "@jupyter-widgets/controls",
            "_model_module_version": "1.5.0",
            "_model_name": "HTMLModel",
            "_view_count": null,
            "_view_module": "@jupyter-widgets/controls",
            "_view_module_version": "1.5.0",
            "_view_name": "HTMLView",
            "description": "",
            "description_tooltip": null,
            "layout": "IPY_MODEL_df8a06cf41504b12ad20785e59553b71",
            "placeholder": "​",
            "style": "IPY_MODEL_314dbb8dacb8456e9aac74390add76b1",
            "value": "Training  : 100%"
          }
        },
        "4cbe5ef5a5e34b78b4f02cf4a986c9fe": {
          "model_module": "@jupyter-widgets/controls",
          "model_name": "FloatProgressModel",
          "model_module_version": "1.5.0",
          "state": {
            "_dom_classes": [],
            "_model_module": "@jupyter-widgets/controls",
            "_model_module_version": "1.5.0",
            "_model_name": "FloatProgressModel",
            "_view_count": null,
            "_view_module": "@jupyter-widgets/controls",
            "_view_module_version": "1.5.0",
            "_view_name": "ProgressView",
            "bar_style": "success",
            "description": "",
            "description_tooltip": null,
            "layout": "IPY_MODEL_b1b365e2344049038ff2ebb057766b0b",
            "max": 110,
            "min": 0,
            "orientation": "horizontal",
            "style": "IPY_MODEL_23dc242685d347d0982814da6b5e9e59",
            "value": 110
          }
        },
        "dacc0959c6de41418e73625000934190": {
          "model_module": "@jupyter-widgets/controls",
          "model_name": "HTMLModel",
          "model_module_version": "1.5.0",
          "state": {
            "_dom_classes": [],
            "_model_module": "@jupyter-widgets/controls",
            "_model_module_version": "1.5.0",
            "_model_name": "HTMLModel",
            "_view_count": null,
            "_view_module": "@jupyter-widgets/controls",
            "_view_module_version": "1.5.0",
            "_view_name": "HTMLView",
            "description": "",
            "description_tooltip": null,
            "layout": "IPY_MODEL_9567deb2b78c4baaa563e4c51feab166",
            "placeholder": "​",
            "style": "IPY_MODEL_37478955bba04e719abd8358f965783d",
            "value": " 110/110 [01:26&lt;00:00,  1.24it/s, loss=0.832]"
          }
        },
        "1d1705d842e84e749cd8c764404ef7fc": {
          "model_module": "@jupyter-widgets/base",
          "model_name": "LayoutModel",
          "model_module_version": "1.2.0",
          "state": {
            "_model_module": "@jupyter-widgets/base",
            "_model_module_version": "1.2.0",
            "_model_name": "LayoutModel",
            "_view_count": null,
            "_view_module": "@jupyter-widgets/base",
            "_view_module_version": "1.2.0",
            "_view_name": "LayoutView",
            "align_content": null,
            "align_items": null,
            "align_self": null,
            "border": null,
            "bottom": null,
            "display": null,
            "flex": null,
            "flex_flow": null,
            "grid_area": null,
            "grid_auto_columns": null,
            "grid_auto_flow": null,
            "grid_auto_rows": null,
            "grid_column": null,
            "grid_gap": null,
            "grid_row": null,
            "grid_template_areas": null,
            "grid_template_columns": null,
            "grid_template_rows": null,
            "height": null,
            "justify_content": null,
            "justify_items": null,
            "left": null,
            "margin": null,
            "max_height": null,
            "max_width": null,
            "min_height": null,
            "min_width": null,
            "object_fit": null,
            "object_position": null,
            "order": null,
            "overflow": null,
            "overflow_x": null,
            "overflow_y": null,
            "padding": null,
            "right": null,
            "top": null,
            "visibility": null,
            "width": null
          }
        },
        "df8a06cf41504b12ad20785e59553b71": {
          "model_module": "@jupyter-widgets/base",
          "model_name": "LayoutModel",
          "model_module_version": "1.2.0",
          "state": {
            "_model_module": "@jupyter-widgets/base",
            "_model_module_version": "1.2.0",
            "_model_name": "LayoutModel",
            "_view_count": null,
            "_view_module": "@jupyter-widgets/base",
            "_view_module_version": "1.2.0",
            "_view_name": "LayoutView",
            "align_content": null,
            "align_items": null,
            "align_self": null,
            "border": null,
            "bottom": null,
            "display": null,
            "flex": null,
            "flex_flow": null,
            "grid_area": null,
            "grid_auto_columns": null,
            "grid_auto_flow": null,
            "grid_auto_rows": null,
            "grid_column": null,
            "grid_gap": null,
            "grid_row": null,
            "grid_template_areas": null,
            "grid_template_columns": null,
            "grid_template_rows": null,
            "height": null,
            "justify_content": null,
            "justify_items": null,
            "left": null,
            "margin": null,
            "max_height": null,
            "max_width": null,
            "min_height": null,
            "min_width": null,
            "object_fit": null,
            "object_position": null,
            "order": null,
            "overflow": null,
            "overflow_x": null,
            "overflow_y": null,
            "padding": null,
            "right": null,
            "top": null,
            "visibility": null,
            "width": null
          }
        },
        "314dbb8dacb8456e9aac74390add76b1": {
          "model_module": "@jupyter-widgets/controls",
          "model_name": "DescriptionStyleModel",
          "model_module_version": "1.5.0",
          "state": {
            "_model_module": "@jupyter-widgets/controls",
            "_model_module_version": "1.5.0",
            "_model_name": "DescriptionStyleModel",
            "_view_count": null,
            "_view_module": "@jupyter-widgets/base",
            "_view_module_version": "1.2.0",
            "_view_name": "StyleView",
            "description_width": ""
          }
        },
        "b1b365e2344049038ff2ebb057766b0b": {
          "model_module": "@jupyter-widgets/base",
          "model_name": "LayoutModel",
          "model_module_version": "1.2.0",
          "state": {
            "_model_module": "@jupyter-widgets/base",
            "_model_module_version": "1.2.0",
            "_model_name": "LayoutModel",
            "_view_count": null,
            "_view_module": "@jupyter-widgets/base",
            "_view_module_version": "1.2.0",
            "_view_name": "LayoutView",
            "align_content": null,
            "align_items": null,
            "align_self": null,
            "border": null,
            "bottom": null,
            "display": null,
            "flex": null,
            "flex_flow": null,
            "grid_area": null,
            "grid_auto_columns": null,
            "grid_auto_flow": null,
            "grid_auto_rows": null,
            "grid_column": null,
            "grid_gap": null,
            "grid_row": null,
            "grid_template_areas": null,
            "grid_template_columns": null,
            "grid_template_rows": null,
            "height": null,
            "justify_content": null,
            "justify_items": null,
            "left": null,
            "margin": null,
            "max_height": null,
            "max_width": null,
            "min_height": null,
            "min_width": null,
            "object_fit": null,
            "object_position": null,
            "order": null,
            "overflow": null,
            "overflow_x": null,
            "overflow_y": null,
            "padding": null,
            "right": null,
            "top": null,
            "visibility": null,
            "width": null
          }
        },
        "23dc242685d347d0982814da6b5e9e59": {
          "model_module": "@jupyter-widgets/controls",
          "model_name": "ProgressStyleModel",
          "model_module_version": "1.5.0",
          "state": {
            "_model_module": "@jupyter-widgets/controls",
            "_model_module_version": "1.5.0",
            "_model_name": "ProgressStyleModel",
            "_view_count": null,
            "_view_module": "@jupyter-widgets/base",
            "_view_module_version": "1.2.0",
            "_view_name": "StyleView",
            "bar_color": null,
            "description_width": ""
          }
        },
        "9567deb2b78c4baaa563e4c51feab166": {
          "model_module": "@jupyter-widgets/base",
          "model_name": "LayoutModel",
          "model_module_version": "1.2.0",
          "state": {
            "_model_module": "@jupyter-widgets/base",
            "_model_module_version": "1.2.0",
            "_model_name": "LayoutModel",
            "_view_count": null,
            "_view_module": "@jupyter-widgets/base",
            "_view_module_version": "1.2.0",
            "_view_name": "LayoutView",
            "align_content": null,
            "align_items": null,
            "align_self": null,
            "border": null,
            "bottom": null,
            "display": null,
            "flex": null,
            "flex_flow": null,
            "grid_area": null,
            "grid_auto_columns": null,
            "grid_auto_flow": null,
            "grid_auto_rows": null,
            "grid_column": null,
            "grid_gap": null,
            "grid_row": null,
            "grid_template_areas": null,
            "grid_template_columns": null,
            "grid_template_rows": null,
            "height": null,
            "justify_content": null,
            "justify_items": null,
            "left": null,
            "margin": null,
            "max_height": null,
            "max_width": null,
            "min_height": null,
            "min_width": null,
            "object_fit": null,
            "object_position": null,
            "order": null,
            "overflow": null,
            "overflow_x": null,
            "overflow_y": null,
            "padding": null,
            "right": null,
            "top": null,
            "visibility": null,
            "width": null
          }
        },
        "37478955bba04e719abd8358f965783d": {
          "model_module": "@jupyter-widgets/controls",
          "model_name": "DescriptionStyleModel",
          "model_module_version": "1.5.0",
          "state": {
            "_model_module": "@jupyter-widgets/controls",
            "_model_module_version": "1.5.0",
            "_model_name": "DescriptionStyleModel",
            "_view_count": null,
            "_view_module": "@jupyter-widgets/base",
            "_view_module_version": "1.2.0",
            "_view_name": "StyleView",
            "description_width": ""
          }
        },
        "542769725bec4cd1b5d86bea49f84889": {
          "model_module": "@jupyter-widgets/controls",
          "model_name": "HBoxModel",
          "model_module_version": "1.5.0",
          "state": {
            "_dom_classes": [],
            "_model_module": "@jupyter-widgets/controls",
            "_model_module_version": "1.5.0",
            "_model_name": "HBoxModel",
            "_view_count": null,
            "_view_module": "@jupyter-widgets/controls",
            "_view_module_version": "1.5.0",
            "_view_name": "HBoxView",
            "box_style": "",
            "children": [
              "IPY_MODEL_86cb818cb9214274bedddf8cab906d83",
              "IPY_MODEL_1bdbbc6ba71d4606a2878254688b334a",
              "IPY_MODEL_a15a1ef480b24f57afa366a1793c4f35"
            ],
            "layout": "IPY_MODEL_891cccc7b3534f8f8af537b243ccab91"
          }
        },
        "86cb818cb9214274bedddf8cab906d83": {
          "model_module": "@jupyter-widgets/controls",
          "model_name": "HTMLModel",
          "model_module_version": "1.5.0",
          "state": {
            "_dom_classes": [],
            "_model_module": "@jupyter-widgets/controls",
            "_model_module_version": "1.5.0",
            "_model_name": "HTMLModel",
            "_view_count": null,
            "_view_module": "@jupyter-widgets/controls",
            "_view_module_version": "1.5.0",
            "_view_name": "HTMLView",
            "description": "",
            "description_tooltip": null,
            "layout": "IPY_MODEL_1c91d26e61774ac5824cc67de0b1854b",
            "placeholder": "​",
            "style": "IPY_MODEL_264560d094ed4918a7eae04d82a839b2",
            "value": "Validating: 100%"
          }
        },
        "1bdbbc6ba71d4606a2878254688b334a": {
          "model_module": "@jupyter-widgets/controls",
          "model_name": "FloatProgressModel",
          "model_module_version": "1.5.0",
          "state": {
            "_dom_classes": [],
            "_model_module": "@jupyter-widgets/controls",
            "_model_module_version": "1.5.0",
            "_model_name": "FloatProgressModel",
            "_view_count": null,
            "_view_module": "@jupyter-widgets/controls",
            "_view_module_version": "1.5.0",
            "_view_name": "ProgressView",
            "bar_style": "success",
            "description": "",
            "description_tooltip": null,
            "layout": "IPY_MODEL_fec860c13fbc4f97b98debceb4e53852",
            "max": 49,
            "min": 0,
            "orientation": "horizontal",
            "style": "IPY_MODEL_46ffc3b0eaf74cd68d474ef0cb68a642",
            "value": 49
          }
        },
        "a15a1ef480b24f57afa366a1793c4f35": {
          "model_module": "@jupyter-widgets/controls",
          "model_name": "HTMLModel",
          "model_module_version": "1.5.0",
          "state": {
            "_dom_classes": [],
            "_model_module": "@jupyter-widgets/controls",
            "_model_module_version": "1.5.0",
            "_model_name": "HTMLModel",
            "_view_count": null,
            "_view_module": "@jupyter-widgets/controls",
            "_view_module_version": "1.5.0",
            "_view_name": "HTMLView",
            "description": "",
            "description_tooltip": null,
            "layout": "IPY_MODEL_ba0dac45418e421b87946f881c235580",
            "placeholder": "​",
            "style": "IPY_MODEL_75680a8ad03b47a5b52662d214b53b14",
            "value": " 49/49 [00:03&lt;00:00, 13.99it/s]"
          }
        },
        "891cccc7b3534f8f8af537b243ccab91": {
          "model_module": "@jupyter-widgets/base",
          "model_name": "LayoutModel",
          "model_module_version": "1.2.0",
          "state": {
            "_model_module": "@jupyter-widgets/base",
            "_model_module_version": "1.2.0",
            "_model_name": "LayoutModel",
            "_view_count": null,
            "_view_module": "@jupyter-widgets/base",
            "_view_module_version": "1.2.0",
            "_view_name": "LayoutView",
            "align_content": null,
            "align_items": null,
            "align_self": null,
            "border": null,
            "bottom": null,
            "display": null,
            "flex": null,
            "flex_flow": null,
            "grid_area": null,
            "grid_auto_columns": null,
            "grid_auto_flow": null,
            "grid_auto_rows": null,
            "grid_column": null,
            "grid_gap": null,
            "grid_row": null,
            "grid_template_areas": null,
            "grid_template_columns": null,
            "grid_template_rows": null,
            "height": null,
            "justify_content": null,
            "justify_items": null,
            "left": null,
            "margin": null,
            "max_height": null,
            "max_width": null,
            "min_height": null,
            "min_width": null,
            "object_fit": null,
            "object_position": null,
            "order": null,
            "overflow": null,
            "overflow_x": null,
            "overflow_y": null,
            "padding": null,
            "right": null,
            "top": null,
            "visibility": null,
            "width": null
          }
        },
        "1c91d26e61774ac5824cc67de0b1854b": {
          "model_module": "@jupyter-widgets/base",
          "model_name": "LayoutModel",
          "model_module_version": "1.2.0",
          "state": {
            "_model_module": "@jupyter-widgets/base",
            "_model_module_version": "1.2.0",
            "_model_name": "LayoutModel",
            "_view_count": null,
            "_view_module": "@jupyter-widgets/base",
            "_view_module_version": "1.2.0",
            "_view_name": "LayoutView",
            "align_content": null,
            "align_items": null,
            "align_self": null,
            "border": null,
            "bottom": null,
            "display": null,
            "flex": null,
            "flex_flow": null,
            "grid_area": null,
            "grid_auto_columns": null,
            "grid_auto_flow": null,
            "grid_auto_rows": null,
            "grid_column": null,
            "grid_gap": null,
            "grid_row": null,
            "grid_template_areas": null,
            "grid_template_columns": null,
            "grid_template_rows": null,
            "height": null,
            "justify_content": null,
            "justify_items": null,
            "left": null,
            "margin": null,
            "max_height": null,
            "max_width": null,
            "min_height": null,
            "min_width": null,
            "object_fit": null,
            "object_position": null,
            "order": null,
            "overflow": null,
            "overflow_x": null,
            "overflow_y": null,
            "padding": null,
            "right": null,
            "top": null,
            "visibility": null,
            "width": null
          }
        },
        "264560d094ed4918a7eae04d82a839b2": {
          "model_module": "@jupyter-widgets/controls",
          "model_name": "DescriptionStyleModel",
          "model_module_version": "1.5.0",
          "state": {
            "_model_module": "@jupyter-widgets/controls",
            "_model_module_version": "1.5.0",
            "_model_name": "DescriptionStyleModel",
            "_view_count": null,
            "_view_module": "@jupyter-widgets/base",
            "_view_module_version": "1.2.0",
            "_view_name": "StyleView",
            "description_width": ""
          }
        },
        "fec860c13fbc4f97b98debceb4e53852": {
          "model_module": "@jupyter-widgets/base",
          "model_name": "LayoutModel",
          "model_module_version": "1.2.0",
          "state": {
            "_model_module": "@jupyter-widgets/base",
            "_model_module_version": "1.2.0",
            "_model_name": "LayoutModel",
            "_view_count": null,
            "_view_module": "@jupyter-widgets/base",
            "_view_module_version": "1.2.0",
            "_view_name": "LayoutView",
            "align_content": null,
            "align_items": null,
            "align_self": null,
            "border": null,
            "bottom": null,
            "display": null,
            "flex": null,
            "flex_flow": null,
            "grid_area": null,
            "grid_auto_columns": null,
            "grid_auto_flow": null,
            "grid_auto_rows": null,
            "grid_column": null,
            "grid_gap": null,
            "grid_row": null,
            "grid_template_areas": null,
            "grid_template_columns": null,
            "grid_template_rows": null,
            "height": null,
            "justify_content": null,
            "justify_items": null,
            "left": null,
            "margin": null,
            "max_height": null,
            "max_width": null,
            "min_height": null,
            "min_width": null,
            "object_fit": null,
            "object_position": null,
            "order": null,
            "overflow": null,
            "overflow_x": null,
            "overflow_y": null,
            "padding": null,
            "right": null,
            "top": null,
            "visibility": null,
            "width": null
          }
        },
        "46ffc3b0eaf74cd68d474ef0cb68a642": {
          "model_module": "@jupyter-widgets/controls",
          "model_name": "ProgressStyleModel",
          "model_module_version": "1.5.0",
          "state": {
            "_model_module": "@jupyter-widgets/controls",
            "_model_module_version": "1.5.0",
            "_model_name": "ProgressStyleModel",
            "_view_count": null,
            "_view_module": "@jupyter-widgets/base",
            "_view_module_version": "1.2.0",
            "_view_name": "StyleView",
            "bar_color": null,
            "description_width": ""
          }
        },
        "ba0dac45418e421b87946f881c235580": {
          "model_module": "@jupyter-widgets/base",
          "model_name": "LayoutModel",
          "model_module_version": "1.2.0",
          "state": {
            "_model_module": "@jupyter-widgets/base",
            "_model_module_version": "1.2.0",
            "_model_name": "LayoutModel",
            "_view_count": null,
            "_view_module": "@jupyter-widgets/base",
            "_view_module_version": "1.2.0",
            "_view_name": "LayoutView",
            "align_content": null,
            "align_items": null,
            "align_self": null,
            "border": null,
            "bottom": null,
            "display": null,
            "flex": null,
            "flex_flow": null,
            "grid_area": null,
            "grid_auto_columns": null,
            "grid_auto_flow": null,
            "grid_auto_rows": null,
            "grid_column": null,
            "grid_gap": null,
            "grid_row": null,
            "grid_template_areas": null,
            "grid_template_columns": null,
            "grid_template_rows": null,
            "height": null,
            "justify_content": null,
            "justify_items": null,
            "left": null,
            "margin": null,
            "max_height": null,
            "max_width": null,
            "min_height": null,
            "min_width": null,
            "object_fit": null,
            "object_position": null,
            "order": null,
            "overflow": null,
            "overflow_x": null,
            "overflow_y": null,
            "padding": null,
            "right": null,
            "top": null,
            "visibility": null,
            "width": null
          }
        },
        "75680a8ad03b47a5b52662d214b53b14": {
          "model_module": "@jupyter-widgets/controls",
          "model_name": "DescriptionStyleModel",
          "model_module_version": "1.5.0",
          "state": {
            "_model_module": "@jupyter-widgets/controls",
            "_model_module_version": "1.5.0",
            "_model_name": "DescriptionStyleModel",
            "_view_count": null,
            "_view_module": "@jupyter-widgets/base",
            "_view_module_version": "1.2.0",
            "_view_name": "StyleView",
            "description_width": ""
          }
        },
        "6023b0b3abec4472acec6b9d3af29588": {
          "model_module": "@jupyter-widgets/controls",
          "model_name": "HBoxModel",
          "model_module_version": "1.5.0",
          "state": {
            "_dom_classes": [],
            "_model_module": "@jupyter-widgets/controls",
            "_model_module_version": "1.5.0",
            "_model_name": "HBoxModel",
            "_view_count": null,
            "_view_module": "@jupyter-widgets/controls",
            "_view_module_version": "1.5.0",
            "_view_name": "HBoxView",
            "box_style": "",
            "children": [
              "IPY_MODEL_62d6207af297416784df592209337857",
              "IPY_MODEL_e3a449c474ef4be98222890d7f64587d",
              "IPY_MODEL_6f7996f3d5264ed19f992ca5543f748a"
            ],
            "layout": "IPY_MODEL_5ca35df9634c4fd79d3e4af754b43c17"
          }
        },
        "62d6207af297416784df592209337857": {
          "model_module": "@jupyter-widgets/controls",
          "model_name": "HTMLModel",
          "model_module_version": "1.5.0",
          "state": {
            "_dom_classes": [],
            "_model_module": "@jupyter-widgets/controls",
            "_model_module_version": "1.5.0",
            "_model_name": "HTMLModel",
            "_view_count": null,
            "_view_module": "@jupyter-widgets/controls",
            "_view_module_version": "1.5.0",
            "_view_name": "HTMLView",
            "description": "",
            "description_tooltip": null,
            "layout": "IPY_MODEL_7020d85cdd3e4fa486d67cc9512e28fa",
            "placeholder": "​",
            "style": "IPY_MODEL_473b27bee91c4138b884801b624e5fd5",
            "value": "Training  : 100%"
          }
        },
        "e3a449c474ef4be98222890d7f64587d": {
          "model_module": "@jupyter-widgets/controls",
          "model_name": "FloatProgressModel",
          "model_module_version": "1.5.0",
          "state": {
            "_dom_classes": [],
            "_model_module": "@jupyter-widgets/controls",
            "_model_module_version": "1.5.0",
            "_model_name": "FloatProgressModel",
            "_view_count": null,
            "_view_module": "@jupyter-widgets/controls",
            "_view_module_version": "1.5.0",
            "_view_name": "ProgressView",
            "bar_style": "success",
            "description": "",
            "description_tooltip": null,
            "layout": "IPY_MODEL_b502126025b944e79a3c0e44df304444",
            "max": 110,
            "min": 0,
            "orientation": "horizontal",
            "style": "IPY_MODEL_df98a96e4df8412182f075a0d8ebdc61",
            "value": 110
          }
        },
        "6f7996f3d5264ed19f992ca5543f748a": {
          "model_module": "@jupyter-widgets/controls",
          "model_name": "HTMLModel",
          "model_module_version": "1.5.0",
          "state": {
            "_dom_classes": [],
            "_model_module": "@jupyter-widgets/controls",
            "_model_module_version": "1.5.0",
            "_model_name": "HTMLModel",
            "_view_count": null,
            "_view_module": "@jupyter-widgets/controls",
            "_view_module_version": "1.5.0",
            "_view_name": "HTMLView",
            "description": "",
            "description_tooltip": null,
            "layout": "IPY_MODEL_d8957d14901c4424beea817bee737b38",
            "placeholder": "​",
            "style": "IPY_MODEL_c2a322095a47412ea1666c4a5c4fdc74",
            "value": " 110/110 [01:27&lt;00:00,  1.26it/s, loss=0.397]"
          }
        },
        "5ca35df9634c4fd79d3e4af754b43c17": {
          "model_module": "@jupyter-widgets/base",
          "model_name": "LayoutModel",
          "model_module_version": "1.2.0",
          "state": {
            "_model_module": "@jupyter-widgets/base",
            "_model_module_version": "1.2.0",
            "_model_name": "LayoutModel",
            "_view_count": null,
            "_view_module": "@jupyter-widgets/base",
            "_view_module_version": "1.2.0",
            "_view_name": "LayoutView",
            "align_content": null,
            "align_items": null,
            "align_self": null,
            "border": null,
            "bottom": null,
            "display": null,
            "flex": null,
            "flex_flow": null,
            "grid_area": null,
            "grid_auto_columns": null,
            "grid_auto_flow": null,
            "grid_auto_rows": null,
            "grid_column": null,
            "grid_gap": null,
            "grid_row": null,
            "grid_template_areas": null,
            "grid_template_columns": null,
            "grid_template_rows": null,
            "height": null,
            "justify_content": null,
            "justify_items": null,
            "left": null,
            "margin": null,
            "max_height": null,
            "max_width": null,
            "min_height": null,
            "min_width": null,
            "object_fit": null,
            "object_position": null,
            "order": null,
            "overflow": null,
            "overflow_x": null,
            "overflow_y": null,
            "padding": null,
            "right": null,
            "top": null,
            "visibility": null,
            "width": null
          }
        },
        "7020d85cdd3e4fa486d67cc9512e28fa": {
          "model_module": "@jupyter-widgets/base",
          "model_name": "LayoutModel",
          "model_module_version": "1.2.0",
          "state": {
            "_model_module": "@jupyter-widgets/base",
            "_model_module_version": "1.2.0",
            "_model_name": "LayoutModel",
            "_view_count": null,
            "_view_module": "@jupyter-widgets/base",
            "_view_module_version": "1.2.0",
            "_view_name": "LayoutView",
            "align_content": null,
            "align_items": null,
            "align_self": null,
            "border": null,
            "bottom": null,
            "display": null,
            "flex": null,
            "flex_flow": null,
            "grid_area": null,
            "grid_auto_columns": null,
            "grid_auto_flow": null,
            "grid_auto_rows": null,
            "grid_column": null,
            "grid_gap": null,
            "grid_row": null,
            "grid_template_areas": null,
            "grid_template_columns": null,
            "grid_template_rows": null,
            "height": null,
            "justify_content": null,
            "justify_items": null,
            "left": null,
            "margin": null,
            "max_height": null,
            "max_width": null,
            "min_height": null,
            "min_width": null,
            "object_fit": null,
            "object_position": null,
            "order": null,
            "overflow": null,
            "overflow_x": null,
            "overflow_y": null,
            "padding": null,
            "right": null,
            "top": null,
            "visibility": null,
            "width": null
          }
        },
        "473b27bee91c4138b884801b624e5fd5": {
          "model_module": "@jupyter-widgets/controls",
          "model_name": "DescriptionStyleModel",
          "model_module_version": "1.5.0",
          "state": {
            "_model_module": "@jupyter-widgets/controls",
            "_model_module_version": "1.5.0",
            "_model_name": "DescriptionStyleModel",
            "_view_count": null,
            "_view_module": "@jupyter-widgets/base",
            "_view_module_version": "1.2.0",
            "_view_name": "StyleView",
            "description_width": ""
          }
        },
        "b502126025b944e79a3c0e44df304444": {
          "model_module": "@jupyter-widgets/base",
          "model_name": "LayoutModel",
          "model_module_version": "1.2.0",
          "state": {
            "_model_module": "@jupyter-widgets/base",
            "_model_module_version": "1.2.0",
            "_model_name": "LayoutModel",
            "_view_count": null,
            "_view_module": "@jupyter-widgets/base",
            "_view_module_version": "1.2.0",
            "_view_name": "LayoutView",
            "align_content": null,
            "align_items": null,
            "align_self": null,
            "border": null,
            "bottom": null,
            "display": null,
            "flex": null,
            "flex_flow": null,
            "grid_area": null,
            "grid_auto_columns": null,
            "grid_auto_flow": null,
            "grid_auto_rows": null,
            "grid_column": null,
            "grid_gap": null,
            "grid_row": null,
            "grid_template_areas": null,
            "grid_template_columns": null,
            "grid_template_rows": null,
            "height": null,
            "justify_content": null,
            "justify_items": null,
            "left": null,
            "margin": null,
            "max_height": null,
            "max_width": null,
            "min_height": null,
            "min_width": null,
            "object_fit": null,
            "object_position": null,
            "order": null,
            "overflow": null,
            "overflow_x": null,
            "overflow_y": null,
            "padding": null,
            "right": null,
            "top": null,
            "visibility": null,
            "width": null
          }
        },
        "df98a96e4df8412182f075a0d8ebdc61": {
          "model_module": "@jupyter-widgets/controls",
          "model_name": "ProgressStyleModel",
          "model_module_version": "1.5.0",
          "state": {
            "_model_module": "@jupyter-widgets/controls",
            "_model_module_version": "1.5.0",
            "_model_name": "ProgressStyleModel",
            "_view_count": null,
            "_view_module": "@jupyter-widgets/base",
            "_view_module_version": "1.2.0",
            "_view_name": "StyleView",
            "bar_color": null,
            "description_width": ""
          }
        },
        "d8957d14901c4424beea817bee737b38": {
          "model_module": "@jupyter-widgets/base",
          "model_name": "LayoutModel",
          "model_module_version": "1.2.0",
          "state": {
            "_model_module": "@jupyter-widgets/base",
            "_model_module_version": "1.2.0",
            "_model_name": "LayoutModel",
            "_view_count": null,
            "_view_module": "@jupyter-widgets/base",
            "_view_module_version": "1.2.0",
            "_view_name": "LayoutView",
            "align_content": null,
            "align_items": null,
            "align_self": null,
            "border": null,
            "bottom": null,
            "display": null,
            "flex": null,
            "flex_flow": null,
            "grid_area": null,
            "grid_auto_columns": null,
            "grid_auto_flow": null,
            "grid_auto_rows": null,
            "grid_column": null,
            "grid_gap": null,
            "grid_row": null,
            "grid_template_areas": null,
            "grid_template_columns": null,
            "grid_template_rows": null,
            "height": null,
            "justify_content": null,
            "justify_items": null,
            "left": null,
            "margin": null,
            "max_height": null,
            "max_width": null,
            "min_height": null,
            "min_width": null,
            "object_fit": null,
            "object_position": null,
            "order": null,
            "overflow": null,
            "overflow_x": null,
            "overflow_y": null,
            "padding": null,
            "right": null,
            "top": null,
            "visibility": null,
            "width": null
          }
        },
        "c2a322095a47412ea1666c4a5c4fdc74": {
          "model_module": "@jupyter-widgets/controls",
          "model_name": "DescriptionStyleModel",
          "model_module_version": "1.5.0",
          "state": {
            "_model_module": "@jupyter-widgets/controls",
            "_model_module_version": "1.5.0",
            "_model_name": "DescriptionStyleModel",
            "_view_count": null,
            "_view_module": "@jupyter-widgets/base",
            "_view_module_version": "1.2.0",
            "_view_name": "StyleView",
            "description_width": ""
          }
        },
        "f2e53cc3334f4c30b1341053be804f89": {
          "model_module": "@jupyter-widgets/controls",
          "model_name": "HBoxModel",
          "model_module_version": "1.5.0",
          "state": {
            "_dom_classes": [],
            "_model_module": "@jupyter-widgets/controls",
            "_model_module_version": "1.5.0",
            "_model_name": "HBoxModel",
            "_view_count": null,
            "_view_module": "@jupyter-widgets/controls",
            "_view_module_version": "1.5.0",
            "_view_name": "HBoxView",
            "box_style": "",
            "children": [
              "IPY_MODEL_d1232578086340c286d3cc1aa8b4414d",
              "IPY_MODEL_f53f90c154a24436a49dd06aaf3f7c81",
              "IPY_MODEL_35a1226157d64482aabecb86e612fc9d"
            ],
            "layout": "IPY_MODEL_10b0ddbf11544ca7859b655b8e692670"
          }
        },
        "d1232578086340c286d3cc1aa8b4414d": {
          "model_module": "@jupyter-widgets/controls",
          "model_name": "HTMLModel",
          "model_module_version": "1.5.0",
          "state": {
            "_dom_classes": [],
            "_model_module": "@jupyter-widgets/controls",
            "_model_module_version": "1.5.0",
            "_model_name": "HTMLModel",
            "_view_count": null,
            "_view_module": "@jupyter-widgets/controls",
            "_view_module_version": "1.5.0",
            "_view_name": "HTMLView",
            "description": "",
            "description_tooltip": null,
            "layout": "IPY_MODEL_b66cd9321ae942448e06097438178221",
            "placeholder": "​",
            "style": "IPY_MODEL_56368fe67d9c431f82c11dcff801691b",
            "value": "Validating: 100%"
          }
        },
        "f53f90c154a24436a49dd06aaf3f7c81": {
          "model_module": "@jupyter-widgets/controls",
          "model_name": "FloatProgressModel",
          "model_module_version": "1.5.0",
          "state": {
            "_dom_classes": [],
            "_model_module": "@jupyter-widgets/controls",
            "_model_module_version": "1.5.0",
            "_model_name": "FloatProgressModel",
            "_view_count": null,
            "_view_module": "@jupyter-widgets/controls",
            "_view_module_version": "1.5.0",
            "_view_name": "ProgressView",
            "bar_style": "success",
            "description": "",
            "description_tooltip": null,
            "layout": "IPY_MODEL_2e10ceccede741c6b3b747a3cd2d9302",
            "max": 49,
            "min": 0,
            "orientation": "horizontal",
            "style": "IPY_MODEL_597a3431f5f847b994fbc9e1a61eb26f",
            "value": 49
          }
        },
        "35a1226157d64482aabecb86e612fc9d": {
          "model_module": "@jupyter-widgets/controls",
          "model_name": "HTMLModel",
          "model_module_version": "1.5.0",
          "state": {
            "_dom_classes": [],
            "_model_module": "@jupyter-widgets/controls",
            "_model_module_version": "1.5.0",
            "_model_name": "HTMLModel",
            "_view_count": null,
            "_view_module": "@jupyter-widgets/controls",
            "_view_module_version": "1.5.0",
            "_view_name": "HTMLView",
            "description": "",
            "description_tooltip": null,
            "layout": "IPY_MODEL_e3929ad8b488425d83a263cc751b47f1",
            "placeholder": "​",
            "style": "IPY_MODEL_c02d50c219e9491aae77b04054f79723",
            "value": " 49/49 [00:03&lt;00:00, 14.19it/s]"
          }
        },
        "10b0ddbf11544ca7859b655b8e692670": {
          "model_module": "@jupyter-widgets/base",
          "model_name": "LayoutModel",
          "model_module_version": "1.2.0",
          "state": {
            "_model_module": "@jupyter-widgets/base",
            "_model_module_version": "1.2.0",
            "_model_name": "LayoutModel",
            "_view_count": null,
            "_view_module": "@jupyter-widgets/base",
            "_view_module_version": "1.2.0",
            "_view_name": "LayoutView",
            "align_content": null,
            "align_items": null,
            "align_self": null,
            "border": null,
            "bottom": null,
            "display": null,
            "flex": null,
            "flex_flow": null,
            "grid_area": null,
            "grid_auto_columns": null,
            "grid_auto_flow": null,
            "grid_auto_rows": null,
            "grid_column": null,
            "grid_gap": null,
            "grid_row": null,
            "grid_template_areas": null,
            "grid_template_columns": null,
            "grid_template_rows": null,
            "height": null,
            "justify_content": null,
            "justify_items": null,
            "left": null,
            "margin": null,
            "max_height": null,
            "max_width": null,
            "min_height": null,
            "min_width": null,
            "object_fit": null,
            "object_position": null,
            "order": null,
            "overflow": null,
            "overflow_x": null,
            "overflow_y": null,
            "padding": null,
            "right": null,
            "top": null,
            "visibility": null,
            "width": null
          }
        },
        "b66cd9321ae942448e06097438178221": {
          "model_module": "@jupyter-widgets/base",
          "model_name": "LayoutModel",
          "model_module_version": "1.2.0",
          "state": {
            "_model_module": "@jupyter-widgets/base",
            "_model_module_version": "1.2.0",
            "_model_name": "LayoutModel",
            "_view_count": null,
            "_view_module": "@jupyter-widgets/base",
            "_view_module_version": "1.2.0",
            "_view_name": "LayoutView",
            "align_content": null,
            "align_items": null,
            "align_self": null,
            "border": null,
            "bottom": null,
            "display": null,
            "flex": null,
            "flex_flow": null,
            "grid_area": null,
            "grid_auto_columns": null,
            "grid_auto_flow": null,
            "grid_auto_rows": null,
            "grid_column": null,
            "grid_gap": null,
            "grid_row": null,
            "grid_template_areas": null,
            "grid_template_columns": null,
            "grid_template_rows": null,
            "height": null,
            "justify_content": null,
            "justify_items": null,
            "left": null,
            "margin": null,
            "max_height": null,
            "max_width": null,
            "min_height": null,
            "min_width": null,
            "object_fit": null,
            "object_position": null,
            "order": null,
            "overflow": null,
            "overflow_x": null,
            "overflow_y": null,
            "padding": null,
            "right": null,
            "top": null,
            "visibility": null,
            "width": null
          }
        },
        "56368fe67d9c431f82c11dcff801691b": {
          "model_module": "@jupyter-widgets/controls",
          "model_name": "DescriptionStyleModel",
          "model_module_version": "1.5.0",
          "state": {
            "_model_module": "@jupyter-widgets/controls",
            "_model_module_version": "1.5.0",
            "_model_name": "DescriptionStyleModel",
            "_view_count": null,
            "_view_module": "@jupyter-widgets/base",
            "_view_module_version": "1.2.0",
            "_view_name": "StyleView",
            "description_width": ""
          }
        },
        "2e10ceccede741c6b3b747a3cd2d9302": {
          "model_module": "@jupyter-widgets/base",
          "model_name": "LayoutModel",
          "model_module_version": "1.2.0",
          "state": {
            "_model_module": "@jupyter-widgets/base",
            "_model_module_version": "1.2.0",
            "_model_name": "LayoutModel",
            "_view_count": null,
            "_view_module": "@jupyter-widgets/base",
            "_view_module_version": "1.2.0",
            "_view_name": "LayoutView",
            "align_content": null,
            "align_items": null,
            "align_self": null,
            "border": null,
            "bottom": null,
            "display": null,
            "flex": null,
            "flex_flow": null,
            "grid_area": null,
            "grid_auto_columns": null,
            "grid_auto_flow": null,
            "grid_auto_rows": null,
            "grid_column": null,
            "grid_gap": null,
            "grid_row": null,
            "grid_template_areas": null,
            "grid_template_columns": null,
            "grid_template_rows": null,
            "height": null,
            "justify_content": null,
            "justify_items": null,
            "left": null,
            "margin": null,
            "max_height": null,
            "max_width": null,
            "min_height": null,
            "min_width": null,
            "object_fit": null,
            "object_position": null,
            "order": null,
            "overflow": null,
            "overflow_x": null,
            "overflow_y": null,
            "padding": null,
            "right": null,
            "top": null,
            "visibility": null,
            "width": null
          }
        },
        "597a3431f5f847b994fbc9e1a61eb26f": {
          "model_module": "@jupyter-widgets/controls",
          "model_name": "ProgressStyleModel",
          "model_module_version": "1.5.0",
          "state": {
            "_model_module": "@jupyter-widgets/controls",
            "_model_module_version": "1.5.0",
            "_model_name": "ProgressStyleModel",
            "_view_count": null,
            "_view_module": "@jupyter-widgets/base",
            "_view_module_version": "1.2.0",
            "_view_name": "StyleView",
            "bar_color": null,
            "description_width": ""
          }
        },
        "e3929ad8b488425d83a263cc751b47f1": {
          "model_module": "@jupyter-widgets/base",
          "model_name": "LayoutModel",
          "model_module_version": "1.2.0",
          "state": {
            "_model_module": "@jupyter-widgets/base",
            "_model_module_version": "1.2.0",
            "_model_name": "LayoutModel",
            "_view_count": null,
            "_view_module": "@jupyter-widgets/base",
            "_view_module_version": "1.2.0",
            "_view_name": "LayoutView",
            "align_content": null,
            "align_items": null,
            "align_self": null,
            "border": null,
            "bottom": null,
            "display": null,
            "flex": null,
            "flex_flow": null,
            "grid_area": null,
            "grid_auto_columns": null,
            "grid_auto_flow": null,
            "grid_auto_rows": null,
            "grid_column": null,
            "grid_gap": null,
            "grid_row": null,
            "grid_template_areas": null,
            "grid_template_columns": null,
            "grid_template_rows": null,
            "height": null,
            "justify_content": null,
            "justify_items": null,
            "left": null,
            "margin": null,
            "max_height": null,
            "max_width": null,
            "min_height": null,
            "min_width": null,
            "object_fit": null,
            "object_position": null,
            "order": null,
            "overflow": null,
            "overflow_x": null,
            "overflow_y": null,
            "padding": null,
            "right": null,
            "top": null,
            "visibility": null,
            "width": null
          }
        },
        "c02d50c219e9491aae77b04054f79723": {
          "model_module": "@jupyter-widgets/controls",
          "model_name": "DescriptionStyleModel",
          "model_module_version": "1.5.0",
          "state": {
            "_model_module": "@jupyter-widgets/controls",
            "_model_module_version": "1.5.0",
            "_model_name": "DescriptionStyleModel",
            "_view_count": null,
            "_view_module": "@jupyter-widgets/base",
            "_view_module_version": "1.2.0",
            "_view_name": "StyleView",
            "description_width": ""
          }
        },
        "5079f7baeccc4b62a38915cf4f0fe62f": {
          "model_module": "@jupyter-widgets/controls",
          "model_name": "HBoxModel",
          "model_module_version": "1.5.0",
          "state": {
            "_dom_classes": [],
            "_model_module": "@jupyter-widgets/controls",
            "_model_module_version": "1.5.0",
            "_model_name": "HBoxModel",
            "_view_count": null,
            "_view_module": "@jupyter-widgets/controls",
            "_view_module_version": "1.5.0",
            "_view_name": "HBoxView",
            "box_style": "",
            "children": [
              "IPY_MODEL_afcf32d054a545eb92aedc4b3bf77326",
              "IPY_MODEL_c34e13c311704c7a97ffac76593573a8",
              "IPY_MODEL_b414a7ba18de4d0e83a1ad4d0e6d5c16"
            ],
            "layout": "IPY_MODEL_24d5975c59034245ab2eb9ae16fda2aa"
          }
        },
        "afcf32d054a545eb92aedc4b3bf77326": {
          "model_module": "@jupyter-widgets/controls",
          "model_name": "HTMLModel",
          "model_module_version": "1.5.0",
          "state": {
            "_dom_classes": [],
            "_model_module": "@jupyter-widgets/controls",
            "_model_module_version": "1.5.0",
            "_model_name": "HTMLModel",
            "_view_count": null,
            "_view_module": "@jupyter-widgets/controls",
            "_view_module_version": "1.5.0",
            "_view_name": "HTMLView",
            "description": "",
            "description_tooltip": null,
            "layout": "IPY_MODEL_84fc12886b354e7fbe0057b21c6338d1",
            "placeholder": "​",
            "style": "IPY_MODEL_b9ea416dd6894b09b17bad21f89ac661",
            "value": "Training  : 100%"
          }
        },
        "c34e13c311704c7a97ffac76593573a8": {
          "model_module": "@jupyter-widgets/controls",
          "model_name": "FloatProgressModel",
          "model_module_version": "1.5.0",
          "state": {
            "_dom_classes": [],
            "_model_module": "@jupyter-widgets/controls",
            "_model_module_version": "1.5.0",
            "_model_name": "FloatProgressModel",
            "_view_count": null,
            "_view_module": "@jupyter-widgets/controls",
            "_view_module_version": "1.5.0",
            "_view_name": "ProgressView",
            "bar_style": "success",
            "description": "",
            "description_tooltip": null,
            "layout": "IPY_MODEL_155002f11e7e4bf1a5247f267ca1ed2d",
            "max": 110,
            "min": 0,
            "orientation": "horizontal",
            "style": "IPY_MODEL_d8415ec892074d15875ddac4b04bebbd",
            "value": 110
          }
        },
        "b414a7ba18de4d0e83a1ad4d0e6d5c16": {
          "model_module": "@jupyter-widgets/controls",
          "model_name": "HTMLModel",
          "model_module_version": "1.5.0",
          "state": {
            "_dom_classes": [],
            "_model_module": "@jupyter-widgets/controls",
            "_model_module_version": "1.5.0",
            "_model_name": "HTMLModel",
            "_view_count": null,
            "_view_module": "@jupyter-widgets/controls",
            "_view_module_version": "1.5.0",
            "_view_name": "HTMLView",
            "description": "",
            "description_tooltip": null,
            "layout": "IPY_MODEL_c8b808f822d641a7a07c301eb878768d",
            "placeholder": "​",
            "style": "IPY_MODEL_e7fb45f26c014f5797d8100e28d9493a",
            "value": " 110/110 [01:27&lt;00:00,  1.26it/s, loss=0.204]"
          }
        },
        "24d5975c59034245ab2eb9ae16fda2aa": {
          "model_module": "@jupyter-widgets/base",
          "model_name": "LayoutModel",
          "model_module_version": "1.2.0",
          "state": {
            "_model_module": "@jupyter-widgets/base",
            "_model_module_version": "1.2.0",
            "_model_name": "LayoutModel",
            "_view_count": null,
            "_view_module": "@jupyter-widgets/base",
            "_view_module_version": "1.2.0",
            "_view_name": "LayoutView",
            "align_content": null,
            "align_items": null,
            "align_self": null,
            "border": null,
            "bottom": null,
            "display": null,
            "flex": null,
            "flex_flow": null,
            "grid_area": null,
            "grid_auto_columns": null,
            "grid_auto_flow": null,
            "grid_auto_rows": null,
            "grid_column": null,
            "grid_gap": null,
            "grid_row": null,
            "grid_template_areas": null,
            "grid_template_columns": null,
            "grid_template_rows": null,
            "height": null,
            "justify_content": null,
            "justify_items": null,
            "left": null,
            "margin": null,
            "max_height": null,
            "max_width": null,
            "min_height": null,
            "min_width": null,
            "object_fit": null,
            "object_position": null,
            "order": null,
            "overflow": null,
            "overflow_x": null,
            "overflow_y": null,
            "padding": null,
            "right": null,
            "top": null,
            "visibility": null,
            "width": null
          }
        },
        "84fc12886b354e7fbe0057b21c6338d1": {
          "model_module": "@jupyter-widgets/base",
          "model_name": "LayoutModel",
          "model_module_version": "1.2.0",
          "state": {
            "_model_module": "@jupyter-widgets/base",
            "_model_module_version": "1.2.0",
            "_model_name": "LayoutModel",
            "_view_count": null,
            "_view_module": "@jupyter-widgets/base",
            "_view_module_version": "1.2.0",
            "_view_name": "LayoutView",
            "align_content": null,
            "align_items": null,
            "align_self": null,
            "border": null,
            "bottom": null,
            "display": null,
            "flex": null,
            "flex_flow": null,
            "grid_area": null,
            "grid_auto_columns": null,
            "grid_auto_flow": null,
            "grid_auto_rows": null,
            "grid_column": null,
            "grid_gap": null,
            "grid_row": null,
            "grid_template_areas": null,
            "grid_template_columns": null,
            "grid_template_rows": null,
            "height": null,
            "justify_content": null,
            "justify_items": null,
            "left": null,
            "margin": null,
            "max_height": null,
            "max_width": null,
            "min_height": null,
            "min_width": null,
            "object_fit": null,
            "object_position": null,
            "order": null,
            "overflow": null,
            "overflow_x": null,
            "overflow_y": null,
            "padding": null,
            "right": null,
            "top": null,
            "visibility": null,
            "width": null
          }
        },
        "b9ea416dd6894b09b17bad21f89ac661": {
          "model_module": "@jupyter-widgets/controls",
          "model_name": "DescriptionStyleModel",
          "model_module_version": "1.5.0",
          "state": {
            "_model_module": "@jupyter-widgets/controls",
            "_model_module_version": "1.5.0",
            "_model_name": "DescriptionStyleModel",
            "_view_count": null,
            "_view_module": "@jupyter-widgets/base",
            "_view_module_version": "1.2.0",
            "_view_name": "StyleView",
            "description_width": ""
          }
        },
        "155002f11e7e4bf1a5247f267ca1ed2d": {
          "model_module": "@jupyter-widgets/base",
          "model_name": "LayoutModel",
          "model_module_version": "1.2.0",
          "state": {
            "_model_module": "@jupyter-widgets/base",
            "_model_module_version": "1.2.0",
            "_model_name": "LayoutModel",
            "_view_count": null,
            "_view_module": "@jupyter-widgets/base",
            "_view_module_version": "1.2.0",
            "_view_name": "LayoutView",
            "align_content": null,
            "align_items": null,
            "align_self": null,
            "border": null,
            "bottom": null,
            "display": null,
            "flex": null,
            "flex_flow": null,
            "grid_area": null,
            "grid_auto_columns": null,
            "grid_auto_flow": null,
            "grid_auto_rows": null,
            "grid_column": null,
            "grid_gap": null,
            "grid_row": null,
            "grid_template_areas": null,
            "grid_template_columns": null,
            "grid_template_rows": null,
            "height": null,
            "justify_content": null,
            "justify_items": null,
            "left": null,
            "margin": null,
            "max_height": null,
            "max_width": null,
            "min_height": null,
            "min_width": null,
            "object_fit": null,
            "object_position": null,
            "order": null,
            "overflow": null,
            "overflow_x": null,
            "overflow_y": null,
            "padding": null,
            "right": null,
            "top": null,
            "visibility": null,
            "width": null
          }
        },
        "d8415ec892074d15875ddac4b04bebbd": {
          "model_module": "@jupyter-widgets/controls",
          "model_name": "ProgressStyleModel",
          "model_module_version": "1.5.0",
          "state": {
            "_model_module": "@jupyter-widgets/controls",
            "_model_module_version": "1.5.0",
            "_model_name": "ProgressStyleModel",
            "_view_count": null,
            "_view_module": "@jupyter-widgets/base",
            "_view_module_version": "1.2.0",
            "_view_name": "StyleView",
            "bar_color": null,
            "description_width": ""
          }
        },
        "c8b808f822d641a7a07c301eb878768d": {
          "model_module": "@jupyter-widgets/base",
          "model_name": "LayoutModel",
          "model_module_version": "1.2.0",
          "state": {
            "_model_module": "@jupyter-widgets/base",
            "_model_module_version": "1.2.0",
            "_model_name": "LayoutModel",
            "_view_count": null,
            "_view_module": "@jupyter-widgets/base",
            "_view_module_version": "1.2.0",
            "_view_name": "LayoutView",
            "align_content": null,
            "align_items": null,
            "align_self": null,
            "border": null,
            "bottom": null,
            "display": null,
            "flex": null,
            "flex_flow": null,
            "grid_area": null,
            "grid_auto_columns": null,
            "grid_auto_flow": null,
            "grid_auto_rows": null,
            "grid_column": null,
            "grid_gap": null,
            "grid_row": null,
            "grid_template_areas": null,
            "grid_template_columns": null,
            "grid_template_rows": null,
            "height": null,
            "justify_content": null,
            "justify_items": null,
            "left": null,
            "margin": null,
            "max_height": null,
            "max_width": null,
            "min_height": null,
            "min_width": null,
            "object_fit": null,
            "object_position": null,
            "order": null,
            "overflow": null,
            "overflow_x": null,
            "overflow_y": null,
            "padding": null,
            "right": null,
            "top": null,
            "visibility": null,
            "width": null
          }
        },
        "e7fb45f26c014f5797d8100e28d9493a": {
          "model_module": "@jupyter-widgets/controls",
          "model_name": "DescriptionStyleModel",
          "model_module_version": "1.5.0",
          "state": {
            "_model_module": "@jupyter-widgets/controls",
            "_model_module_version": "1.5.0",
            "_model_name": "DescriptionStyleModel",
            "_view_count": null,
            "_view_module": "@jupyter-widgets/base",
            "_view_module_version": "1.2.0",
            "_view_name": "StyleView",
            "description_width": ""
          }
        },
        "aab1324ec485409babadb0b6f94a1f2b": {
          "model_module": "@jupyter-widgets/controls",
          "model_name": "HBoxModel",
          "model_module_version": "1.5.0",
          "state": {
            "_dom_classes": [],
            "_model_module": "@jupyter-widgets/controls",
            "_model_module_version": "1.5.0",
            "_model_name": "HBoxModel",
            "_view_count": null,
            "_view_module": "@jupyter-widgets/controls",
            "_view_module_version": "1.5.0",
            "_view_name": "HBoxView",
            "box_style": "",
            "children": [
              "IPY_MODEL_868fc994d9f8499b8ed043a1ca093c86",
              "IPY_MODEL_1d11d07f6335499482dbc65a056dc12d",
              "IPY_MODEL_c4fc0f21943241c98280d7b84efcd91a"
            ],
            "layout": "IPY_MODEL_9c5de4425e824541a22ffbb13dc59441"
          }
        },
        "868fc994d9f8499b8ed043a1ca093c86": {
          "model_module": "@jupyter-widgets/controls",
          "model_name": "HTMLModel",
          "model_module_version": "1.5.0",
          "state": {
            "_dom_classes": [],
            "_model_module": "@jupyter-widgets/controls",
            "_model_module_version": "1.5.0",
            "_model_name": "HTMLModel",
            "_view_count": null,
            "_view_module": "@jupyter-widgets/controls",
            "_view_module_version": "1.5.0",
            "_view_name": "HTMLView",
            "description": "",
            "description_tooltip": null,
            "layout": "IPY_MODEL_21219eafa0fc4d948007cd6abbc5d077",
            "placeholder": "​",
            "style": "IPY_MODEL_7ffcc3e3e4f741d0ae2277bdec689100",
            "value": "Validating: 100%"
          }
        },
        "1d11d07f6335499482dbc65a056dc12d": {
          "model_module": "@jupyter-widgets/controls",
          "model_name": "FloatProgressModel",
          "model_module_version": "1.5.0",
          "state": {
            "_dom_classes": [],
            "_model_module": "@jupyter-widgets/controls",
            "_model_module_version": "1.5.0",
            "_model_name": "FloatProgressModel",
            "_view_count": null,
            "_view_module": "@jupyter-widgets/controls",
            "_view_module_version": "1.5.0",
            "_view_name": "ProgressView",
            "bar_style": "success",
            "description": "",
            "description_tooltip": null,
            "layout": "IPY_MODEL_9c6063d1925b499ab84a9fdb7637dd02",
            "max": 49,
            "min": 0,
            "orientation": "horizontal",
            "style": "IPY_MODEL_09ac80155e8145de82134915ef8286c6",
            "value": 49
          }
        },
        "c4fc0f21943241c98280d7b84efcd91a": {
          "model_module": "@jupyter-widgets/controls",
          "model_name": "HTMLModel",
          "model_module_version": "1.5.0",
          "state": {
            "_dom_classes": [],
            "_model_module": "@jupyter-widgets/controls",
            "_model_module_version": "1.5.0",
            "_model_name": "HTMLModel",
            "_view_count": null,
            "_view_module": "@jupyter-widgets/controls",
            "_view_module_version": "1.5.0",
            "_view_name": "HTMLView",
            "description": "",
            "description_tooltip": null,
            "layout": "IPY_MODEL_de31ef574ee14ff7bbd0ffa1d46ada49",
            "placeholder": "​",
            "style": "IPY_MODEL_f20acad814194c2aa7ba2a59564458d7",
            "value": " 49/49 [00:03&lt;00:00, 14.22it/s]"
          }
        },
        "9c5de4425e824541a22ffbb13dc59441": {
          "model_module": "@jupyter-widgets/base",
          "model_name": "LayoutModel",
          "model_module_version": "1.2.0",
          "state": {
            "_model_module": "@jupyter-widgets/base",
            "_model_module_version": "1.2.0",
            "_model_name": "LayoutModel",
            "_view_count": null,
            "_view_module": "@jupyter-widgets/base",
            "_view_module_version": "1.2.0",
            "_view_name": "LayoutView",
            "align_content": null,
            "align_items": null,
            "align_self": null,
            "border": null,
            "bottom": null,
            "display": null,
            "flex": null,
            "flex_flow": null,
            "grid_area": null,
            "grid_auto_columns": null,
            "grid_auto_flow": null,
            "grid_auto_rows": null,
            "grid_column": null,
            "grid_gap": null,
            "grid_row": null,
            "grid_template_areas": null,
            "grid_template_columns": null,
            "grid_template_rows": null,
            "height": null,
            "justify_content": null,
            "justify_items": null,
            "left": null,
            "margin": null,
            "max_height": null,
            "max_width": null,
            "min_height": null,
            "min_width": null,
            "object_fit": null,
            "object_position": null,
            "order": null,
            "overflow": null,
            "overflow_x": null,
            "overflow_y": null,
            "padding": null,
            "right": null,
            "top": null,
            "visibility": null,
            "width": null
          }
        },
        "21219eafa0fc4d948007cd6abbc5d077": {
          "model_module": "@jupyter-widgets/base",
          "model_name": "LayoutModel",
          "model_module_version": "1.2.0",
          "state": {
            "_model_module": "@jupyter-widgets/base",
            "_model_module_version": "1.2.0",
            "_model_name": "LayoutModel",
            "_view_count": null,
            "_view_module": "@jupyter-widgets/base",
            "_view_module_version": "1.2.0",
            "_view_name": "LayoutView",
            "align_content": null,
            "align_items": null,
            "align_self": null,
            "border": null,
            "bottom": null,
            "display": null,
            "flex": null,
            "flex_flow": null,
            "grid_area": null,
            "grid_auto_columns": null,
            "grid_auto_flow": null,
            "grid_auto_rows": null,
            "grid_column": null,
            "grid_gap": null,
            "grid_row": null,
            "grid_template_areas": null,
            "grid_template_columns": null,
            "grid_template_rows": null,
            "height": null,
            "justify_content": null,
            "justify_items": null,
            "left": null,
            "margin": null,
            "max_height": null,
            "max_width": null,
            "min_height": null,
            "min_width": null,
            "object_fit": null,
            "object_position": null,
            "order": null,
            "overflow": null,
            "overflow_x": null,
            "overflow_y": null,
            "padding": null,
            "right": null,
            "top": null,
            "visibility": null,
            "width": null
          }
        },
        "7ffcc3e3e4f741d0ae2277bdec689100": {
          "model_module": "@jupyter-widgets/controls",
          "model_name": "DescriptionStyleModel",
          "model_module_version": "1.5.0",
          "state": {
            "_model_module": "@jupyter-widgets/controls",
            "_model_module_version": "1.5.0",
            "_model_name": "DescriptionStyleModel",
            "_view_count": null,
            "_view_module": "@jupyter-widgets/base",
            "_view_module_version": "1.2.0",
            "_view_name": "StyleView",
            "description_width": ""
          }
        },
        "9c6063d1925b499ab84a9fdb7637dd02": {
          "model_module": "@jupyter-widgets/base",
          "model_name": "LayoutModel",
          "model_module_version": "1.2.0",
          "state": {
            "_model_module": "@jupyter-widgets/base",
            "_model_module_version": "1.2.0",
            "_model_name": "LayoutModel",
            "_view_count": null,
            "_view_module": "@jupyter-widgets/base",
            "_view_module_version": "1.2.0",
            "_view_name": "LayoutView",
            "align_content": null,
            "align_items": null,
            "align_self": null,
            "border": null,
            "bottom": null,
            "display": null,
            "flex": null,
            "flex_flow": null,
            "grid_area": null,
            "grid_auto_columns": null,
            "grid_auto_flow": null,
            "grid_auto_rows": null,
            "grid_column": null,
            "grid_gap": null,
            "grid_row": null,
            "grid_template_areas": null,
            "grid_template_columns": null,
            "grid_template_rows": null,
            "height": null,
            "justify_content": null,
            "justify_items": null,
            "left": null,
            "margin": null,
            "max_height": null,
            "max_width": null,
            "min_height": null,
            "min_width": null,
            "object_fit": null,
            "object_position": null,
            "order": null,
            "overflow": null,
            "overflow_x": null,
            "overflow_y": null,
            "padding": null,
            "right": null,
            "top": null,
            "visibility": null,
            "width": null
          }
        },
        "09ac80155e8145de82134915ef8286c6": {
          "model_module": "@jupyter-widgets/controls",
          "model_name": "ProgressStyleModel",
          "model_module_version": "1.5.0",
          "state": {
            "_model_module": "@jupyter-widgets/controls",
            "_model_module_version": "1.5.0",
            "_model_name": "ProgressStyleModel",
            "_view_count": null,
            "_view_module": "@jupyter-widgets/base",
            "_view_module_version": "1.2.0",
            "_view_name": "StyleView",
            "bar_color": null,
            "description_width": ""
          }
        },
        "de31ef574ee14ff7bbd0ffa1d46ada49": {
          "model_module": "@jupyter-widgets/base",
          "model_name": "LayoutModel",
          "model_module_version": "1.2.0",
          "state": {
            "_model_module": "@jupyter-widgets/base",
            "_model_module_version": "1.2.0",
            "_model_name": "LayoutModel",
            "_view_count": null,
            "_view_module": "@jupyter-widgets/base",
            "_view_module_version": "1.2.0",
            "_view_name": "LayoutView",
            "align_content": null,
            "align_items": null,
            "align_self": null,
            "border": null,
            "bottom": null,
            "display": null,
            "flex": null,
            "flex_flow": null,
            "grid_area": null,
            "grid_auto_columns": null,
            "grid_auto_flow": null,
            "grid_auto_rows": null,
            "grid_column": null,
            "grid_gap": null,
            "grid_row": null,
            "grid_template_areas": null,
            "grid_template_columns": null,
            "grid_template_rows": null,
            "height": null,
            "justify_content": null,
            "justify_items": null,
            "left": null,
            "margin": null,
            "max_height": null,
            "max_width": null,
            "min_height": null,
            "min_width": null,
            "object_fit": null,
            "object_position": null,
            "order": null,
            "overflow": null,
            "overflow_x": null,
            "overflow_y": null,
            "padding": null,
            "right": null,
            "top": null,
            "visibility": null,
            "width": null
          }
        },
        "f20acad814194c2aa7ba2a59564458d7": {
          "model_module": "@jupyter-widgets/controls",
          "model_name": "DescriptionStyleModel",
          "model_module_version": "1.5.0",
          "state": {
            "_model_module": "@jupyter-widgets/controls",
            "_model_module_version": "1.5.0",
            "_model_name": "DescriptionStyleModel",
            "_view_count": null,
            "_view_module": "@jupyter-widgets/base",
            "_view_module_version": "1.2.0",
            "_view_name": "StyleView",
            "description_width": ""
          }
        },
        "f920030977954689b7fdc695fd253d72": {
          "model_module": "@jupyter-widgets/controls",
          "model_name": "HBoxModel",
          "model_module_version": "1.5.0",
          "state": {
            "_dom_classes": [],
            "_model_module": "@jupyter-widgets/controls",
            "_model_module_version": "1.5.0",
            "_model_name": "HBoxModel",
            "_view_count": null,
            "_view_module": "@jupyter-widgets/controls",
            "_view_module_version": "1.5.0",
            "_view_name": "HBoxView",
            "box_style": "",
            "children": [
              "IPY_MODEL_0a6d8c6e4c2040bc8396220a701c49a3",
              "IPY_MODEL_2e24453a788e4f9481461dfd81c3423c",
              "IPY_MODEL_b2919b73aaa7479da298413fc481d281"
            ],
            "layout": "IPY_MODEL_e9a29b5cba9843c0b9e5424ac4c9800f"
          }
        },
        "0a6d8c6e4c2040bc8396220a701c49a3": {
          "model_module": "@jupyter-widgets/controls",
          "model_name": "HTMLModel",
          "model_module_version": "1.5.0",
          "state": {
            "_dom_classes": [],
            "_model_module": "@jupyter-widgets/controls",
            "_model_module_version": "1.5.0",
            "_model_name": "HTMLModel",
            "_view_count": null,
            "_view_module": "@jupyter-widgets/controls",
            "_view_module_version": "1.5.0",
            "_view_name": "HTMLView",
            "description": "",
            "description_tooltip": null,
            "layout": "IPY_MODEL_ae6108af798c4303bf8f094e9ab872fe",
            "placeholder": "​",
            "style": "IPY_MODEL_ec0c9ac07ad84c50ae54c443643fc16c",
            "value": "Training  : 100%"
          }
        },
        "2e24453a788e4f9481461dfd81c3423c": {
          "model_module": "@jupyter-widgets/controls",
          "model_name": "FloatProgressModel",
          "model_module_version": "1.5.0",
          "state": {
            "_dom_classes": [],
            "_model_module": "@jupyter-widgets/controls",
            "_model_module_version": "1.5.0",
            "_model_name": "FloatProgressModel",
            "_view_count": null,
            "_view_module": "@jupyter-widgets/controls",
            "_view_module_version": "1.5.0",
            "_view_name": "ProgressView",
            "bar_style": "success",
            "description": "",
            "description_tooltip": null,
            "layout": "IPY_MODEL_f5853e86308d4beea4a0d30267c5e19d",
            "max": 110,
            "min": 0,
            "orientation": "horizontal",
            "style": "IPY_MODEL_a0a7700fd26e45f096bf546f5f904e61",
            "value": 110
          }
        },
        "b2919b73aaa7479da298413fc481d281": {
          "model_module": "@jupyter-widgets/controls",
          "model_name": "HTMLModel",
          "model_module_version": "1.5.0",
          "state": {
            "_dom_classes": [],
            "_model_module": "@jupyter-widgets/controls",
            "_model_module_version": "1.5.0",
            "_model_name": "HTMLModel",
            "_view_count": null,
            "_view_module": "@jupyter-widgets/controls",
            "_view_module_version": "1.5.0",
            "_view_name": "HTMLView",
            "description": "",
            "description_tooltip": null,
            "layout": "IPY_MODEL_414430105e8748b586c956934307484b",
            "placeholder": "​",
            "style": "IPY_MODEL_482e1a80299f4046a60258cb2e0dcfa1",
            "value": " 110/110 [01:27&lt;00:00,  1.27it/s, loss=0.103]"
          }
        },
        "e9a29b5cba9843c0b9e5424ac4c9800f": {
          "model_module": "@jupyter-widgets/base",
          "model_name": "LayoutModel",
          "model_module_version": "1.2.0",
          "state": {
            "_model_module": "@jupyter-widgets/base",
            "_model_module_version": "1.2.0",
            "_model_name": "LayoutModel",
            "_view_count": null,
            "_view_module": "@jupyter-widgets/base",
            "_view_module_version": "1.2.0",
            "_view_name": "LayoutView",
            "align_content": null,
            "align_items": null,
            "align_self": null,
            "border": null,
            "bottom": null,
            "display": null,
            "flex": null,
            "flex_flow": null,
            "grid_area": null,
            "grid_auto_columns": null,
            "grid_auto_flow": null,
            "grid_auto_rows": null,
            "grid_column": null,
            "grid_gap": null,
            "grid_row": null,
            "grid_template_areas": null,
            "grid_template_columns": null,
            "grid_template_rows": null,
            "height": null,
            "justify_content": null,
            "justify_items": null,
            "left": null,
            "margin": null,
            "max_height": null,
            "max_width": null,
            "min_height": null,
            "min_width": null,
            "object_fit": null,
            "object_position": null,
            "order": null,
            "overflow": null,
            "overflow_x": null,
            "overflow_y": null,
            "padding": null,
            "right": null,
            "top": null,
            "visibility": null,
            "width": null
          }
        },
        "ae6108af798c4303bf8f094e9ab872fe": {
          "model_module": "@jupyter-widgets/base",
          "model_name": "LayoutModel",
          "model_module_version": "1.2.0",
          "state": {
            "_model_module": "@jupyter-widgets/base",
            "_model_module_version": "1.2.0",
            "_model_name": "LayoutModel",
            "_view_count": null,
            "_view_module": "@jupyter-widgets/base",
            "_view_module_version": "1.2.0",
            "_view_name": "LayoutView",
            "align_content": null,
            "align_items": null,
            "align_self": null,
            "border": null,
            "bottom": null,
            "display": null,
            "flex": null,
            "flex_flow": null,
            "grid_area": null,
            "grid_auto_columns": null,
            "grid_auto_flow": null,
            "grid_auto_rows": null,
            "grid_column": null,
            "grid_gap": null,
            "grid_row": null,
            "grid_template_areas": null,
            "grid_template_columns": null,
            "grid_template_rows": null,
            "height": null,
            "justify_content": null,
            "justify_items": null,
            "left": null,
            "margin": null,
            "max_height": null,
            "max_width": null,
            "min_height": null,
            "min_width": null,
            "object_fit": null,
            "object_position": null,
            "order": null,
            "overflow": null,
            "overflow_x": null,
            "overflow_y": null,
            "padding": null,
            "right": null,
            "top": null,
            "visibility": null,
            "width": null
          }
        },
        "ec0c9ac07ad84c50ae54c443643fc16c": {
          "model_module": "@jupyter-widgets/controls",
          "model_name": "DescriptionStyleModel",
          "model_module_version": "1.5.0",
          "state": {
            "_model_module": "@jupyter-widgets/controls",
            "_model_module_version": "1.5.0",
            "_model_name": "DescriptionStyleModel",
            "_view_count": null,
            "_view_module": "@jupyter-widgets/base",
            "_view_module_version": "1.2.0",
            "_view_name": "StyleView",
            "description_width": ""
          }
        },
        "f5853e86308d4beea4a0d30267c5e19d": {
          "model_module": "@jupyter-widgets/base",
          "model_name": "LayoutModel",
          "model_module_version": "1.2.0",
          "state": {
            "_model_module": "@jupyter-widgets/base",
            "_model_module_version": "1.2.0",
            "_model_name": "LayoutModel",
            "_view_count": null,
            "_view_module": "@jupyter-widgets/base",
            "_view_module_version": "1.2.0",
            "_view_name": "LayoutView",
            "align_content": null,
            "align_items": null,
            "align_self": null,
            "border": null,
            "bottom": null,
            "display": null,
            "flex": null,
            "flex_flow": null,
            "grid_area": null,
            "grid_auto_columns": null,
            "grid_auto_flow": null,
            "grid_auto_rows": null,
            "grid_column": null,
            "grid_gap": null,
            "grid_row": null,
            "grid_template_areas": null,
            "grid_template_columns": null,
            "grid_template_rows": null,
            "height": null,
            "justify_content": null,
            "justify_items": null,
            "left": null,
            "margin": null,
            "max_height": null,
            "max_width": null,
            "min_height": null,
            "min_width": null,
            "object_fit": null,
            "object_position": null,
            "order": null,
            "overflow": null,
            "overflow_x": null,
            "overflow_y": null,
            "padding": null,
            "right": null,
            "top": null,
            "visibility": null,
            "width": null
          }
        },
        "a0a7700fd26e45f096bf546f5f904e61": {
          "model_module": "@jupyter-widgets/controls",
          "model_name": "ProgressStyleModel",
          "model_module_version": "1.5.0",
          "state": {
            "_model_module": "@jupyter-widgets/controls",
            "_model_module_version": "1.5.0",
            "_model_name": "ProgressStyleModel",
            "_view_count": null,
            "_view_module": "@jupyter-widgets/base",
            "_view_module_version": "1.2.0",
            "_view_name": "StyleView",
            "bar_color": null,
            "description_width": ""
          }
        },
        "414430105e8748b586c956934307484b": {
          "model_module": "@jupyter-widgets/base",
          "model_name": "LayoutModel",
          "model_module_version": "1.2.0",
          "state": {
            "_model_module": "@jupyter-widgets/base",
            "_model_module_version": "1.2.0",
            "_model_name": "LayoutModel",
            "_view_count": null,
            "_view_module": "@jupyter-widgets/base",
            "_view_module_version": "1.2.0",
            "_view_name": "LayoutView",
            "align_content": null,
            "align_items": null,
            "align_self": null,
            "border": null,
            "bottom": null,
            "display": null,
            "flex": null,
            "flex_flow": null,
            "grid_area": null,
            "grid_auto_columns": null,
            "grid_auto_flow": null,
            "grid_auto_rows": null,
            "grid_column": null,
            "grid_gap": null,
            "grid_row": null,
            "grid_template_areas": null,
            "grid_template_columns": null,
            "grid_template_rows": null,
            "height": null,
            "justify_content": null,
            "justify_items": null,
            "left": null,
            "margin": null,
            "max_height": null,
            "max_width": null,
            "min_height": null,
            "min_width": null,
            "object_fit": null,
            "object_position": null,
            "order": null,
            "overflow": null,
            "overflow_x": null,
            "overflow_y": null,
            "padding": null,
            "right": null,
            "top": null,
            "visibility": null,
            "width": null
          }
        },
        "482e1a80299f4046a60258cb2e0dcfa1": {
          "model_module": "@jupyter-widgets/controls",
          "model_name": "DescriptionStyleModel",
          "model_module_version": "1.5.0",
          "state": {
            "_model_module": "@jupyter-widgets/controls",
            "_model_module_version": "1.5.0",
            "_model_name": "DescriptionStyleModel",
            "_view_count": null,
            "_view_module": "@jupyter-widgets/base",
            "_view_module_version": "1.2.0",
            "_view_name": "StyleView",
            "description_width": ""
          }
        },
        "759e7083336e4d60a99b78ffdd15b4e4": {
          "model_module": "@jupyter-widgets/controls",
          "model_name": "HBoxModel",
          "model_module_version": "1.5.0",
          "state": {
            "_dom_classes": [],
            "_model_module": "@jupyter-widgets/controls",
            "_model_module_version": "1.5.0",
            "_model_name": "HBoxModel",
            "_view_count": null,
            "_view_module": "@jupyter-widgets/controls",
            "_view_module_version": "1.5.0",
            "_view_name": "HBoxView",
            "box_style": "",
            "children": [
              "IPY_MODEL_4566118239094adcb7e92927b8ee6cc8",
              "IPY_MODEL_d8a3bb37655f4ebb8f0a3b4e4012713b",
              "IPY_MODEL_9a57d1ada94447c184b9ef8488a6f254"
            ],
            "layout": "IPY_MODEL_10d982435f6640f9b43167c0c83740b2"
          }
        },
        "4566118239094adcb7e92927b8ee6cc8": {
          "model_module": "@jupyter-widgets/controls",
          "model_name": "HTMLModel",
          "model_module_version": "1.5.0",
          "state": {
            "_dom_classes": [],
            "_model_module": "@jupyter-widgets/controls",
            "_model_module_version": "1.5.0",
            "_model_name": "HTMLModel",
            "_view_count": null,
            "_view_module": "@jupyter-widgets/controls",
            "_view_module_version": "1.5.0",
            "_view_name": "HTMLView",
            "description": "",
            "description_tooltip": null,
            "layout": "IPY_MODEL_c9fa954aecdd42f6bc235e4785b4ff74",
            "placeholder": "​",
            "style": "IPY_MODEL_72185144df0646619e6d72a52f6874ae",
            "value": "Validating: 100%"
          }
        },
        "d8a3bb37655f4ebb8f0a3b4e4012713b": {
          "model_module": "@jupyter-widgets/controls",
          "model_name": "FloatProgressModel",
          "model_module_version": "1.5.0",
          "state": {
            "_dom_classes": [],
            "_model_module": "@jupyter-widgets/controls",
            "_model_module_version": "1.5.0",
            "_model_name": "FloatProgressModel",
            "_view_count": null,
            "_view_module": "@jupyter-widgets/controls",
            "_view_module_version": "1.5.0",
            "_view_name": "ProgressView",
            "bar_style": "success",
            "description": "",
            "description_tooltip": null,
            "layout": "IPY_MODEL_cedfc37bfc06427890f4fffc30c0a8c4",
            "max": 49,
            "min": 0,
            "orientation": "horizontal",
            "style": "IPY_MODEL_a8bb05bc54f840288073d26fc910ef0c",
            "value": 49
          }
        },
        "9a57d1ada94447c184b9ef8488a6f254": {
          "model_module": "@jupyter-widgets/controls",
          "model_name": "HTMLModel",
          "model_module_version": "1.5.0",
          "state": {
            "_dom_classes": [],
            "_model_module": "@jupyter-widgets/controls",
            "_model_module_version": "1.5.0",
            "_model_name": "HTMLModel",
            "_view_count": null,
            "_view_module": "@jupyter-widgets/controls",
            "_view_module_version": "1.5.0",
            "_view_name": "HTMLView",
            "description": "",
            "description_tooltip": null,
            "layout": "IPY_MODEL_a4001fdf8ae349b3b6fdb2bdc8be788a",
            "placeholder": "​",
            "style": "IPY_MODEL_c56d2340112545d7b7abf0a03125e81e",
            "value": " 49/49 [00:03&lt;00:00, 14.37it/s]"
          }
        },
        "10d982435f6640f9b43167c0c83740b2": {
          "model_module": "@jupyter-widgets/base",
          "model_name": "LayoutModel",
          "model_module_version": "1.2.0",
          "state": {
            "_model_module": "@jupyter-widgets/base",
            "_model_module_version": "1.2.0",
            "_model_name": "LayoutModel",
            "_view_count": null,
            "_view_module": "@jupyter-widgets/base",
            "_view_module_version": "1.2.0",
            "_view_name": "LayoutView",
            "align_content": null,
            "align_items": null,
            "align_self": null,
            "border": null,
            "bottom": null,
            "display": null,
            "flex": null,
            "flex_flow": null,
            "grid_area": null,
            "grid_auto_columns": null,
            "grid_auto_flow": null,
            "grid_auto_rows": null,
            "grid_column": null,
            "grid_gap": null,
            "grid_row": null,
            "grid_template_areas": null,
            "grid_template_columns": null,
            "grid_template_rows": null,
            "height": null,
            "justify_content": null,
            "justify_items": null,
            "left": null,
            "margin": null,
            "max_height": null,
            "max_width": null,
            "min_height": null,
            "min_width": null,
            "object_fit": null,
            "object_position": null,
            "order": null,
            "overflow": null,
            "overflow_x": null,
            "overflow_y": null,
            "padding": null,
            "right": null,
            "top": null,
            "visibility": null,
            "width": null
          }
        },
        "c9fa954aecdd42f6bc235e4785b4ff74": {
          "model_module": "@jupyter-widgets/base",
          "model_name": "LayoutModel",
          "model_module_version": "1.2.0",
          "state": {
            "_model_module": "@jupyter-widgets/base",
            "_model_module_version": "1.2.0",
            "_model_name": "LayoutModel",
            "_view_count": null,
            "_view_module": "@jupyter-widgets/base",
            "_view_module_version": "1.2.0",
            "_view_name": "LayoutView",
            "align_content": null,
            "align_items": null,
            "align_self": null,
            "border": null,
            "bottom": null,
            "display": null,
            "flex": null,
            "flex_flow": null,
            "grid_area": null,
            "grid_auto_columns": null,
            "grid_auto_flow": null,
            "grid_auto_rows": null,
            "grid_column": null,
            "grid_gap": null,
            "grid_row": null,
            "grid_template_areas": null,
            "grid_template_columns": null,
            "grid_template_rows": null,
            "height": null,
            "justify_content": null,
            "justify_items": null,
            "left": null,
            "margin": null,
            "max_height": null,
            "max_width": null,
            "min_height": null,
            "min_width": null,
            "object_fit": null,
            "object_position": null,
            "order": null,
            "overflow": null,
            "overflow_x": null,
            "overflow_y": null,
            "padding": null,
            "right": null,
            "top": null,
            "visibility": null,
            "width": null
          }
        },
        "72185144df0646619e6d72a52f6874ae": {
          "model_module": "@jupyter-widgets/controls",
          "model_name": "DescriptionStyleModel",
          "model_module_version": "1.5.0",
          "state": {
            "_model_module": "@jupyter-widgets/controls",
            "_model_module_version": "1.5.0",
            "_model_name": "DescriptionStyleModel",
            "_view_count": null,
            "_view_module": "@jupyter-widgets/base",
            "_view_module_version": "1.2.0",
            "_view_name": "StyleView",
            "description_width": ""
          }
        },
        "cedfc37bfc06427890f4fffc30c0a8c4": {
          "model_module": "@jupyter-widgets/base",
          "model_name": "LayoutModel",
          "model_module_version": "1.2.0",
          "state": {
            "_model_module": "@jupyter-widgets/base",
            "_model_module_version": "1.2.0",
            "_model_name": "LayoutModel",
            "_view_count": null,
            "_view_module": "@jupyter-widgets/base",
            "_view_module_version": "1.2.0",
            "_view_name": "LayoutView",
            "align_content": null,
            "align_items": null,
            "align_self": null,
            "border": null,
            "bottom": null,
            "display": null,
            "flex": null,
            "flex_flow": null,
            "grid_area": null,
            "grid_auto_columns": null,
            "grid_auto_flow": null,
            "grid_auto_rows": null,
            "grid_column": null,
            "grid_gap": null,
            "grid_row": null,
            "grid_template_areas": null,
            "grid_template_columns": null,
            "grid_template_rows": null,
            "height": null,
            "justify_content": null,
            "justify_items": null,
            "left": null,
            "margin": null,
            "max_height": null,
            "max_width": null,
            "min_height": null,
            "min_width": null,
            "object_fit": null,
            "object_position": null,
            "order": null,
            "overflow": null,
            "overflow_x": null,
            "overflow_y": null,
            "padding": null,
            "right": null,
            "top": null,
            "visibility": null,
            "width": null
          }
        },
        "a8bb05bc54f840288073d26fc910ef0c": {
          "model_module": "@jupyter-widgets/controls",
          "model_name": "ProgressStyleModel",
          "model_module_version": "1.5.0",
          "state": {
            "_model_module": "@jupyter-widgets/controls",
            "_model_module_version": "1.5.0",
            "_model_name": "ProgressStyleModel",
            "_view_count": null,
            "_view_module": "@jupyter-widgets/base",
            "_view_module_version": "1.2.0",
            "_view_name": "StyleView",
            "bar_color": null,
            "description_width": ""
          }
        },
        "a4001fdf8ae349b3b6fdb2bdc8be788a": {
          "model_module": "@jupyter-widgets/base",
          "model_name": "LayoutModel",
          "model_module_version": "1.2.0",
          "state": {
            "_model_module": "@jupyter-widgets/base",
            "_model_module_version": "1.2.0",
            "_model_name": "LayoutModel",
            "_view_count": null,
            "_view_module": "@jupyter-widgets/base",
            "_view_module_version": "1.2.0",
            "_view_name": "LayoutView",
            "align_content": null,
            "align_items": null,
            "align_self": null,
            "border": null,
            "bottom": null,
            "display": null,
            "flex": null,
            "flex_flow": null,
            "grid_area": null,
            "grid_auto_columns": null,
            "grid_auto_flow": null,
            "grid_auto_rows": null,
            "grid_column": null,
            "grid_gap": null,
            "grid_row": null,
            "grid_template_areas": null,
            "grid_template_columns": null,
            "grid_template_rows": null,
            "height": null,
            "justify_content": null,
            "justify_items": null,
            "left": null,
            "margin": null,
            "max_height": null,
            "max_width": null,
            "min_height": null,
            "min_width": null,
            "object_fit": null,
            "object_position": null,
            "order": null,
            "overflow": null,
            "overflow_x": null,
            "overflow_y": null,
            "padding": null,
            "right": null,
            "top": null,
            "visibility": null,
            "width": null
          }
        },
        "c56d2340112545d7b7abf0a03125e81e": {
          "model_module": "@jupyter-widgets/controls",
          "model_name": "DescriptionStyleModel",
          "model_module_version": "1.5.0",
          "state": {
            "_model_module": "@jupyter-widgets/controls",
            "_model_module_version": "1.5.0",
            "_model_name": "DescriptionStyleModel",
            "_view_count": null,
            "_view_module": "@jupyter-widgets/base",
            "_view_module_version": "1.2.0",
            "_view_name": "StyleView",
            "description_width": ""
          }
        },
        "dacad12f084245aba5c2424aeb9ca609": {
          "model_module": "@jupyter-widgets/controls",
          "model_name": "HBoxModel",
          "model_module_version": "1.5.0",
          "state": {
            "_dom_classes": [],
            "_model_module": "@jupyter-widgets/controls",
            "_model_module_version": "1.5.0",
            "_model_name": "HBoxModel",
            "_view_count": null,
            "_view_module": "@jupyter-widgets/controls",
            "_view_module_version": "1.5.0",
            "_view_name": "HBoxView",
            "box_style": "",
            "children": [
              "IPY_MODEL_00b0ce4580794656ac2fa0b2d22a1621",
              "IPY_MODEL_e30f71c2bb5a496fa4a53482133df70d",
              "IPY_MODEL_e03a581d0ed042d3a9af5b28758bb60a"
            ],
            "layout": "IPY_MODEL_3b1712b2c9524a35a4a6a854110ca3a9"
          }
        },
        "00b0ce4580794656ac2fa0b2d22a1621": {
          "model_module": "@jupyter-widgets/controls",
          "model_name": "HTMLModel",
          "model_module_version": "1.5.0",
          "state": {
            "_dom_classes": [],
            "_model_module": "@jupyter-widgets/controls",
            "_model_module_version": "1.5.0",
            "_model_name": "HTMLModel",
            "_view_count": null,
            "_view_module": "@jupyter-widgets/controls",
            "_view_module_version": "1.5.0",
            "_view_name": "HTMLView",
            "description": "",
            "description_tooltip": null,
            "layout": "IPY_MODEL_84bc4b6c4ef3429ab4ce2d73ee235a18",
            "placeholder": "​",
            "style": "IPY_MODEL_a5123b8209cb479098ba6b2525e694ca",
            "value": "Training  : 100%"
          }
        },
        "e30f71c2bb5a496fa4a53482133df70d": {
          "model_module": "@jupyter-widgets/controls",
          "model_name": "FloatProgressModel",
          "model_module_version": "1.5.0",
          "state": {
            "_dom_classes": [],
            "_model_module": "@jupyter-widgets/controls",
            "_model_module_version": "1.5.0",
            "_model_name": "FloatProgressModel",
            "_view_count": null,
            "_view_module": "@jupyter-widgets/controls",
            "_view_module_version": "1.5.0",
            "_view_name": "ProgressView",
            "bar_style": "success",
            "description": "",
            "description_tooltip": null,
            "layout": "IPY_MODEL_ffefc65589ce4dcab7f32a202c30e170",
            "max": 110,
            "min": 0,
            "orientation": "horizontal",
            "style": "IPY_MODEL_6f46270ac93c4bdc820edb8ae673102c",
            "value": 110
          }
        },
        "e03a581d0ed042d3a9af5b28758bb60a": {
          "model_module": "@jupyter-widgets/controls",
          "model_name": "HTMLModel",
          "model_module_version": "1.5.0",
          "state": {
            "_dom_classes": [],
            "_model_module": "@jupyter-widgets/controls",
            "_model_module_version": "1.5.0",
            "_model_name": "HTMLModel",
            "_view_count": null,
            "_view_module": "@jupyter-widgets/controls",
            "_view_module_version": "1.5.0",
            "_view_name": "HTMLView",
            "description": "",
            "description_tooltip": null,
            "layout": "IPY_MODEL_79149cbb66c1460f971213248f253eee",
            "placeholder": "​",
            "style": "IPY_MODEL_66b4bbc19f5b4c7cb6911204dcfd4bb0",
            "value": " 110/110 [01:27&lt;00:00,  1.26it/s, loss=0.0655]"
          }
        },
        "3b1712b2c9524a35a4a6a854110ca3a9": {
          "model_module": "@jupyter-widgets/base",
          "model_name": "LayoutModel",
          "model_module_version": "1.2.0",
          "state": {
            "_model_module": "@jupyter-widgets/base",
            "_model_module_version": "1.2.0",
            "_model_name": "LayoutModel",
            "_view_count": null,
            "_view_module": "@jupyter-widgets/base",
            "_view_module_version": "1.2.0",
            "_view_name": "LayoutView",
            "align_content": null,
            "align_items": null,
            "align_self": null,
            "border": null,
            "bottom": null,
            "display": null,
            "flex": null,
            "flex_flow": null,
            "grid_area": null,
            "grid_auto_columns": null,
            "grid_auto_flow": null,
            "grid_auto_rows": null,
            "grid_column": null,
            "grid_gap": null,
            "grid_row": null,
            "grid_template_areas": null,
            "grid_template_columns": null,
            "grid_template_rows": null,
            "height": null,
            "justify_content": null,
            "justify_items": null,
            "left": null,
            "margin": null,
            "max_height": null,
            "max_width": null,
            "min_height": null,
            "min_width": null,
            "object_fit": null,
            "object_position": null,
            "order": null,
            "overflow": null,
            "overflow_x": null,
            "overflow_y": null,
            "padding": null,
            "right": null,
            "top": null,
            "visibility": null,
            "width": null
          }
        },
        "84bc4b6c4ef3429ab4ce2d73ee235a18": {
          "model_module": "@jupyter-widgets/base",
          "model_name": "LayoutModel",
          "model_module_version": "1.2.0",
          "state": {
            "_model_module": "@jupyter-widgets/base",
            "_model_module_version": "1.2.0",
            "_model_name": "LayoutModel",
            "_view_count": null,
            "_view_module": "@jupyter-widgets/base",
            "_view_module_version": "1.2.0",
            "_view_name": "LayoutView",
            "align_content": null,
            "align_items": null,
            "align_self": null,
            "border": null,
            "bottom": null,
            "display": null,
            "flex": null,
            "flex_flow": null,
            "grid_area": null,
            "grid_auto_columns": null,
            "grid_auto_flow": null,
            "grid_auto_rows": null,
            "grid_column": null,
            "grid_gap": null,
            "grid_row": null,
            "grid_template_areas": null,
            "grid_template_columns": null,
            "grid_template_rows": null,
            "height": null,
            "justify_content": null,
            "justify_items": null,
            "left": null,
            "margin": null,
            "max_height": null,
            "max_width": null,
            "min_height": null,
            "min_width": null,
            "object_fit": null,
            "object_position": null,
            "order": null,
            "overflow": null,
            "overflow_x": null,
            "overflow_y": null,
            "padding": null,
            "right": null,
            "top": null,
            "visibility": null,
            "width": null
          }
        },
        "a5123b8209cb479098ba6b2525e694ca": {
          "model_module": "@jupyter-widgets/controls",
          "model_name": "DescriptionStyleModel",
          "model_module_version": "1.5.0",
          "state": {
            "_model_module": "@jupyter-widgets/controls",
            "_model_module_version": "1.5.0",
            "_model_name": "DescriptionStyleModel",
            "_view_count": null,
            "_view_module": "@jupyter-widgets/base",
            "_view_module_version": "1.2.0",
            "_view_name": "StyleView",
            "description_width": ""
          }
        },
        "ffefc65589ce4dcab7f32a202c30e170": {
          "model_module": "@jupyter-widgets/base",
          "model_name": "LayoutModel",
          "model_module_version": "1.2.0",
          "state": {
            "_model_module": "@jupyter-widgets/base",
            "_model_module_version": "1.2.0",
            "_model_name": "LayoutModel",
            "_view_count": null,
            "_view_module": "@jupyter-widgets/base",
            "_view_module_version": "1.2.0",
            "_view_name": "LayoutView",
            "align_content": null,
            "align_items": null,
            "align_self": null,
            "border": null,
            "bottom": null,
            "display": null,
            "flex": null,
            "flex_flow": null,
            "grid_area": null,
            "grid_auto_columns": null,
            "grid_auto_flow": null,
            "grid_auto_rows": null,
            "grid_column": null,
            "grid_gap": null,
            "grid_row": null,
            "grid_template_areas": null,
            "grid_template_columns": null,
            "grid_template_rows": null,
            "height": null,
            "justify_content": null,
            "justify_items": null,
            "left": null,
            "margin": null,
            "max_height": null,
            "max_width": null,
            "min_height": null,
            "min_width": null,
            "object_fit": null,
            "object_position": null,
            "order": null,
            "overflow": null,
            "overflow_x": null,
            "overflow_y": null,
            "padding": null,
            "right": null,
            "top": null,
            "visibility": null,
            "width": null
          }
        },
        "6f46270ac93c4bdc820edb8ae673102c": {
          "model_module": "@jupyter-widgets/controls",
          "model_name": "ProgressStyleModel",
          "model_module_version": "1.5.0",
          "state": {
            "_model_module": "@jupyter-widgets/controls",
            "_model_module_version": "1.5.0",
            "_model_name": "ProgressStyleModel",
            "_view_count": null,
            "_view_module": "@jupyter-widgets/base",
            "_view_module_version": "1.2.0",
            "_view_name": "StyleView",
            "bar_color": null,
            "description_width": ""
          }
        },
        "79149cbb66c1460f971213248f253eee": {
          "model_module": "@jupyter-widgets/base",
          "model_name": "LayoutModel",
          "model_module_version": "1.2.0",
          "state": {
            "_model_module": "@jupyter-widgets/base",
            "_model_module_version": "1.2.0",
            "_model_name": "LayoutModel",
            "_view_count": null,
            "_view_module": "@jupyter-widgets/base",
            "_view_module_version": "1.2.0",
            "_view_name": "LayoutView",
            "align_content": null,
            "align_items": null,
            "align_self": null,
            "border": null,
            "bottom": null,
            "display": null,
            "flex": null,
            "flex_flow": null,
            "grid_area": null,
            "grid_auto_columns": null,
            "grid_auto_flow": null,
            "grid_auto_rows": null,
            "grid_column": null,
            "grid_gap": null,
            "grid_row": null,
            "grid_template_areas": null,
            "grid_template_columns": null,
            "grid_template_rows": null,
            "height": null,
            "justify_content": null,
            "justify_items": null,
            "left": null,
            "margin": null,
            "max_height": null,
            "max_width": null,
            "min_height": null,
            "min_width": null,
            "object_fit": null,
            "object_position": null,
            "order": null,
            "overflow": null,
            "overflow_x": null,
            "overflow_y": null,
            "padding": null,
            "right": null,
            "top": null,
            "visibility": null,
            "width": null
          }
        },
        "66b4bbc19f5b4c7cb6911204dcfd4bb0": {
          "model_module": "@jupyter-widgets/controls",
          "model_name": "DescriptionStyleModel",
          "model_module_version": "1.5.0",
          "state": {
            "_model_module": "@jupyter-widgets/controls",
            "_model_module_version": "1.5.0",
            "_model_name": "DescriptionStyleModel",
            "_view_count": null,
            "_view_module": "@jupyter-widgets/base",
            "_view_module_version": "1.2.0",
            "_view_name": "StyleView",
            "description_width": ""
          }
        },
        "b9932d2b564a4065bd220baefeefbddd": {
          "model_module": "@jupyter-widgets/controls",
          "model_name": "HBoxModel",
          "model_module_version": "1.5.0",
          "state": {
            "_dom_classes": [],
            "_model_module": "@jupyter-widgets/controls",
            "_model_module_version": "1.5.0",
            "_model_name": "HBoxModel",
            "_view_count": null,
            "_view_module": "@jupyter-widgets/controls",
            "_view_module_version": "1.5.0",
            "_view_name": "HBoxView",
            "box_style": "",
            "children": [
              "IPY_MODEL_3ea02da446c845558386f40f0b2a5233",
              "IPY_MODEL_7b8b1ce453914b82893360258ee95d99",
              "IPY_MODEL_34eff9cd7f54439f8ba685e3c63a923e"
            ],
            "layout": "IPY_MODEL_d5a8e03997ad46bcb8929386d4451a29"
          }
        },
        "3ea02da446c845558386f40f0b2a5233": {
          "model_module": "@jupyter-widgets/controls",
          "model_name": "HTMLModel",
          "model_module_version": "1.5.0",
          "state": {
            "_dom_classes": [],
            "_model_module": "@jupyter-widgets/controls",
            "_model_module_version": "1.5.0",
            "_model_name": "HTMLModel",
            "_view_count": null,
            "_view_module": "@jupyter-widgets/controls",
            "_view_module_version": "1.5.0",
            "_view_name": "HTMLView",
            "description": "",
            "description_tooltip": null,
            "layout": "IPY_MODEL_bff75754a4e149ec97923267286bdaf8",
            "placeholder": "​",
            "style": "IPY_MODEL_6d2d022d876941b2beb93b92d3d392de",
            "value": "Validating: 100%"
          }
        },
        "7b8b1ce453914b82893360258ee95d99": {
          "model_module": "@jupyter-widgets/controls",
          "model_name": "FloatProgressModel",
          "model_module_version": "1.5.0",
          "state": {
            "_dom_classes": [],
            "_model_module": "@jupyter-widgets/controls",
            "_model_module_version": "1.5.0",
            "_model_name": "FloatProgressModel",
            "_view_count": null,
            "_view_module": "@jupyter-widgets/controls",
            "_view_module_version": "1.5.0",
            "_view_name": "ProgressView",
            "bar_style": "success",
            "description": "",
            "description_tooltip": null,
            "layout": "IPY_MODEL_a8643013f57741e8ac25fc76307ea8ae",
            "max": 49,
            "min": 0,
            "orientation": "horizontal",
            "style": "IPY_MODEL_5a0043b4058e4ed8bc54a2bd4370baf4",
            "value": 49
          }
        },
        "34eff9cd7f54439f8ba685e3c63a923e": {
          "model_module": "@jupyter-widgets/controls",
          "model_name": "HTMLModel",
          "model_module_version": "1.5.0",
          "state": {
            "_dom_classes": [],
            "_model_module": "@jupyter-widgets/controls",
            "_model_module_version": "1.5.0",
            "_model_name": "HTMLModel",
            "_view_count": null,
            "_view_module": "@jupyter-widgets/controls",
            "_view_module_version": "1.5.0",
            "_view_name": "HTMLView",
            "description": "",
            "description_tooltip": null,
            "layout": "IPY_MODEL_3243889ee2ec45a8871bbab5fa4a89f0",
            "placeholder": "​",
            "style": "IPY_MODEL_36746b07fd6e4d6ab281a14f3b52bc26",
            "value": " 49/49 [00:04&lt;00:00, 14.24it/s]"
          }
        },
        "d5a8e03997ad46bcb8929386d4451a29": {
          "model_module": "@jupyter-widgets/base",
          "model_name": "LayoutModel",
          "model_module_version": "1.2.0",
          "state": {
            "_model_module": "@jupyter-widgets/base",
            "_model_module_version": "1.2.0",
            "_model_name": "LayoutModel",
            "_view_count": null,
            "_view_module": "@jupyter-widgets/base",
            "_view_module_version": "1.2.0",
            "_view_name": "LayoutView",
            "align_content": null,
            "align_items": null,
            "align_self": null,
            "border": null,
            "bottom": null,
            "display": null,
            "flex": null,
            "flex_flow": null,
            "grid_area": null,
            "grid_auto_columns": null,
            "grid_auto_flow": null,
            "grid_auto_rows": null,
            "grid_column": null,
            "grid_gap": null,
            "grid_row": null,
            "grid_template_areas": null,
            "grid_template_columns": null,
            "grid_template_rows": null,
            "height": null,
            "justify_content": null,
            "justify_items": null,
            "left": null,
            "margin": null,
            "max_height": null,
            "max_width": null,
            "min_height": null,
            "min_width": null,
            "object_fit": null,
            "object_position": null,
            "order": null,
            "overflow": null,
            "overflow_x": null,
            "overflow_y": null,
            "padding": null,
            "right": null,
            "top": null,
            "visibility": null,
            "width": null
          }
        },
        "bff75754a4e149ec97923267286bdaf8": {
          "model_module": "@jupyter-widgets/base",
          "model_name": "LayoutModel",
          "model_module_version": "1.2.0",
          "state": {
            "_model_module": "@jupyter-widgets/base",
            "_model_module_version": "1.2.0",
            "_model_name": "LayoutModel",
            "_view_count": null,
            "_view_module": "@jupyter-widgets/base",
            "_view_module_version": "1.2.0",
            "_view_name": "LayoutView",
            "align_content": null,
            "align_items": null,
            "align_self": null,
            "border": null,
            "bottom": null,
            "display": null,
            "flex": null,
            "flex_flow": null,
            "grid_area": null,
            "grid_auto_columns": null,
            "grid_auto_flow": null,
            "grid_auto_rows": null,
            "grid_column": null,
            "grid_gap": null,
            "grid_row": null,
            "grid_template_areas": null,
            "grid_template_columns": null,
            "grid_template_rows": null,
            "height": null,
            "justify_content": null,
            "justify_items": null,
            "left": null,
            "margin": null,
            "max_height": null,
            "max_width": null,
            "min_height": null,
            "min_width": null,
            "object_fit": null,
            "object_position": null,
            "order": null,
            "overflow": null,
            "overflow_x": null,
            "overflow_y": null,
            "padding": null,
            "right": null,
            "top": null,
            "visibility": null,
            "width": null
          }
        },
        "6d2d022d876941b2beb93b92d3d392de": {
          "model_module": "@jupyter-widgets/controls",
          "model_name": "DescriptionStyleModel",
          "model_module_version": "1.5.0",
          "state": {
            "_model_module": "@jupyter-widgets/controls",
            "_model_module_version": "1.5.0",
            "_model_name": "DescriptionStyleModel",
            "_view_count": null,
            "_view_module": "@jupyter-widgets/base",
            "_view_module_version": "1.2.0",
            "_view_name": "StyleView",
            "description_width": ""
          }
        },
        "a8643013f57741e8ac25fc76307ea8ae": {
          "model_module": "@jupyter-widgets/base",
          "model_name": "LayoutModel",
          "model_module_version": "1.2.0",
          "state": {
            "_model_module": "@jupyter-widgets/base",
            "_model_module_version": "1.2.0",
            "_model_name": "LayoutModel",
            "_view_count": null,
            "_view_module": "@jupyter-widgets/base",
            "_view_module_version": "1.2.0",
            "_view_name": "LayoutView",
            "align_content": null,
            "align_items": null,
            "align_self": null,
            "border": null,
            "bottom": null,
            "display": null,
            "flex": null,
            "flex_flow": null,
            "grid_area": null,
            "grid_auto_columns": null,
            "grid_auto_flow": null,
            "grid_auto_rows": null,
            "grid_column": null,
            "grid_gap": null,
            "grid_row": null,
            "grid_template_areas": null,
            "grid_template_columns": null,
            "grid_template_rows": null,
            "height": null,
            "justify_content": null,
            "justify_items": null,
            "left": null,
            "margin": null,
            "max_height": null,
            "max_width": null,
            "min_height": null,
            "min_width": null,
            "object_fit": null,
            "object_position": null,
            "order": null,
            "overflow": null,
            "overflow_x": null,
            "overflow_y": null,
            "padding": null,
            "right": null,
            "top": null,
            "visibility": null,
            "width": null
          }
        },
        "5a0043b4058e4ed8bc54a2bd4370baf4": {
          "model_module": "@jupyter-widgets/controls",
          "model_name": "ProgressStyleModel",
          "model_module_version": "1.5.0",
          "state": {
            "_model_module": "@jupyter-widgets/controls",
            "_model_module_version": "1.5.0",
            "_model_name": "ProgressStyleModel",
            "_view_count": null,
            "_view_module": "@jupyter-widgets/base",
            "_view_module_version": "1.2.0",
            "_view_name": "StyleView",
            "bar_color": null,
            "description_width": ""
          }
        },
        "3243889ee2ec45a8871bbab5fa4a89f0": {
          "model_module": "@jupyter-widgets/base",
          "model_name": "LayoutModel",
          "model_module_version": "1.2.0",
          "state": {
            "_model_module": "@jupyter-widgets/base",
            "_model_module_version": "1.2.0",
            "_model_name": "LayoutModel",
            "_view_count": null,
            "_view_module": "@jupyter-widgets/base",
            "_view_module_version": "1.2.0",
            "_view_name": "LayoutView",
            "align_content": null,
            "align_items": null,
            "align_self": null,
            "border": null,
            "bottom": null,
            "display": null,
            "flex": null,
            "flex_flow": null,
            "grid_area": null,
            "grid_auto_columns": null,
            "grid_auto_flow": null,
            "grid_auto_rows": null,
            "grid_column": null,
            "grid_gap": null,
            "grid_row": null,
            "grid_template_areas": null,
            "grid_template_columns": null,
            "grid_template_rows": null,
            "height": null,
            "justify_content": null,
            "justify_items": null,
            "left": null,
            "margin": null,
            "max_height": null,
            "max_width": null,
            "min_height": null,
            "min_width": null,
            "object_fit": null,
            "object_position": null,
            "order": null,
            "overflow": null,
            "overflow_x": null,
            "overflow_y": null,
            "padding": null,
            "right": null,
            "top": null,
            "visibility": null,
            "width": null
          }
        },
        "36746b07fd6e4d6ab281a14f3b52bc26": {
          "model_module": "@jupyter-widgets/controls",
          "model_name": "DescriptionStyleModel",
          "model_module_version": "1.5.0",
          "state": {
            "_model_module": "@jupyter-widgets/controls",
            "_model_module_version": "1.5.0",
            "_model_name": "DescriptionStyleModel",
            "_view_count": null,
            "_view_module": "@jupyter-widgets/base",
            "_view_module_version": "1.2.0",
            "_view_name": "StyleView",
            "description_width": ""
          }
        },
        "2f33124a00f44c73a51e6002e05ec54f": {
          "model_module": "@jupyter-widgets/controls",
          "model_name": "HBoxModel",
          "model_module_version": "1.5.0",
          "state": {
            "_dom_classes": [],
            "_model_module": "@jupyter-widgets/controls",
            "_model_module_version": "1.5.0",
            "_model_name": "HBoxModel",
            "_view_count": null,
            "_view_module": "@jupyter-widgets/controls",
            "_view_module_version": "1.5.0",
            "_view_name": "HBoxView",
            "box_style": "",
            "children": [
              "IPY_MODEL_7564700ec8674682961e50069e9556db",
              "IPY_MODEL_cc06c0a744a54ab9af8be4ebf40a541f",
              "IPY_MODEL_7444fbba802f43ebaef88a94a9402062"
            ],
            "layout": "IPY_MODEL_6f717341115047b8904b7d80afc900fa"
          }
        },
        "7564700ec8674682961e50069e9556db": {
          "model_module": "@jupyter-widgets/controls",
          "model_name": "HTMLModel",
          "model_module_version": "1.5.0",
          "state": {
            "_dom_classes": [],
            "_model_module": "@jupyter-widgets/controls",
            "_model_module_version": "1.5.0",
            "_model_name": "HTMLModel",
            "_view_count": null,
            "_view_module": "@jupyter-widgets/controls",
            "_view_module_version": "1.5.0",
            "_view_name": "HTMLView",
            "description": "",
            "description_tooltip": null,
            "layout": "IPY_MODEL_360acdce633342dd97992e6406a7f796",
            "placeholder": "​",
            "style": "IPY_MODEL_01561e46c5bf42a2866b30f65cc575b1",
            "value": "Predicting: 100%"
          }
        },
        "cc06c0a744a54ab9af8be4ebf40a541f": {
          "model_module": "@jupyter-widgets/controls",
          "model_name": "FloatProgressModel",
          "model_module_version": "1.5.0",
          "state": {
            "_dom_classes": [],
            "_model_module": "@jupyter-widgets/controls",
            "_model_module_version": "1.5.0",
            "_model_name": "FloatProgressModel",
            "_view_count": null,
            "_view_module": "@jupyter-widgets/controls",
            "_view_module_version": "1.5.0",
            "_view_name": "ProgressView",
            "bar_style": "success",
            "description": "",
            "description_tooltip": null,
            "layout": "IPY_MODEL_54fb1f07d849416bad9e8c91b1266362",
            "max": 242,
            "min": 0,
            "orientation": "horizontal",
            "style": "IPY_MODEL_bcc39ca61c4b4aa8867177c99203f365",
            "value": 242
          }
        },
        "7444fbba802f43ebaef88a94a9402062": {
          "model_module": "@jupyter-widgets/controls",
          "model_name": "HTMLModel",
          "model_module_version": "1.5.0",
          "state": {
            "_dom_classes": [],
            "_model_module": "@jupyter-widgets/controls",
            "_model_module_version": "1.5.0",
            "_model_name": "HTMLModel",
            "_view_count": null,
            "_view_module": "@jupyter-widgets/controls",
            "_view_module_version": "1.5.0",
            "_view_name": "HTMLView",
            "description": "",
            "description_tooltip": null,
            "layout": "IPY_MODEL_a6979c943c274dec9e8387d1f74fa273",
            "placeholder": "​",
            "style": "IPY_MODEL_38ca001e970b46669d7a07aedf1d406d",
            "value": " 242/242 [00:17&lt;00:00, 14.15it/s]"
          }
        },
        "6f717341115047b8904b7d80afc900fa": {
          "model_module": "@jupyter-widgets/base",
          "model_name": "LayoutModel",
          "model_module_version": "1.2.0",
          "state": {
            "_model_module": "@jupyter-widgets/base",
            "_model_module_version": "1.2.0",
            "_model_name": "LayoutModel",
            "_view_count": null,
            "_view_module": "@jupyter-widgets/base",
            "_view_module_version": "1.2.0",
            "_view_name": "LayoutView",
            "align_content": null,
            "align_items": null,
            "align_self": null,
            "border": null,
            "bottom": null,
            "display": null,
            "flex": null,
            "flex_flow": null,
            "grid_area": null,
            "grid_auto_columns": null,
            "grid_auto_flow": null,
            "grid_auto_rows": null,
            "grid_column": null,
            "grid_gap": null,
            "grid_row": null,
            "grid_template_areas": null,
            "grid_template_columns": null,
            "grid_template_rows": null,
            "height": null,
            "justify_content": null,
            "justify_items": null,
            "left": null,
            "margin": null,
            "max_height": null,
            "max_width": null,
            "min_height": null,
            "min_width": null,
            "object_fit": null,
            "object_position": null,
            "order": null,
            "overflow": null,
            "overflow_x": null,
            "overflow_y": null,
            "padding": null,
            "right": null,
            "top": null,
            "visibility": null,
            "width": null
          }
        },
        "360acdce633342dd97992e6406a7f796": {
          "model_module": "@jupyter-widgets/base",
          "model_name": "LayoutModel",
          "model_module_version": "1.2.0",
          "state": {
            "_model_module": "@jupyter-widgets/base",
            "_model_module_version": "1.2.0",
            "_model_name": "LayoutModel",
            "_view_count": null,
            "_view_module": "@jupyter-widgets/base",
            "_view_module_version": "1.2.0",
            "_view_name": "LayoutView",
            "align_content": null,
            "align_items": null,
            "align_self": null,
            "border": null,
            "bottom": null,
            "display": null,
            "flex": null,
            "flex_flow": null,
            "grid_area": null,
            "grid_auto_columns": null,
            "grid_auto_flow": null,
            "grid_auto_rows": null,
            "grid_column": null,
            "grid_gap": null,
            "grid_row": null,
            "grid_template_areas": null,
            "grid_template_columns": null,
            "grid_template_rows": null,
            "height": null,
            "justify_content": null,
            "justify_items": null,
            "left": null,
            "margin": null,
            "max_height": null,
            "max_width": null,
            "min_height": null,
            "min_width": null,
            "object_fit": null,
            "object_position": null,
            "order": null,
            "overflow": null,
            "overflow_x": null,
            "overflow_y": null,
            "padding": null,
            "right": null,
            "top": null,
            "visibility": null,
            "width": null
          }
        },
        "01561e46c5bf42a2866b30f65cc575b1": {
          "model_module": "@jupyter-widgets/controls",
          "model_name": "DescriptionStyleModel",
          "model_module_version": "1.5.0",
          "state": {
            "_model_module": "@jupyter-widgets/controls",
            "_model_module_version": "1.5.0",
            "_model_name": "DescriptionStyleModel",
            "_view_count": null,
            "_view_module": "@jupyter-widgets/base",
            "_view_module_version": "1.2.0",
            "_view_name": "StyleView",
            "description_width": ""
          }
        },
        "54fb1f07d849416bad9e8c91b1266362": {
          "model_module": "@jupyter-widgets/base",
          "model_name": "LayoutModel",
          "model_module_version": "1.2.0",
          "state": {
            "_model_module": "@jupyter-widgets/base",
            "_model_module_version": "1.2.0",
            "_model_name": "LayoutModel",
            "_view_count": null,
            "_view_module": "@jupyter-widgets/base",
            "_view_module_version": "1.2.0",
            "_view_name": "LayoutView",
            "align_content": null,
            "align_items": null,
            "align_self": null,
            "border": null,
            "bottom": null,
            "display": null,
            "flex": null,
            "flex_flow": null,
            "grid_area": null,
            "grid_auto_columns": null,
            "grid_auto_flow": null,
            "grid_auto_rows": null,
            "grid_column": null,
            "grid_gap": null,
            "grid_row": null,
            "grid_template_areas": null,
            "grid_template_columns": null,
            "grid_template_rows": null,
            "height": null,
            "justify_content": null,
            "justify_items": null,
            "left": null,
            "margin": null,
            "max_height": null,
            "max_width": null,
            "min_height": null,
            "min_width": null,
            "object_fit": null,
            "object_position": null,
            "order": null,
            "overflow": null,
            "overflow_x": null,
            "overflow_y": null,
            "padding": null,
            "right": null,
            "top": null,
            "visibility": null,
            "width": null
          }
        },
        "bcc39ca61c4b4aa8867177c99203f365": {
          "model_module": "@jupyter-widgets/controls",
          "model_name": "ProgressStyleModel",
          "model_module_version": "1.5.0",
          "state": {
            "_model_module": "@jupyter-widgets/controls",
            "_model_module_version": "1.5.0",
            "_model_name": "ProgressStyleModel",
            "_view_count": null,
            "_view_module": "@jupyter-widgets/base",
            "_view_module_version": "1.2.0",
            "_view_name": "StyleView",
            "bar_color": null,
            "description_width": ""
          }
        },
        "a6979c943c274dec9e8387d1f74fa273": {
          "model_module": "@jupyter-widgets/base",
          "model_name": "LayoutModel",
          "model_module_version": "1.2.0",
          "state": {
            "_model_module": "@jupyter-widgets/base",
            "_model_module_version": "1.2.0",
            "_model_name": "LayoutModel",
            "_view_count": null,
            "_view_module": "@jupyter-widgets/base",
            "_view_module_version": "1.2.0",
            "_view_name": "LayoutView",
            "align_content": null,
            "align_items": null,
            "align_self": null,
            "border": null,
            "bottom": null,
            "display": null,
            "flex": null,
            "flex_flow": null,
            "grid_area": null,
            "grid_auto_columns": null,
            "grid_auto_flow": null,
            "grid_auto_rows": null,
            "grid_column": null,
            "grid_gap": null,
            "grid_row": null,
            "grid_template_areas": null,
            "grid_template_columns": null,
            "grid_template_rows": null,
            "height": null,
            "justify_content": null,
            "justify_items": null,
            "left": null,
            "margin": null,
            "max_height": null,
            "max_width": null,
            "min_height": null,
            "min_width": null,
            "object_fit": null,
            "object_position": null,
            "order": null,
            "overflow": null,
            "overflow_x": null,
            "overflow_y": null,
            "padding": null,
            "right": null,
            "top": null,
            "visibility": null,
            "width": null
          }
        },
        "38ca001e970b46669d7a07aedf1d406d": {
          "model_module": "@jupyter-widgets/controls",
          "model_name": "DescriptionStyleModel",
          "model_module_version": "1.5.0",
          "state": {
            "_model_module": "@jupyter-widgets/controls",
            "_model_module_version": "1.5.0",
            "_model_name": "DescriptionStyleModel",
            "_view_count": null,
            "_view_module": "@jupyter-widgets/base",
            "_view_module_version": "1.2.0",
            "_view_name": "StyleView",
            "description_width": ""
          }
        }
      }
    }
  },
  "cells": [
    {
      "cell_type": "markdown",
      "metadata": {
        "id": "view-in-github",
        "colab_type": "text"
      },
      "source": [
        "<a href=\"https://colab.research.google.com/github/gremlin97/Hard-Debias/blob/main/HardDebiasGWE.ipynb\" target=\"_parent\"><img src=\"https://colab.research.google.com/assets/colab-badge.svg\" alt=\"Open In Colab\"/></a>"
      ]
    },
    {
      "cell_type": "code",
      "execution_count": 1,
      "metadata": {
        "colab": {
          "base_uri": "https://localhost:8080/"
        },
        "id": "QkOtEcRn0OIs",
        "outputId": "b7d088cd-f373-4f8f-af7a-f99f7eb1d58d"
      },
      "outputs": [
        {
          "output_type": "stream",
          "name": "stdout",
          "text": [
            "Cloning into 'CSE575-Project'...\n",
            "remote: Enumerating objects: 33, done.\u001b[K\n",
            "remote: Counting objects: 100% (33/33), done.\u001b[K\n",
            "remote: Compressing objects: 100% (26/26), done.\u001b[K\n",
            "remote: Total 33 (delta 9), reused 30 (delta 6), pack-reused 0\u001b[K\n",
            "Unpacking objects: 100% (33/33), done.\n"
          ]
        }
      ],
      "source": [
        "!git clone https://github.com/AdamMiyauchi/CSE575-Project.git"
      ]
    },
    {
      "cell_type": "code",
      "source": [
        "import pandas as pd\n",
        "import numpy as np\n",
        "\n",
        "from IPython.core.interactiveshell import InteractiveShell\n",
        "InteractiveShell.ast_node_interactivity = 'all'\n",
        "pd.options.display.max_rows = 999\n",
        "pd.options.display.max_columns = 999"
      ],
      "metadata": {
        "id": "raSDTOQh1IzK"
      },
      "execution_count": 2,
      "outputs": []
    },
    {
      "cell_type": "code",
      "source": [
        "!ls"
      ],
      "metadata": {
        "colab": {
          "base_uri": "https://localhost:8080/"
        },
        "id": "GsFgePw11xvY",
        "outputId": "d1d34b33-1bbb-49f1-da87-11ea2c711ef2"
      },
      "execution_count": 3,
      "outputs": [
        {
          "output_type": "stream",
          "name": "stdout",
          "text": [
            "CSE575-Project\tsample_data\n"
          ]
        }
      ]
    },
    {
      "cell_type": "code",
      "source": [
        "df = pd.concat([\n",
        "    pd.read_csv('CSE575-Project/data/2018-E-c-En-train.tsv', delimiter='\\t', encoding='utf-8', na_values='NONE'),\n",
        "    pd.read_csv('CSE575-Project/data/2018-E-c-En-test.tsv', delimiter='\\t', encoding='utf-8', na_values='NONE'),\n",
        "    pd.read_csv('CSE575-Project/data/2018-E-c-En-dev.tsv', delimiter='\\t', encoding='utf-8', na_values='NONE'),\n",
        "])\n",
        "df = (df\n",
        "    .drop('ID', axis=1)\n",
        "    .rename(columns={'Tweet': 'text'})\n",
        ")\n",
        "\n",
        "df['emotion'] = df.iloc[:, 1:].idxmax(1)\n",
        "df = df[df['emotion'].isin(['anger', 'fear', 'joy', 'sadness'])]\n",
        "df = df[['text', 'emotion']]\n",
        "\n",
        "print('Total number of samples: ', df.shape)\n",
        "df.sample(10)\n",
        "print('Number of samples in each emotion class: ')\n",
        "df['emotion'].value_counts()"
      ],
      "metadata": {
        "colab": {
          "base_uri": "https://localhost:8080/",
          "height": 489
        },
        "id": "GFW0t_Wz1jqD",
        "outputId": "d43f7101-a028-4150-96a5-a556b874e016"
      },
      "execution_count": 4,
      "outputs": [
        {
          "output_type": "stream",
          "name": "stdout",
          "text": [
            "Total number of samples:  (5847, 2)\n"
          ]
        },
        {
          "output_type": "execute_result",
          "data": {
            "text/plain": [
              "                                                   text emotion\n",
              "2594                   GKN so lively as well, mad quick     joy\n",
              "6403  @britishairways term 5 security queues at arri...   anger\n",
              "3603  The #Texans should never play a prime time gam...   anger\n",
              "6238  @EducatedNPetty white pricks that were laughin...   anger\n",
              "4543  @Roger_Dagenham Aye. There's a brief window in...   anger\n",
              "4852  last nigt i dreamt \\nthat somebody loved me\\nn...     joy\n",
              "2823  . @KotakBankLtd @udaykotak official got in tou...   anger\n",
              "871   @ProfessorF @Mediaite @law_newz Childish tempe...   anger\n",
              "2374                     Food that gets delivered 😍🙌🏻       joy\n",
              "4013             @simmy_hanley @Schrise also a #delight     joy"
            ],
            "text/html": [
              "\n",
              "  <div id=\"df-5074669e-b611-4996-9a41-ae7450237b75\">\n",
              "    <div class=\"colab-df-container\">\n",
              "      <div>\n",
              "<style scoped>\n",
              "    .dataframe tbody tr th:only-of-type {\n",
              "        vertical-align: middle;\n",
              "    }\n",
              "\n",
              "    .dataframe tbody tr th {\n",
              "        vertical-align: top;\n",
              "    }\n",
              "\n",
              "    .dataframe thead th {\n",
              "        text-align: right;\n",
              "    }\n",
              "</style>\n",
              "<table border=\"1\" class=\"dataframe\">\n",
              "  <thead>\n",
              "    <tr style=\"text-align: right;\">\n",
              "      <th></th>\n",
              "      <th>text</th>\n",
              "      <th>emotion</th>\n",
              "    </tr>\n",
              "  </thead>\n",
              "  <tbody>\n",
              "    <tr>\n",
              "      <th>2594</th>\n",
              "      <td>GKN so lively as well, mad quick</td>\n",
              "      <td>joy</td>\n",
              "    </tr>\n",
              "    <tr>\n",
              "      <th>6403</th>\n",
              "      <td>@britishairways term 5 security queues at arri...</td>\n",
              "      <td>anger</td>\n",
              "    </tr>\n",
              "    <tr>\n",
              "      <th>3603</th>\n",
              "      <td>The #Texans should never play a prime time gam...</td>\n",
              "      <td>anger</td>\n",
              "    </tr>\n",
              "    <tr>\n",
              "      <th>6238</th>\n",
              "      <td>@EducatedNPetty white pricks that were laughin...</td>\n",
              "      <td>anger</td>\n",
              "    </tr>\n",
              "    <tr>\n",
              "      <th>4543</th>\n",
              "      <td>@Roger_Dagenham Aye. There's a brief window in...</td>\n",
              "      <td>anger</td>\n",
              "    </tr>\n",
              "    <tr>\n",
              "      <th>4852</th>\n",
              "      <td>last nigt i dreamt \\nthat somebody loved me\\nn...</td>\n",
              "      <td>joy</td>\n",
              "    </tr>\n",
              "    <tr>\n",
              "      <th>2823</th>\n",
              "      <td>. @KotakBankLtd @udaykotak official got in tou...</td>\n",
              "      <td>anger</td>\n",
              "    </tr>\n",
              "    <tr>\n",
              "      <th>871</th>\n",
              "      <td>@ProfessorF @Mediaite @law_newz Childish tempe...</td>\n",
              "      <td>anger</td>\n",
              "    </tr>\n",
              "    <tr>\n",
              "      <th>2374</th>\n",
              "      <td>Food that gets delivered 😍🙌🏻</td>\n",
              "      <td>joy</td>\n",
              "    </tr>\n",
              "    <tr>\n",
              "      <th>4013</th>\n",
              "      <td>@simmy_hanley @Schrise also a #delight</td>\n",
              "      <td>joy</td>\n",
              "    </tr>\n",
              "  </tbody>\n",
              "</table>\n",
              "</div>\n",
              "      <button class=\"colab-df-convert\" onclick=\"convertToInteractive('df-5074669e-b611-4996-9a41-ae7450237b75')\"\n",
              "              title=\"Convert this dataframe to an interactive table.\"\n",
              "              style=\"display:none;\">\n",
              "        \n",
              "  <svg xmlns=\"http://www.w3.org/2000/svg\" height=\"24px\"viewBox=\"0 0 24 24\"\n",
              "       width=\"24px\">\n",
              "    <path d=\"M0 0h24v24H0V0z\" fill=\"none\"/>\n",
              "    <path d=\"M18.56 5.44l.94 2.06.94-2.06 2.06-.94-2.06-.94-.94-2.06-.94 2.06-2.06.94zm-11 1L8.5 8.5l.94-2.06 2.06-.94-2.06-.94L8.5 2.5l-.94 2.06-2.06.94zm10 10l.94 2.06.94-2.06 2.06-.94-2.06-.94-.94-2.06-.94 2.06-2.06.94z\"/><path d=\"M17.41 7.96l-1.37-1.37c-.4-.4-.92-.59-1.43-.59-.52 0-1.04.2-1.43.59L10.3 9.45l-7.72 7.72c-.78.78-.78 2.05 0 2.83L4 21.41c.39.39.9.59 1.41.59.51 0 1.02-.2 1.41-.59l7.78-7.78 2.81-2.81c.8-.78.8-2.07 0-2.86zM5.41 20L4 18.59l7.72-7.72 1.47 1.35L5.41 20z\"/>\n",
              "  </svg>\n",
              "      </button>\n",
              "      \n",
              "  <style>\n",
              "    .colab-df-container {\n",
              "      display:flex;\n",
              "      flex-wrap:wrap;\n",
              "      gap: 12px;\n",
              "    }\n",
              "\n",
              "    .colab-df-convert {\n",
              "      background-color: #E8F0FE;\n",
              "      border: none;\n",
              "      border-radius: 50%;\n",
              "      cursor: pointer;\n",
              "      display: none;\n",
              "      fill: #1967D2;\n",
              "      height: 32px;\n",
              "      padding: 0 0 0 0;\n",
              "      width: 32px;\n",
              "    }\n",
              "\n",
              "    .colab-df-convert:hover {\n",
              "      background-color: #E2EBFA;\n",
              "      box-shadow: 0px 1px 2px rgba(60, 64, 67, 0.3), 0px 1px 3px 1px rgba(60, 64, 67, 0.15);\n",
              "      fill: #174EA6;\n",
              "    }\n",
              "\n",
              "    [theme=dark] .colab-df-convert {\n",
              "      background-color: #3B4455;\n",
              "      fill: #D2E3FC;\n",
              "    }\n",
              "\n",
              "    [theme=dark] .colab-df-convert:hover {\n",
              "      background-color: #434B5C;\n",
              "      box-shadow: 0px 1px 3px 1px rgba(0, 0, 0, 0.15);\n",
              "      filter: drop-shadow(0px 1px 2px rgba(0, 0, 0, 0.3));\n",
              "      fill: #FFFFFF;\n",
              "    }\n",
              "  </style>\n",
              "\n",
              "      <script>\n",
              "        const buttonEl =\n",
              "          document.querySelector('#df-5074669e-b611-4996-9a41-ae7450237b75 button.colab-df-convert');\n",
              "        buttonEl.style.display =\n",
              "          google.colab.kernel.accessAllowed ? 'block' : 'none';\n",
              "\n",
              "        async function convertToInteractive(key) {\n",
              "          const element = document.querySelector('#df-5074669e-b611-4996-9a41-ae7450237b75');\n",
              "          const dataTable =\n",
              "            await google.colab.kernel.invokeFunction('convertToInteractive',\n",
              "                                                     [key], {});\n",
              "          if (!dataTable) return;\n",
              "\n",
              "          const docLinkHtml = 'Like what you see? Visit the ' +\n",
              "            '<a target=\"_blank\" href=https://colab.research.google.com/notebooks/data_table.ipynb>data table notebook</a>'\n",
              "            + ' to learn more about interactive tables.';\n",
              "          element.innerHTML = '';\n",
              "          dataTable['output_type'] = 'display_data';\n",
              "          await google.colab.output.renderOutput(dataTable, element);\n",
              "          const docLink = document.createElement('div');\n",
              "          docLink.innerHTML = docLinkHtml;\n",
              "          element.appendChild(docLink);\n",
              "        }\n",
              "      </script>\n",
              "    </div>\n",
              "  </div>\n",
              "  "
            ]
          },
          "metadata": {},
          "execution_count": 4
        },
        {
          "output_type": "stream",
          "name": "stdout",
          "text": [
            "Number of samples in each emotion class: \n"
          ]
        },
        {
          "output_type": "execute_result",
          "data": {
            "text/plain": [
              "anger      3077\n",
              "joy        1938\n",
              "fear        629\n",
              "sadness     203\n",
              "Name: emotion, dtype: int64"
            ]
          },
          "metadata": {},
          "execution_count": 4
        }
      ]
    },
    {
      "cell_type": "code",
      "source": [
        "!pip install emoji\n",
        "import nltk\n",
        "nltk.download('stopwords')"
      ],
      "metadata": {
        "colab": {
          "base_uri": "https://localhost:8080/"
        },
        "id": "Pru609Fv1_ic",
        "outputId": "e67ded87-271b-46aa-85bf-410bb2edb730"
      },
      "execution_count": 5,
      "outputs": [
        {
          "output_type": "stream",
          "name": "stdout",
          "text": [
            "Looking in indexes: https://pypi.org/simple, https://us-python.pkg.dev/colab-wheels/public/simple/\n",
            "Collecting emoji\n",
            "  Downloading emoji-2.2.0.tar.gz (240 kB)\n",
            "\u001b[K     |████████████████████████████████| 240 kB 5.6 MB/s \n",
            "\u001b[?25hBuilding wheels for collected packages: emoji\n",
            "  Building wheel for emoji (setup.py) ... \u001b[?25l\u001b[?25hdone\n",
            "  Created wheel for emoji: filename=emoji-2.2.0-py3-none-any.whl size=234927 sha256=50663b10f92f9fbb595186803bc7ec6d50e7cda083c8dabfe69414e4f5faca20\n",
            "  Stored in directory: /root/.cache/pip/wheels/f3/e3/f2/1de1c2e3ed742e1df73e0f15d58864e50c7e64f607b548d6cf\n",
            "Successfully built emoji\n",
            "Installing collected packages: emoji\n",
            "Successfully installed emoji-2.2.0\n"
          ]
        },
        {
          "output_type": "stream",
          "name": "stderr",
          "text": [
            "[nltk_data] Downloading package stopwords to /root/nltk_data...\n",
            "[nltk_data]   Unzipping corpora/stopwords.zip.\n"
          ]
        },
        {
          "output_type": "execute_result",
          "data": {
            "text/plain": [
              "True"
            ]
          },
          "metadata": {},
          "execution_count": 5
        }
      ]
    },
    {
      "cell_type": "code",
      "source": [
        "import string\n",
        "import nltk\n",
        "from nltk.corpus import stopwords\n",
        "import emoji\n",
        "import re\n",
        "\n",
        "def remove_punctuation(text):\n",
        "    ans = ''\n",
        "    for i in text:     \n",
        "        if i not in string.punctuation:\n",
        "            ans += i    \n",
        "    return ans\n",
        "\n",
        "def remove_stopwords(text):\n",
        "    return ' '.join([word for word in text.split(\" \") if word not in set(stopwords.words('english'))])\n",
        "\n",
        "def remove_emoji(text):\n",
        "    return emoji.demojize(text)\n",
        "\n",
        "def remove_url(text):\n",
        "    return re.sub(r\"http:\\S+\",'', text)\n",
        "\n",
        "def preprocess_text(text):\n",
        "    return remove_punctuation(remove_stopwords(remove_emoji(remove_url(text))))\n",
        "\n",
        "def emotion_to_int(emotion):\n",
        "    if emotion == 'sadness': return 0\n",
        "    elif emotion == 'anger': return 1\n",
        "    elif emotion == 'joy': return 2\n",
        "    elif emotion == 'fear': return 3\n",
        "    # else: return 4  # neutral\n",
        "\n",
        "def int_to_emotion(emotion_int):\n",
        "    if emotion_int == 0: return 'sadness'\n",
        "    elif emotion_int == 1: return 'anger'\n",
        "    elif emotion_int == 2: return 'joy'\n",
        "    elif emotion_int == 3: return 'fear'\n",
        "    # else: return 'neutral'  # neutral\n",
        "\n",
        "\n",
        "\n",
        "df['text'] = df['text'].apply(lambda x: preprocess_text(x))\n",
        "\n",
        "labels = ['sadness', 'anger', 'joy', 'fear']\n",
        "df['emotion'] = df['emotion'].apply(lambda x: emotion_to_int(x))"
      ],
      "metadata": {
        "id": "UqxJ_2FU1nYX"
      },
      "execution_count": 6,
      "outputs": []
    },
    {
      "cell_type": "code",
      "source": [
        "print('Total number of samples: ', df.shape)\n",
        "df.sample(10)\n",
        "print('Number of samples in each emotion class: ')\n",
        "df['emotion'].value_counts()"
      ],
      "metadata": {
        "colab": {
          "base_uri": "https://localhost:8080/",
          "height": 489
        },
        "id": "fAVYwH7rmaul",
        "outputId": "924d5521-5a3c-4589-9642-d12b55feadcd"
      },
      "execution_count": 7,
      "outputs": [
        {
          "output_type": "stream",
          "name": "stdout",
          "text": [
            "Total number of samples:  (5847, 2)\n"
          ]
        },
        {
          "output_type": "execute_result",
          "data": {
            "text/plain": [
              "                                                   text  emotion\n",
              "3594  Chick told I look like Childish Gambino insult...        1\n",
              "6693  SAHARTHERAPPER I unfollowed without hesitation...        1\n",
              "380           niceoneWern AlottaPain gleesome threesome        2\n",
              "1618  TheNiceBot WSJNordics You make world joyful pl...        2\n",
              "1890  Its easy fall asleep class hard bed True sober...        1\n",
              "5734      Never switched up stayed person since day one        2\n",
              "1406  aroseblush Hello nThe bigger bully crocodile t...        1\n",
              "4203  I get soooo nervous actually attractive guy tr...        3\n",
              "348                      Im shy girlfacewithrollingeyes        0\n",
              "2394  jccrocker CharlotteProtest u wait 4 facts vide...        0"
            ],
            "text/html": [
              "\n",
              "  <div id=\"df-d262f8ac-264e-4924-8052-f5dd808d7212\">\n",
              "    <div class=\"colab-df-container\">\n",
              "      <div>\n",
              "<style scoped>\n",
              "    .dataframe tbody tr th:only-of-type {\n",
              "        vertical-align: middle;\n",
              "    }\n",
              "\n",
              "    .dataframe tbody tr th {\n",
              "        vertical-align: top;\n",
              "    }\n",
              "\n",
              "    .dataframe thead th {\n",
              "        text-align: right;\n",
              "    }\n",
              "</style>\n",
              "<table border=\"1\" class=\"dataframe\">\n",
              "  <thead>\n",
              "    <tr style=\"text-align: right;\">\n",
              "      <th></th>\n",
              "      <th>text</th>\n",
              "      <th>emotion</th>\n",
              "    </tr>\n",
              "  </thead>\n",
              "  <tbody>\n",
              "    <tr>\n",
              "      <th>3594</th>\n",
              "      <td>Chick told I look like Childish Gambino insult...</td>\n",
              "      <td>1</td>\n",
              "    </tr>\n",
              "    <tr>\n",
              "      <th>6693</th>\n",
              "      <td>SAHARTHERAPPER I unfollowed without hesitation...</td>\n",
              "      <td>1</td>\n",
              "    </tr>\n",
              "    <tr>\n",
              "      <th>380</th>\n",
              "      <td>niceoneWern AlottaPain gleesome threesome</td>\n",
              "      <td>2</td>\n",
              "    </tr>\n",
              "    <tr>\n",
              "      <th>1618</th>\n",
              "      <td>TheNiceBot WSJNordics You make world joyful pl...</td>\n",
              "      <td>2</td>\n",
              "    </tr>\n",
              "    <tr>\n",
              "      <th>1890</th>\n",
              "      <td>Its easy fall asleep class hard bed True sober...</td>\n",
              "      <td>1</td>\n",
              "    </tr>\n",
              "    <tr>\n",
              "      <th>5734</th>\n",
              "      <td>Never switched up stayed person since day one</td>\n",
              "      <td>2</td>\n",
              "    </tr>\n",
              "    <tr>\n",
              "      <th>1406</th>\n",
              "      <td>aroseblush Hello nThe bigger bully crocodile t...</td>\n",
              "      <td>1</td>\n",
              "    </tr>\n",
              "    <tr>\n",
              "      <th>4203</th>\n",
              "      <td>I get soooo nervous actually attractive guy tr...</td>\n",
              "      <td>3</td>\n",
              "    </tr>\n",
              "    <tr>\n",
              "      <th>348</th>\n",
              "      <td>Im shy girlfacewithrollingeyes</td>\n",
              "      <td>0</td>\n",
              "    </tr>\n",
              "    <tr>\n",
              "      <th>2394</th>\n",
              "      <td>jccrocker CharlotteProtest u wait 4 facts vide...</td>\n",
              "      <td>0</td>\n",
              "    </tr>\n",
              "  </tbody>\n",
              "</table>\n",
              "</div>\n",
              "      <button class=\"colab-df-convert\" onclick=\"convertToInteractive('df-d262f8ac-264e-4924-8052-f5dd808d7212')\"\n",
              "              title=\"Convert this dataframe to an interactive table.\"\n",
              "              style=\"display:none;\">\n",
              "        \n",
              "  <svg xmlns=\"http://www.w3.org/2000/svg\" height=\"24px\"viewBox=\"0 0 24 24\"\n",
              "       width=\"24px\">\n",
              "    <path d=\"M0 0h24v24H0V0z\" fill=\"none\"/>\n",
              "    <path d=\"M18.56 5.44l.94 2.06.94-2.06 2.06-.94-2.06-.94-.94-2.06-.94 2.06-2.06.94zm-11 1L8.5 8.5l.94-2.06 2.06-.94-2.06-.94L8.5 2.5l-.94 2.06-2.06.94zm10 10l.94 2.06.94-2.06 2.06-.94-2.06-.94-.94-2.06-.94 2.06-2.06.94z\"/><path d=\"M17.41 7.96l-1.37-1.37c-.4-.4-.92-.59-1.43-.59-.52 0-1.04.2-1.43.59L10.3 9.45l-7.72 7.72c-.78.78-.78 2.05 0 2.83L4 21.41c.39.39.9.59 1.41.59.51 0 1.02-.2 1.41-.59l7.78-7.78 2.81-2.81c.8-.78.8-2.07 0-2.86zM5.41 20L4 18.59l7.72-7.72 1.47 1.35L5.41 20z\"/>\n",
              "  </svg>\n",
              "      </button>\n",
              "      \n",
              "  <style>\n",
              "    .colab-df-container {\n",
              "      display:flex;\n",
              "      flex-wrap:wrap;\n",
              "      gap: 12px;\n",
              "    }\n",
              "\n",
              "    .colab-df-convert {\n",
              "      background-color: #E8F0FE;\n",
              "      border: none;\n",
              "      border-radius: 50%;\n",
              "      cursor: pointer;\n",
              "      display: none;\n",
              "      fill: #1967D2;\n",
              "      height: 32px;\n",
              "      padding: 0 0 0 0;\n",
              "      width: 32px;\n",
              "    }\n",
              "\n",
              "    .colab-df-convert:hover {\n",
              "      background-color: #E2EBFA;\n",
              "      box-shadow: 0px 1px 2px rgba(60, 64, 67, 0.3), 0px 1px 3px 1px rgba(60, 64, 67, 0.15);\n",
              "      fill: #174EA6;\n",
              "    }\n",
              "\n",
              "    [theme=dark] .colab-df-convert {\n",
              "      background-color: #3B4455;\n",
              "      fill: #D2E3FC;\n",
              "    }\n",
              "\n",
              "    [theme=dark] .colab-df-convert:hover {\n",
              "      background-color: #434B5C;\n",
              "      box-shadow: 0px 1px 3px 1px rgba(0, 0, 0, 0.15);\n",
              "      filter: drop-shadow(0px 1px 2px rgba(0, 0, 0, 0.3));\n",
              "      fill: #FFFFFF;\n",
              "    }\n",
              "  </style>\n",
              "\n",
              "      <script>\n",
              "        const buttonEl =\n",
              "          document.querySelector('#df-d262f8ac-264e-4924-8052-f5dd808d7212 button.colab-df-convert');\n",
              "        buttonEl.style.display =\n",
              "          google.colab.kernel.accessAllowed ? 'block' : 'none';\n",
              "\n",
              "        async function convertToInteractive(key) {\n",
              "          const element = document.querySelector('#df-d262f8ac-264e-4924-8052-f5dd808d7212');\n",
              "          const dataTable =\n",
              "            await google.colab.kernel.invokeFunction('convertToInteractive',\n",
              "                                                     [key], {});\n",
              "          if (!dataTable) return;\n",
              "\n",
              "          const docLinkHtml = 'Like what you see? Visit the ' +\n",
              "            '<a target=\"_blank\" href=https://colab.research.google.com/notebooks/data_table.ipynb>data table notebook</a>'\n",
              "            + ' to learn more about interactive tables.';\n",
              "          element.innerHTML = '';\n",
              "          dataTable['output_type'] = 'display_data';\n",
              "          await google.colab.output.renderOutput(dataTable, element);\n",
              "          const docLink = document.createElement('div');\n",
              "          docLink.innerHTML = docLinkHtml;\n",
              "          element.appendChild(docLink);\n",
              "        }\n",
              "      </script>\n",
              "    </div>\n",
              "  </div>\n",
              "  "
            ]
          },
          "metadata": {},
          "execution_count": 7
        },
        {
          "output_type": "stream",
          "name": "stdout",
          "text": [
            "Number of samples in each emotion class: \n"
          ]
        },
        {
          "output_type": "execute_result",
          "data": {
            "text/plain": [
              "1    3077\n",
              "2    1938\n",
              "3     629\n",
              "0     203\n",
              "Name: emotion, dtype: int64"
            ]
          },
          "metadata": {},
          "execution_count": 7
        }
      ]
    },
    {
      "cell_type": "code",
      "source": [
        "from sklearn.model_selection import train_test_split\n",
        "\n",
        "X, y = df['text'], df['emotion']\n",
        "X_train, X_test, y_train, y_test = train_test_split(X, y, test_size=0.33, random_state=42)"
      ],
      "metadata": {
        "id": "-wq8JiKF17Lt"
      },
      "execution_count": 8,
      "outputs": []
    },
    {
      "cell_type": "code",
      "source": [
        "!git clone -b master https://github.com/charles9n/bert-sklearn"
      ],
      "metadata": {
        "colab": {
          "base_uri": "https://localhost:8080/"
        },
        "id": "-lonBCnV2_XQ",
        "outputId": "8d96e21a-d280-48ab-a629-8c7c56ed01f2"
      },
      "execution_count": null,
      "outputs": [
        {
          "output_type": "stream",
          "name": "stdout",
          "text": [
            "Cloning into 'bert-sklearn'...\n",
            "remote: Enumerating objects: 259, done.\u001b[K\n",
            "remote: Total 259 (delta 0), reused 0 (delta 0), pack-reused 259\u001b[K\n",
            "Receiving objects: 100% (259/259), 516.15 KiB | 10.32 MiB/s, done.\n",
            "Resolving deltas: 100% (131/131), done.\n"
          ]
        }
      ]
    },
    {
      "cell_type": "code",
      "source": [
        "%cd bert-sklearn/\n",
        "!ls"
      ],
      "metadata": {
        "colab": {
          "base_uri": "https://localhost:8080/"
        },
        "id": "tmEEAkV-3-mV",
        "outputId": "3b2252ba-2309-4f42-cad2-8b9acf2a6b12"
      },
      "execution_count": null,
      "outputs": [
        {
          "output_type": "stream",
          "name": "stdout",
          "text": [
            "/content/bert-sklearn\n",
            "bert_sklearn\t\t       glue_examples  other_examples  tests\n",
            "demo.ipynb\t\t       LICENSE\t      README.md\n",
            "demo_tuning_hyperparams.ipynb  Options.md     setup.py\n"
          ]
        }
      ]
    },
    {
      "cell_type": "code",
      "source": [
        "!pip install ."
      ],
      "metadata": {
        "colab": {
          "base_uri": "https://localhost:8080/"
        },
        "id": "WCReVCo_4ZNz",
        "outputId": "4d6249e6-13c2-492b-f98a-03bc350a9140"
      },
      "execution_count": null,
      "outputs": [
        {
          "output_type": "stream",
          "name": "stdout",
          "text": [
            "Looking in indexes: https://pypi.org/simple, https://us-python.pkg.dev/colab-wheels/public/simple/\n",
            "Processing /content/bert-sklearn\n",
            "\u001b[33m  DEPRECATION: A future pip version will change local packages to be built in-place without first copying to a temporary directory. We recommend you use --use-feature=in-tree-build to test your packages with this new behavior before it becomes the default.\n",
            "   pip 21.3 will remove support for this functionality. You can find discussion regarding this at https://github.com/pypa/pip/issues/7555.\u001b[0m\n",
            "Requirement already satisfied: torch>=0.4.1 in /usr/local/lib/python3.7/dist-packages (from bert-sklearn==0.3.1) (1.12.1+cu113)\n",
            "Requirement already satisfied: scikit-learn in /usr/local/lib/python3.7/dist-packages (from bert-sklearn==0.3.1) (1.0.2)\n",
            "Requirement already satisfied: numpy in /usr/local/lib/python3.7/dist-packages (from bert-sklearn==0.3.1) (1.21.6)\n",
            "Requirement already satisfied: pandas in /usr/local/lib/python3.7/dist-packages (from bert-sklearn==0.3.1) (1.3.5)\n",
            "Collecting boto3\n",
            "  Downloading boto3-1.26.8-py3-none-any.whl (132 kB)\n",
            "\u001b[K     |████████████████████████████████| 132 kB 26.3 MB/s \n",
            "\u001b[?25hRequirement already satisfied: requests in /usr/local/lib/python3.7/dist-packages (from bert-sklearn==0.3.1) (2.23.0)\n",
            "Requirement already satisfied: tqdm in /usr/local/lib/python3.7/dist-packages (from bert-sklearn==0.3.1) (4.64.1)\n",
            "Requirement already satisfied: typing-extensions in /usr/local/lib/python3.7/dist-packages (from torch>=0.4.1->bert-sklearn==0.3.1) (4.1.1)\n",
            "Collecting s3transfer<0.7.0,>=0.6.0\n",
            "  Downloading s3transfer-0.6.0-py3-none-any.whl (79 kB)\n",
            "\u001b[K     |████████████████████████████████| 79 kB 9.4 MB/s \n",
            "\u001b[?25hCollecting botocore<1.30.0,>=1.29.8\n",
            "  Downloading botocore-1.29.8-py3-none-any.whl (9.9 MB)\n",
            "\u001b[K     |████████████████████████████████| 9.9 MB 66.6 MB/s \n",
            "\u001b[?25hCollecting jmespath<2.0.0,>=0.7.1\n",
            "  Downloading jmespath-1.0.1-py3-none-any.whl (20 kB)\n",
            "Requirement already satisfied: python-dateutil<3.0.0,>=2.1 in /usr/local/lib/python3.7/dist-packages (from botocore<1.30.0,>=1.29.8->boto3->bert-sklearn==0.3.1) (2.8.2)\n",
            "Collecting urllib3<1.27,>=1.25.4\n",
            "  Downloading urllib3-1.26.12-py2.py3-none-any.whl (140 kB)\n",
            "\u001b[K     |████████████████████████████████| 140 kB 68.2 MB/s \n",
            "\u001b[?25hRequirement already satisfied: six>=1.5 in /usr/local/lib/python3.7/dist-packages (from python-dateutil<3.0.0,>=2.1->botocore<1.30.0,>=1.29.8->boto3->bert-sklearn==0.3.1) (1.15.0)\n",
            "Requirement already satisfied: pytz>=2017.3 in /usr/local/lib/python3.7/dist-packages (from pandas->bert-sklearn==0.3.1) (2022.6)\n",
            "Requirement already satisfied: chardet<4,>=3.0.2 in /usr/local/lib/python3.7/dist-packages (from requests->bert-sklearn==0.3.1) (3.0.4)\n",
            "Requirement already satisfied: idna<3,>=2.5 in /usr/local/lib/python3.7/dist-packages (from requests->bert-sklearn==0.3.1) (2.10)\n",
            "Requirement already satisfied: certifi>=2017.4.17 in /usr/local/lib/python3.7/dist-packages (from requests->bert-sklearn==0.3.1) (2022.9.24)\n",
            "  Downloading urllib3-1.25.11-py2.py3-none-any.whl (127 kB)\n",
            "\u001b[K     |████████████████████████████████| 127 kB 70.0 MB/s \n",
            "\u001b[?25hRequirement already satisfied: scipy>=1.1.0 in /usr/local/lib/python3.7/dist-packages (from scikit-learn->bert-sklearn==0.3.1) (1.7.3)\n",
            "Requirement already satisfied: joblib>=0.11 in /usr/local/lib/python3.7/dist-packages (from scikit-learn->bert-sklearn==0.3.1) (1.2.0)\n",
            "Requirement already satisfied: threadpoolctl>=2.0.0 in /usr/local/lib/python3.7/dist-packages (from scikit-learn->bert-sklearn==0.3.1) (3.1.0)\n",
            "Building wheels for collected packages: bert-sklearn\n",
            "  Building wheel for bert-sklearn (setup.py) ... \u001b[?25l\u001b[?25hdone\n",
            "  Created wheel for bert-sklearn: filename=bert_sklearn-0.3.1-py3-none-any.whl size=54248 sha256=b5a45ad01794a27c26563298a94171ac186e7e6fca5d59684112e26496d8ff05\n",
            "  Stored in directory: /root/.cache/pip/wheels/e7/d4/73/12b2219a5cd4cd8c7acfd72204603ce34b6d2e4f620b205a80\n",
            "Successfully built bert-sklearn\n",
            "Installing collected packages: urllib3, jmespath, botocore, s3transfer, boto3, bert-sklearn\n",
            "  Attempting uninstall: urllib3\n",
            "    Found existing installation: urllib3 1.24.3\n",
            "    Uninstalling urllib3-1.24.3:\n",
            "      Successfully uninstalled urllib3-1.24.3\n",
            "Successfully installed bert-sklearn-0.3.1 boto3-1.26.8 botocore-1.29.8 jmespath-1.0.1 s3transfer-0.6.0 urllib3-1.25.11\n"
          ]
        }
      ]
    },
    {
      "cell_type": "code",
      "source": [
        "from bert_sklearn import BertClassifier     \n",
        "from bert_sklearn import load_model\n",
        "import os\n",
        "os.environ[\"TOKENIZERS_PARALLELISM\"] = \"false\"\n",
        "\n",
        "baseline_BERT = BertClassifier()\n",
        "\n",
        "baseline_BERT.num_mlp_layers = 1\n",
        "baseline_BERT.epochs = 5 \n",
        "\n",
        "baseline_BERT.fit(X_train, y_train)\n",
        "baseline_BERT_df_pred = baseline_BERT.predict(X_test)\n",
        "\n",
        "savefile='/content/CSE575-Project/models/baselineBERT.bin'\n",
        "baseline_BERT.save(savefile)"
      ],
      "metadata": {
        "colab": {
          "base_uri": "https://localhost:8080/",
          "height": 794,
          "referenced_widgets": [
            "3af893c6309248028cbf6850068e91cf",
            "0b828ad917c24312b81e2370508e1c8c",
            "4cbe5ef5a5e34b78b4f02cf4a986c9fe",
            "dacc0959c6de41418e73625000934190",
            "1d1705d842e84e749cd8c764404ef7fc",
            "df8a06cf41504b12ad20785e59553b71",
            "314dbb8dacb8456e9aac74390add76b1",
            "b1b365e2344049038ff2ebb057766b0b",
            "23dc242685d347d0982814da6b5e9e59",
            "9567deb2b78c4baaa563e4c51feab166",
            "37478955bba04e719abd8358f965783d",
            "542769725bec4cd1b5d86bea49f84889",
            "86cb818cb9214274bedddf8cab906d83",
            "1bdbbc6ba71d4606a2878254688b334a",
            "a15a1ef480b24f57afa366a1793c4f35",
            "891cccc7b3534f8f8af537b243ccab91",
            "1c91d26e61774ac5824cc67de0b1854b",
            "264560d094ed4918a7eae04d82a839b2",
            "fec860c13fbc4f97b98debceb4e53852",
            "46ffc3b0eaf74cd68d474ef0cb68a642",
            "ba0dac45418e421b87946f881c235580",
            "75680a8ad03b47a5b52662d214b53b14",
            "6023b0b3abec4472acec6b9d3af29588",
            "62d6207af297416784df592209337857",
            "e3a449c474ef4be98222890d7f64587d",
            "6f7996f3d5264ed19f992ca5543f748a",
            "5ca35df9634c4fd79d3e4af754b43c17",
            "7020d85cdd3e4fa486d67cc9512e28fa",
            "473b27bee91c4138b884801b624e5fd5",
            "b502126025b944e79a3c0e44df304444",
            "df98a96e4df8412182f075a0d8ebdc61",
            "d8957d14901c4424beea817bee737b38",
            "c2a322095a47412ea1666c4a5c4fdc74",
            "f2e53cc3334f4c30b1341053be804f89",
            "d1232578086340c286d3cc1aa8b4414d",
            "f53f90c154a24436a49dd06aaf3f7c81",
            "35a1226157d64482aabecb86e612fc9d",
            "10b0ddbf11544ca7859b655b8e692670",
            "b66cd9321ae942448e06097438178221",
            "56368fe67d9c431f82c11dcff801691b",
            "2e10ceccede741c6b3b747a3cd2d9302",
            "597a3431f5f847b994fbc9e1a61eb26f",
            "e3929ad8b488425d83a263cc751b47f1",
            "c02d50c219e9491aae77b04054f79723",
            "5079f7baeccc4b62a38915cf4f0fe62f",
            "afcf32d054a545eb92aedc4b3bf77326",
            "c34e13c311704c7a97ffac76593573a8",
            "b414a7ba18de4d0e83a1ad4d0e6d5c16",
            "24d5975c59034245ab2eb9ae16fda2aa",
            "84fc12886b354e7fbe0057b21c6338d1",
            "b9ea416dd6894b09b17bad21f89ac661",
            "155002f11e7e4bf1a5247f267ca1ed2d",
            "d8415ec892074d15875ddac4b04bebbd",
            "c8b808f822d641a7a07c301eb878768d",
            "e7fb45f26c014f5797d8100e28d9493a",
            "aab1324ec485409babadb0b6f94a1f2b",
            "868fc994d9f8499b8ed043a1ca093c86",
            "1d11d07f6335499482dbc65a056dc12d",
            "c4fc0f21943241c98280d7b84efcd91a",
            "9c5de4425e824541a22ffbb13dc59441",
            "21219eafa0fc4d948007cd6abbc5d077",
            "7ffcc3e3e4f741d0ae2277bdec689100",
            "9c6063d1925b499ab84a9fdb7637dd02",
            "09ac80155e8145de82134915ef8286c6",
            "de31ef574ee14ff7bbd0ffa1d46ada49",
            "f20acad814194c2aa7ba2a59564458d7",
            "f920030977954689b7fdc695fd253d72",
            "0a6d8c6e4c2040bc8396220a701c49a3",
            "2e24453a788e4f9481461dfd81c3423c",
            "b2919b73aaa7479da298413fc481d281",
            "e9a29b5cba9843c0b9e5424ac4c9800f",
            "ae6108af798c4303bf8f094e9ab872fe",
            "ec0c9ac07ad84c50ae54c443643fc16c",
            "f5853e86308d4beea4a0d30267c5e19d",
            "a0a7700fd26e45f096bf546f5f904e61",
            "414430105e8748b586c956934307484b",
            "482e1a80299f4046a60258cb2e0dcfa1",
            "759e7083336e4d60a99b78ffdd15b4e4",
            "4566118239094adcb7e92927b8ee6cc8",
            "d8a3bb37655f4ebb8f0a3b4e4012713b",
            "9a57d1ada94447c184b9ef8488a6f254",
            "10d982435f6640f9b43167c0c83740b2",
            "c9fa954aecdd42f6bc235e4785b4ff74",
            "72185144df0646619e6d72a52f6874ae",
            "cedfc37bfc06427890f4fffc30c0a8c4",
            "a8bb05bc54f840288073d26fc910ef0c",
            "a4001fdf8ae349b3b6fdb2bdc8be788a",
            "c56d2340112545d7b7abf0a03125e81e",
            "dacad12f084245aba5c2424aeb9ca609",
            "00b0ce4580794656ac2fa0b2d22a1621",
            "e30f71c2bb5a496fa4a53482133df70d",
            "e03a581d0ed042d3a9af5b28758bb60a",
            "3b1712b2c9524a35a4a6a854110ca3a9",
            "84bc4b6c4ef3429ab4ce2d73ee235a18",
            "a5123b8209cb479098ba6b2525e694ca",
            "ffefc65589ce4dcab7f32a202c30e170",
            "6f46270ac93c4bdc820edb8ae673102c",
            "79149cbb66c1460f971213248f253eee",
            "66b4bbc19f5b4c7cb6911204dcfd4bb0",
            "b9932d2b564a4065bd220baefeefbddd",
            "3ea02da446c845558386f40f0b2a5233",
            "7b8b1ce453914b82893360258ee95d99",
            "34eff9cd7f54439f8ba685e3c63a923e",
            "d5a8e03997ad46bcb8929386d4451a29",
            "bff75754a4e149ec97923267286bdaf8",
            "6d2d022d876941b2beb93b92d3d392de",
            "a8643013f57741e8ac25fc76307ea8ae",
            "5a0043b4058e4ed8bc54a2bd4370baf4",
            "3243889ee2ec45a8871bbab5fa4a89f0",
            "36746b07fd6e4d6ab281a14f3b52bc26",
            "2f33124a00f44c73a51e6002e05ec54f",
            "7564700ec8674682961e50069e9556db",
            "cc06c0a744a54ab9af8be4ebf40a541f",
            "7444fbba802f43ebaef88a94a9402062",
            "6f717341115047b8904b7d80afc900fa",
            "360acdce633342dd97992e6406a7f796",
            "01561e46c5bf42a2866b30f65cc575b1",
            "54fb1f07d849416bad9e8c91b1266362",
            "bcc39ca61c4b4aa8867177c99203f365",
            "a6979c943c274dec9e8387d1f74fa273",
            "38ca001e970b46669d7a07aedf1d406d"
          ]
        },
        "id": "9svngz2m274n",
        "outputId": "35c991f8-9217-4a39-9969-54c490dc19a8"
      },
      "execution_count": null,
      "outputs": [
        {
          "output_type": "stream",
          "name": "stdout",
          "text": [
            "Building sklearn text classifier...\n",
            "Loading bert-base-uncased model...\n",
            "Using mlp with D=768,H=500,K=4,n=1\n",
            "Loading Pytorch checkpoint\n",
            "\n",
            "train data size: 3526, validation data size: 391\n",
            "\n"
          ]
        },
        {
          "output_type": "display_data",
          "data": {
            "text/plain": [
              "Training  :   0%|          | 0/110 [00:00<?, ?it/s]"
            ],
            "application/vnd.jupyter.widget-view+json": {
              "version_major": 2,
              "version_minor": 0,
              "model_id": "3af893c6309248028cbf6850068e91cf"
            }
          },
          "metadata": {}
        },
        {
          "output_type": "display_data",
          "data": {
            "text/plain": [
              "Validating:   0%|          | 0/49 [00:00<?, ?it/s]"
            ],
            "application/vnd.jupyter.widget-view+json": {
              "version_major": 2,
              "version_minor": 0,
              "model_id": "542769725bec4cd1b5d86bea49f84889"
            }
          },
          "metadata": {}
        },
        {
          "output_type": "stream",
          "name": "stdout",
          "text": [
            "\n",
            "Epoch 1, Train loss: 0.8322, Val loss: 0.7354, Val accy: 74.42%\n",
            "\n"
          ]
        },
        {
          "output_type": "display_data",
          "data": {
            "text/plain": [
              "Training  :   0%|          | 0/110 [00:00<?, ?it/s]"
            ],
            "application/vnd.jupyter.widget-view+json": {
              "version_major": 2,
              "version_minor": 0,
              "model_id": "6023b0b3abec4472acec6b9d3af29588"
            }
          },
          "metadata": {}
        },
        {
          "output_type": "display_data",
          "data": {
            "text/plain": [
              "Validating:   0%|          | 0/49 [00:00<?, ?it/s]"
            ],
            "application/vnd.jupyter.widget-view+json": {
              "version_major": 2,
              "version_minor": 0,
              "model_id": "f2e53cc3334f4c30b1341053be804f89"
            }
          },
          "metadata": {}
        },
        {
          "output_type": "stream",
          "name": "stdout",
          "text": [
            "\n",
            "Epoch 2, Train loss: 0.3967, Val loss: 0.4786, Val accy: 83.63%\n",
            "\n"
          ]
        },
        {
          "output_type": "display_data",
          "data": {
            "text/plain": [
              "Training  :   0%|          | 0/110 [00:00<?, ?it/s]"
            ],
            "application/vnd.jupyter.widget-view+json": {
              "version_major": 2,
              "version_minor": 0,
              "model_id": "5079f7baeccc4b62a38915cf4f0fe62f"
            }
          },
          "metadata": {}
        },
        {
          "output_type": "display_data",
          "data": {
            "text/plain": [
              "Validating:   0%|          | 0/49 [00:00<?, ?it/s]"
            ],
            "application/vnd.jupyter.widget-view+json": {
              "version_major": 2,
              "version_minor": 0,
              "model_id": "aab1324ec485409babadb0b6f94a1f2b"
            }
          },
          "metadata": {}
        },
        {
          "output_type": "stream",
          "name": "stdout",
          "text": [
            "\n",
            "Epoch 3, Train loss: 0.2042, Val loss: 0.5438, Val accy: 83.12%\n",
            "\n"
          ]
        },
        {
          "output_type": "display_data",
          "data": {
            "text/plain": [
              "Training  :   0%|          | 0/110 [00:00<?, ?it/s]"
            ],
            "application/vnd.jupyter.widget-view+json": {
              "version_major": 2,
              "version_minor": 0,
              "model_id": "f920030977954689b7fdc695fd253d72"
            }
          },
          "metadata": {}
        },
        {
          "output_type": "display_data",
          "data": {
            "text/plain": [
              "Validating:   0%|          | 0/49 [00:00<?, ?it/s]"
            ],
            "application/vnd.jupyter.widget-view+json": {
              "version_major": 2,
              "version_minor": 0,
              "model_id": "759e7083336e4d60a99b78ffdd15b4e4"
            }
          },
          "metadata": {}
        },
        {
          "output_type": "stream",
          "name": "stdout",
          "text": [
            "\n",
            "Epoch 4, Train loss: 0.1034, Val loss: 0.6007, Val accy: 82.35%\n",
            "\n"
          ]
        },
        {
          "output_type": "display_data",
          "data": {
            "text/plain": [
              "Training  :   0%|          | 0/110 [00:00<?, ?it/s]"
            ],
            "application/vnd.jupyter.widget-view+json": {
              "version_major": 2,
              "version_minor": 0,
              "model_id": "dacad12f084245aba5c2424aeb9ca609"
            }
          },
          "metadata": {}
        },
        {
          "output_type": "display_data",
          "data": {
            "text/plain": [
              "Validating:   0%|          | 0/49 [00:00<?, ?it/s]"
            ],
            "application/vnd.jupyter.widget-view+json": {
              "version_major": 2,
              "version_minor": 0,
              "model_id": "b9932d2b564a4065bd220baefeefbddd"
            }
          },
          "metadata": {}
        },
        {
          "output_type": "stream",
          "name": "stdout",
          "text": [
            "\n",
            "Epoch 5, Train loss: 0.0655, Val loss: 0.6034, Val accy: 83.12%\n",
            "\n"
          ]
        },
        {
          "output_type": "execute_result",
          "data": {
            "text/plain": [
              "BertClassifier(do_lower_case=True, epochs=5, label_list=array([0, 1, 2, 3]),\n",
              "               num_mlp_layers=1)"
            ]
          },
          "metadata": {},
          "execution_count": 17
        },
        {
          "output_type": "display_data",
          "data": {
            "text/plain": [
              "Predicting:   0%|          | 0/242 [00:00<?, ?it/s]"
            ],
            "application/vnd.jupyter.widget-view+json": {
              "version_major": 2,
              "version_minor": 0,
              "model_id": "2f33124a00f44c73a51e6002e05ec54f"
            }
          },
          "metadata": {}
        }
      ]
    },
    {
      "cell_type": "code",
      "source": [
        "!ls '/content/CSE575-Project/models'"
      ],
      "metadata": {
        "colab": {
          "base_uri": "https://localhost:8080/"
        },
        "id": "TE4EOqdwCVyr",
        "outputId": "68026753-dc31-4b40-c482-11f7fef4f1e2"
      },
      "execution_count": null,
      "outputs": [
        {
          "output_type": "stream",
          "name": "stdout",
          "text": [
            "baselineBERT_goemotions.bin\t    dataset_debias_BERT_SemEval2018TaskEC.bin\n",
            "baselineBERT_SemEval2018TaskEC.bin\n"
          ]
        }
      ]
    },
    {
      "cell_type": "code",
      "source": [
        "from nltk.test.gensim_fixt import setup_module"
      ],
      "metadata": {
        "id": "sRjkUns_296K"
      },
      "execution_count": 9,
      "outputs": []
    },
    {
      "cell_type": "code",
      "source": [
        "setup_module()"
      ],
      "metadata": {
        "id": "O8FJd5f4n0_t"
      },
      "execution_count": 10,
      "outputs": []
    },
    {
      "cell_type": "code",
      "source": [
        "import gensim"
      ],
      "metadata": {
        "id": "l9haeuO2n2no"
      },
      "execution_count": 11,
      "outputs": []
    },
    {
      "cell_type": "code",
      "source": [
        "df_text = df['text']"
      ],
      "metadata": {
        "id": "aY4yr07ioX0p"
      },
      "execution_count": 12,
      "outputs": []
    },
    {
      "cell_type": "code",
      "source": [
        "len(df_text)"
      ],
      "metadata": {
        "colab": {
          "base_uri": "https://localhost:8080/"
        },
        "id": "0CwnyBzSgqHq",
        "outputId": "b3690b4d-576d-487c-e209-fb9e9a119758"
      },
      "execution_count": 86,
      "outputs": [
        {
          "output_type": "execute_result",
          "data": {
            "text/plain": [
              "5847"
            ]
          },
          "metadata": {},
          "execution_count": 86
        }
      ]
    },
    {
      "cell_type": "code",
      "source": [
        "text = []\n",
        "for x in df_text:\n",
        "  temp = x +'.'\n",
        "  text.append(temp)"
      ],
      "metadata": {
        "id": "dpGJo088pNBY"
      },
      "execution_count": 13,
      "outputs": []
    },
    {
      "cell_type": "code",
      "source": [
        "text[0:10]"
      ],
      "metadata": {
        "colab": {
          "base_uri": "https://localhost:8080/"
        },
        "id": "pBRzQNL_01iU",
        "outputId": "48d35279-56b9-4ae9-8b46-9f97320c6f0a"
      },
      "execution_count": 87,
      "outputs": [
        {
          "output_type": "execute_result",
          "data": {
            "text/plain": [
              "['Whatever decide make sure makes happy.',\n",
              " 'MaxKellerman  also helps majority NFL coaching inept Some Bill OBriens play calling wow  GOPATS.',\n",
              " 'Accept challenges literally even feel exhilaration victory  George S Patton dogface.',\n",
              " 'My roommate okay cant spell autocorrect terrible firstworldprobs.',\n",
              " 'No thats cute Atsu probably shy photos cherry helped uwu.',\n",
              " 'Rooneys fucking untouchable he Been fucking dreadful again depay looked decentishtonight.',\n",
              " 'BossUpJaee pussy weak I heard stfu bitch  You got threaten pregnant .',\n",
              " 'And hard dance devil backnSo shake off.',\n",
              " 'Tiller breezy collab album Rapping singing prolly fire.',\n",
              " 'SO girl hit carnot get lucky w scratch also spared wrath sleep deprived Kaitupsidedownface.']"
            ]
          },
          "metadata": {},
          "execution_count": 87
        }
      ]
    },
    {
      "cell_type": "code",
      "source": [
        "len(text)"
      ],
      "metadata": {
        "colab": {
          "base_uri": "https://localhost:8080/"
        },
        "id": "eg4jcZa-giZv",
        "outputId": "8a65aaf9-0a6b-4ddf-afbc-55bc2528690a"
      },
      "execution_count": 82,
      "outputs": [
        {
          "output_type": "execute_result",
          "data": {
            "text/plain": [
              "5847"
            ]
          },
          "metadata": {},
          "execution_count": 82
        }
      ]
    },
    {
      "cell_type": "code",
      "source": [
        "from nltk.tokenize import sent_tokenize, word_tokenize\n",
        "import warnings\n",
        "nltk.download('punkt')\n",
        " \n",
        "warnings.filterwarnings(action = 'ignore')\n",
        " \n",
        "import gensim\n",
        "from gensim.models import Word2Vec\n",
        "\n",
        "text_tk = []\n",
        "\n",
        "for i in df_text:\n",
        "  temp = []\n",
        "  for j in word_tokenize(i):\n",
        "    temp.append(j.lower())\n",
        "  text_tk.append(temp)"
      ],
      "metadata": {
        "colab": {
          "base_uri": "https://localhost:8080/"
        },
        "id": "fhbpCb3e1WrQ",
        "outputId": "4a3f5d78-5d76-47b5-b797-f9b684048692"
      },
      "execution_count": 15,
      "outputs": [
        {
          "output_type": "stream",
          "name": "stderr",
          "text": [
            "[nltk_data] Downloading package punkt to /root/nltk_data...\n",
            "[nltk_data]   Unzipping tokenizers/punkt.zip.\n"
          ]
        },
        {
          "output_type": "execute_result",
          "data": {
            "text/plain": [
              "True"
            ]
          },
          "metadata": {},
          "execution_count": 15
        }
      ]
    },
    {
      "cell_type": "code",
      "source": [
        "text_tk[0:10]"
      ],
      "metadata": {
        "colab": {
          "base_uri": "https://localhost:8080/"
        },
        "id": "-bqEeE0w4Ud1",
        "outputId": "79eb28bc-349c-4417-e19e-37be6db94dfa"
      },
      "execution_count": 16,
      "outputs": [
        {
          "output_type": "execute_result",
          "data": {
            "text/plain": [
              "[['whatever', 'decide', 'make', 'sure', 'makes', 'happy'],\n",
              " ['maxkellerman',\n",
              "  'also',\n",
              "  'helps',\n",
              "  'majority',\n",
              "  'nfl',\n",
              "  'coaching',\n",
              "  'inept',\n",
              "  'some',\n",
              "  'bill',\n",
              "  'obriens',\n",
              "  'play',\n",
              "  'calling',\n",
              "  'wow',\n",
              "  'gopats'],\n",
              " ['accept',\n",
              "  'challenges',\n",
              "  'literally',\n",
              "  'even',\n",
              "  'feel',\n",
              "  'exhilaration',\n",
              "  'victory',\n",
              "  'george',\n",
              "  's',\n",
              "  'patton',\n",
              "  'dogface'],\n",
              " ['my',\n",
              "  'roommate',\n",
              "  'okay',\n",
              "  'cant',\n",
              "  'spell',\n",
              "  'autocorrect',\n",
              "  'terrible',\n",
              "  'firstworldprobs'],\n",
              " ['no',\n",
              "  'thats',\n",
              "  'cute',\n",
              "  'atsu',\n",
              "  'probably',\n",
              "  'shy',\n",
              "  'photos',\n",
              "  'cherry',\n",
              "  'helped',\n",
              "  'uwu'],\n",
              " ['rooneys',\n",
              "  'fucking',\n",
              "  'untouchable',\n",
              "  'he',\n",
              "  'been',\n",
              "  'fucking',\n",
              "  'dreadful',\n",
              "  'again',\n",
              "  'depay',\n",
              "  'looked',\n",
              "  'decentishtonight'],\n",
              " ['bossupjaee',\n",
              "  'pussy',\n",
              "  'weak',\n",
              "  'i',\n",
              "  'heard',\n",
              "  'stfu',\n",
              "  'bitch',\n",
              "  'you',\n",
              "  'got',\n",
              "  'threaten',\n",
              "  'pregnant'],\n",
              " ['and', 'hard', 'dance', 'devil', 'backnso', 'shake', 'off'],\n",
              " ['tiller',\n",
              "  'breezy',\n",
              "  'collab',\n",
              "  'album',\n",
              "  'rapping',\n",
              "  'singing',\n",
              "  'prolly',\n",
              "  'fire'],\n",
              " ['so',\n",
              "  'girl',\n",
              "  'hit',\n",
              "  'carnot',\n",
              "  'get',\n",
              "  'lucky',\n",
              "  'w',\n",
              "  'scratch',\n",
              "  'also',\n",
              "  'spared',\n",
              "  'wrath',\n",
              "  'sleep',\n",
              "  'deprived',\n",
              "  'kaitupsidedownface']]"
            ]
          },
          "metadata": {},
          "execution_count": 16
        }
      ]
    },
    {
      "cell_type": "code",
      "source": [
        "wes = gensim.models.Word2Vec(text_tk, min_count=5, size=300)"
      ],
      "metadata": {
        "id": "KsE7eLfGv9tB"
      },
      "execution_count": 17,
      "outputs": []
    },
    {
      "cell_type": "code",
      "source": [
        "wes.save('dsembed')"
      ],
      "metadata": {
        "id": "A7NCuwhm9nLh"
      },
      "execution_count": 18,
      "outputs": []
    },
    {
      "cell_type": "code",
      "source": [
        "print(wes)"
      ],
      "metadata": {
        "colab": {
          "base_uri": "https://localhost:8080/"
        },
        "id": "IEnzv2aeD_e4",
        "outputId": "2f2978a4-f3ee-4a76-a9e3-52027df62b45"
      },
      "execution_count": 19,
      "outputs": [
        {
          "output_type": "stream",
          "name": "stdout",
          "text": [
            "Word2Vec(vocab=1999, size=300, alpha=0.025)\n"
          ]
        }
      ]
    },
    {
      "cell_type": "code",
      "source": [
        "len(wes.wv['he'])"
      ],
      "metadata": {
        "colab": {
          "base_uri": "https://localhost:8080/"
        },
        "id": "csXJO6Yl9weP",
        "outputId": "7311bdd0-a314-4a6e-de7a-18c3b92b5852"
      },
      "execution_count": 20,
      "outputs": [
        {
          "output_type": "execute_result",
          "data": {
            "text/plain": [
              "300"
            ]
          },
          "metadata": {},
          "execution_count": 20
        }
      ]
    },
    {
      "cell_type": "code",
      "source": [
        "len(wes['he'])"
      ],
      "metadata": {
        "colab": {
          "base_uri": "https://localhost:8080/"
        },
        "id": "uOZiccCuFQBo",
        "outputId": "3c27daeb-76d3-4132-ca84-b6ee6a2708e8"
      },
      "execution_count": 21,
      "outputs": [
        {
          "output_type": "execute_result",
          "data": {
            "text/plain": [
              "300"
            ]
          },
          "metadata": {},
          "execution_count": 21
        }
      ]
    },
    {
      "cell_type": "code",
      "source": [
        "list(wes.wv.vocab.items())[0:10]"
      ],
      "metadata": {
        "colab": {
          "base_uri": "https://localhost:8080/"
        },
        "id": "5uFIQF0Wl3KK",
        "outputId": "0c8986f7-ecf3-4ab3-9dab-ef28b4c1585f"
      },
      "execution_count": 92,
      "outputs": [
        {
          "output_type": "execute_result",
          "data": {
            "text/plain": [
              "[('whatever', <gensim.models.keyedvectors.Vocab at 0x7ff8b91d4490>),\n",
              " ('decide', <gensim.models.keyedvectors.Vocab at 0x7ff88a5d9950>),\n",
              " ('make', <gensim.models.keyedvectors.Vocab at 0x7ff89d973690>),\n",
              " ('sure', <gensim.models.keyedvectors.Vocab at 0x7ff8a7743290>),\n",
              " ('makes', <gensim.models.keyedvectors.Vocab at 0x7ff88d4bc710>),\n",
              " ('happy', <gensim.models.keyedvectors.Vocab at 0x7ff88a4c4150>),\n",
              " ('also', <gensim.models.keyedvectors.Vocab at 0x7ff88a4c4090>),\n",
              " ('majority', <gensim.models.keyedvectors.Vocab at 0x7ff88a4c4310>),\n",
              " ('coaching', <gensim.models.keyedvectors.Vocab at 0x7ff88d4bc2d0>),\n",
              " ('some', <gensim.models.keyedvectors.Vocab at 0x7ff88a4c4210>)]"
            ]
          },
          "metadata": {},
          "execution_count": 92
        }
      ]
    },
    {
      "cell_type": "code",
      "source": [
        "!ls"
      ],
      "metadata": {
        "colab": {
          "base_uri": "https://localhost:8080/"
        },
        "id": "0AMi3qzWGip0",
        "outputId": "b3d47853-d9b8-4314-e69b-dbaf44c39002"
      },
      "execution_count": 23,
      "outputs": [
        {
          "output_type": "stream",
          "name": "stdout",
          "text": [
            "CSE575-Project\tdsembed  sample_data\n"
          ]
        }
      ]
    },
    {
      "cell_type": "code",
      "source": [
        "!git clone https://github.com/tolga-b/debiaswe"
      ],
      "metadata": {
        "colab": {
          "base_uri": "https://localhost:8080/"
        },
        "id": "XeoCtV68Gd1j",
        "outputId": "f031e450-602d-403a-f2e0-3ec9221a1c0d"
      },
      "execution_count": 24,
      "outputs": [
        {
          "output_type": "stream",
          "name": "stdout",
          "text": [
            "Cloning into 'debiaswe'...\n",
            "remote: Enumerating objects: 95, done.\u001b[K\n",
            "remote: Counting objects: 100% (4/4), done.\u001b[K\n",
            "remote: Compressing objects: 100% (4/4), done.\u001b[K\n",
            "remote: Total 95 (delta 0), reused 0 (delta 0), pack-reused 91\u001b[K\n",
            "Unpacking objects: 100% (95/95), done.\n"
          ]
        }
      ]
    },
    {
      "cell_type": "code",
      "source": [
        "%cd debiaswe"
      ],
      "metadata": {
        "colab": {
          "base_uri": "https://localhost:8080/"
        },
        "id": "fB-LIuOJn8FN",
        "outputId": "d0ce4a65-68f9-441f-c528-51d4aa162f78"
      },
      "execution_count": 25,
      "outputs": [
        {
          "output_type": "stream",
          "name": "stdout",
          "text": [
            "/content/debiaswe\n"
          ]
        }
      ]
    },
    {
      "cell_type": "code",
      "source": [
        "!ls"
      ],
      "metadata": {
        "colab": {
          "base_uri": "https://localhost:8080/"
        },
        "id": "KTL4njn9PDwZ",
        "outputId": "e514f282-c902-4706-e39f-9cb4ab91f78b"
      },
      "execution_count": 26,
      "outputs": [
        {
          "output_type": "stream",
          "name": "stdout",
          "text": [
            "data  debiaswe\tembeddings  LICENSE  README.md\ttutorial_example1.ipynb\n"
          ]
        }
      ]
    },
    {
      "cell_type": "code",
      "source": [
        "%cd debiaswe\n",
        "!ls "
      ],
      "metadata": {
        "colab": {
          "base_uri": "https://localhost:8080/"
        },
        "id": "I5eDZMg9PEYO",
        "outputId": "29e02eb9-368a-4b4a-877e-4153986a8785"
      },
      "execution_count": 27,
      "outputs": [
        {
          "output_type": "stream",
          "name": "stdout",
          "text": [
            "/content/debiaswe/debiaswe\n",
            "data.py  debias.py  __init__.py  learn_gender_specific.py  we.py\n"
          ]
        }
      ]
    },
    {
      "cell_type": "code",
      "source": [
        "from debiaswe import debiaswe as dwe\n",
        "from debiaswe.debiaswe import we\n",
        "from debiaswe.debiaswe.we import WordEmbedding\n",
        "from debiaswe.debiaswe.data import load_professions"
      ],
      "metadata": {
        "id": "jXMOFB95QkdL"
      },
      "execution_count": 28,
      "outputs": []
    },
    {
      "cell_type": "code",
      "source": [
        "em = wes"
      ],
      "metadata": {
        "id": "2zIyx9CBRH0k"
      },
      "execution_count": 29,
      "outputs": []
    },
    {
      "cell_type": "code",
      "source": [
        "type(em)"
      ],
      "metadata": {
        "colab": {
          "base_uri": "https://localhost:8080/"
        },
        "id": "QFCpSk00Vrjl",
        "outputId": "93cf7121-07db-4017-cd3c-54fa7872ae14"
      },
      "execution_count": 30,
      "outputs": [
        {
          "output_type": "execute_result",
          "data": {
            "text/plain": [
              "gensim.models.word2vec.Word2Vec"
            ]
          },
          "metadata": {},
          "execution_count": 30
        }
      ]
    },
    {
      "cell_type": "code",
      "source": [
        "wes.wv.save_word2vec_format('embeddingtext1.txt')"
      ],
      "metadata": {
        "id": "OEo2FyUNUOxw"
      },
      "execution_count": 31,
      "outputs": []
    },
    {
      "cell_type": "code",
      "source": [
        "!pwd"
      ],
      "metadata": {
        "colab": {
          "base_uri": "https://localhost:8080/"
        },
        "id": "xLZuLRlbRLjq",
        "outputId": "6023f3f6-1321-4307-e49e-a0a55e79731d"
      },
      "execution_count": 32,
      "outputs": [
        {
          "output_type": "stream",
          "name": "stdout",
          "text": [
            "/content/debiaswe/debiaswe\n"
          ]
        }
      ]
    },
    {
      "cell_type": "code",
      "source": [
        "!cd debiaswe"
      ],
      "metadata": {
        "colab": {
          "base_uri": "https://localhost:8080/"
        },
        "id": "OdyKrINO31AO",
        "outputId": "a3d5cf21-23d9-4060-ec85-a5b552347de6"
      },
      "execution_count": 33,
      "outputs": [
        {
          "output_type": "stream",
          "name": "stdout",
          "text": [
            "/bin/bash: line 0: cd: debiaswe: No such file or directory\n"
          ]
        }
      ]
    },
    {
      "cell_type": "code",
      "source": [
        "model = wes.wv.load_word2vec_format('/content/debiaswe/debiaswe/embeddingtext1.txt')"
      ],
      "metadata": {
        "id": "t9SbmkoijG_-"
      },
      "execution_count": 34,
      "outputs": []
    },
    {
      "cell_type": "code",
      "source": [
        "print(model)"
      ],
      "metadata": {
        "colab": {
          "base_uri": "https://localhost:8080/"
        },
        "id": "mC_oeZC4jpp5",
        "outputId": "2e588c46-2e3f-4eb4-c2ee-d765a09032bf"
      },
      "execution_count": 35,
      "outputs": [
        {
          "output_type": "stream",
          "name": "stdout",
          "text": [
            "<gensim.models.keyedvectors.Word2VecKeyedVectors object at 0x7ff8865da150>\n"
          ]
        }
      ]
    },
    {
      "cell_type": "code",
      "source": [
        "nem = WordEmbedding('/content/debiaswe/debiaswe/embeddingtext1.txt')"
      ],
      "metadata": {
        "colab": {
          "base_uri": "https://localhost:8080/"
        },
        "id": "y4yYXa3LWwVV",
        "outputId": "e50eda98-ea8f-4b2f-8135-8ac6ff73f533"
      },
      "execution_count": 41,
      "outputs": [
        {
          "output_type": "stream",
          "name": "stdout",
          "text": [
            "*** Reading data from /content/debiaswe/debiaswe/embeddingtext1.txt\n",
            "(1999, 300)\n",
            "1999 words of dimension 300 : i, im, like, amp, ..., strike, cruel, michael, arsehole\n",
            "1999 words of dimension 300 : i, im, like, amp, ..., strike, cruel, michael, arsehole\n"
          ]
        }
      ]
    },
    {
      "cell_type": "code",
      "source": [
        "nem.words[0:10]"
      ],
      "metadata": {
        "colab": {
          "base_uri": "https://localhost:8080/"
        },
        "id": "8lM5lpsDlS1y",
        "outputId": "11903aab-11ab-4a56-a22e-e64530959d20"
      },
      "execution_count": 93,
      "outputs": [
        {
          "output_type": "execute_result",
          "data": {
            "text/plain": [
              "['i', 'im', 'like', 'amp', 'get', 'you', 'happy', 'people', 'the', 'one']"
            ]
          },
          "metadata": {},
          "execution_count": 93
        }
      ]
    },
    {
      "cell_type": "code",
      "source": [
        "professions = load_professions()\n",
        "profession_words = [p[0] for p in professions]"
      ],
      "metadata": {
        "colab": {
          "base_uri": "https://localhost:8080/"
        },
        "id": "nVBsegrGQ6hH",
        "outputId": "6c7656aa-ab3b-41b1-f29b-3ed75cff41ef"
      },
      "execution_count": 43,
      "outputs": [
        {
          "output_type": "stream",
          "name": "stdout",
          "text": [
            "Loaded professions\n",
            "Format:\n",
            "word,\n",
            "definitional female -1.0 -> definitional male 1.0\n",
            "stereotypical female -1.0 -> stereotypical male 1.0\n"
          ]
        }
      ]
    },
    {
      "cell_type": "code",
      "source": [
        "profession_words = ['acquaintance',\n",
        " 'actor',\n",
        " 'actress',\n",
        " 'adjunct_professor',\n",
        " 'administrator',\n",
        " 'adventurer',\n",
        " 'advocate',\n",
        " 'aide',\n",
        " 'alderman',\n",
        " 'alter_ego',\n",
        " 'ambassador',\n",
        " 'analyst',\n",
        " 'anthropologist',\n",
        " 'archaeologist',\n",
        " 'archbishop',\n",
        " 'architect',\n",
        " 'artist',\n",
        " 'artiste',\n",
        " 'assassin',\n",
        " 'assistant_professor',\n",
        " 'associate_dean',\n",
        " 'associate_professor',\n",
        " 'astronaut',\n",
        " 'astronomer',\n",
        " 'athlete',\n",
        " 'athletic_director',\n",
        " 'attorney',\n",
        " 'author',\n",
        " 'baker',\n",
        " 'ballerina',\n",
        " 'ballplayer',\n",
        " 'banker',\n",
        " 'barber',\n",
        " 'baron',\n",
        " 'barrister',\n",
        " 'bartender',\n",
        " 'biologist',\n",
        " 'bishop',\n",
        " 'bodyguard',\n",
        " 'bookkeeper',\n",
        " 'boss',\n",
        " 'boxer',\n",
        " 'broadcaster',\n",
        " 'broker',\n",
        " 'bureaucrat',\n",
        " 'businessman',\n",
        " 'businesswoman',\n",
        " 'butcher',\n",
        " 'butler',\n",
        " 'cab_driver',\n",
        " 'cabbie',\n",
        " 'cameraman',\n",
        " 'campaigner',\n",
        " 'captain',\n",
        " 'cardiologist',\n",
        " 'caretaker',\n",
        " 'carpenter',\n",
        " 'cartoonist',\n",
        " 'cellist',\n",
        " 'chancellor',\n",
        " 'chaplain',\n",
        " 'character',\n",
        " 'chef',\n",
        " 'chemist',\n",
        " 'choreographer',\n",
        " 'cinematographer',\n",
        " 'citizen',\n",
        " 'civil_servant',\n",
        " 'cleric',\n",
        " 'clerk',\n",
        " 'coach',\n",
        " 'collector',\n",
        " 'colonel',\n",
        " 'columnist',\n",
        " 'comedian',\n",
        " 'comic',\n",
        " 'commander',\n",
        " 'commentator',\n",
        " 'commissioner',\n",
        " 'composer',\n",
        " 'conductor',\n",
        " 'confesses',\n",
        " 'congressman',\n",
        " 'constable',\n",
        " 'consultant',\n",
        " 'cop',\n",
        " 'correspondent',\n",
        " 'councilman',\n",
        " 'councilor',\n",
        " 'counselor',\n",
        " 'critic',\n",
        " 'crooner',\n",
        " 'crusader',\n",
        " 'curator',\n",
        " 'custodian',\n",
        " 'dad',\n",
        " 'dancer',\n",
        " 'dean',\n",
        " 'dentist',\n",
        " 'deputy',\n",
        " 'dermatologist',\n",
        " 'detective',\n",
        " 'diplomat',\n",
        " 'director',\n",
        " 'disc_jockey',\n",
        " 'doctor',\n",
        " 'doctoral_student',\n",
        " 'drug_addict',\n",
        " 'drummer',\n",
        " 'economics_professor',\n",
        " 'economist',\n",
        " 'editor',\n",
        " 'educator',\n",
        " 'electrician',\n",
        " 'employee',\n",
        " 'entertainer',\n",
        " 'entrepreneur',\n",
        " 'environmentalist',\n",
        " 'envoy',\n",
        " 'epidemiologist',\n",
        " 'evangelist',\n",
        " 'farmer',\n",
        " 'fashion_designer',\n",
        " 'fighter_pilot',\n",
        " 'filmmaker',\n",
        " 'financier',\n",
        " 'firebrand',\n",
        " 'firefighter',\n",
        " 'fireman',\n",
        " 'fisherman',\n",
        " 'footballer',\n",
        " 'foreman',\n",
        " 'freelance_writer',\n",
        " 'gangster',\n",
        " 'gardener',\n",
        " 'geologist',\n",
        " 'goalkeeper',\n",
        " 'graphic_designer',\n",
        " 'guidance_counselor',\n",
        " 'guitarist',\n",
        " 'hairdresser',\n",
        " 'handyman',\n",
        " 'headmaster',\n",
        " 'historian',\n",
        " 'hitman',\n",
        " 'homemaker',\n",
        " 'hooker',\n",
        " 'housekeeper',\n",
        " 'housewife',\n",
        " 'illustrator',\n",
        " 'industrialist',\n",
        " 'infielder',\n",
        " 'inspector',\n",
        " 'instructor',\n",
        " 'interior_designer',\n",
        " 'inventor',\n",
        " 'investigator',\n",
        " 'investment_banker',\n",
        " 'janitor',\n",
        " 'jeweler',\n",
        " 'journalist',\n",
        " 'judge',\n",
        " 'jurist',\n",
        " 'laborer',\n",
        " 'landlord',\n",
        " 'lawmaker',\n",
        " 'lawyer',\n",
        " 'lecturer',\n",
        " 'legislator',\n",
        " 'librarian',\n",
        " 'lieutenant',\n",
        " 'lifeguard',\n",
        " 'lyricist',\n",
        " 'maestro',\n",
        " 'magician',\n",
        " 'magistrate',\n",
        " 'maid',\n",
        " 'major_leaguer',\n",
        " 'manager',\n",
        " 'marksman',\n",
        " 'marshal',\n",
        " 'mathematician',\n",
        " 'mechanic',\n",
        " 'mediator',\n",
        " 'medic',\n",
        " 'midfielder',\n",
        " 'minister',\n",
        " 'missionary',\n",
        " 'mobster',\n",
        " 'monk',\n",
        " 'musician',\n",
        " 'nanny',\n",
        " 'narrator',\n",
        " 'naturalist',\n",
        " 'negotiator',\n",
        " 'neurologist',\n",
        " 'neurosurgeon',\n",
        " 'novelist',\n",
        " 'nun',\n",
        " 'nurse',\n",
        " 'observer',\n",
        " 'officer',\n",
        " 'organist',\n",
        " 'painter',\n",
        " 'paralegal',\n",
        " 'parishioner',\n",
        " 'parliamentarian',\n",
        " 'pastor',\n",
        " 'pathologist',\n",
        " 'patrolman',\n",
        " 'pediatrician',\n",
        " 'performer',\n",
        " 'pharmacist',\n",
        " 'philanthropist',\n",
        " 'philosopher',\n",
        " 'photographer',\n",
        " 'photojournalist',\n",
        " 'physician',\n",
        " 'physicist',\n",
        " 'pianist',\n",
        " 'planner',\n",
        " 'plastic_surgeon',\n",
        " 'playwright',\n",
        " 'plumber',\n",
        " 'poet',\n",
        " 'policeman',\n",
        " 'politician',\n",
        " 'pollster',\n",
        " 'preacher',\n",
        " 'president',\n",
        " 'priest',\n",
        " 'principal',\n",
        " 'prisoner',\n",
        " 'professor',\n",
        " 'professor_emeritus',\n",
        " 'programmer',\n",
        " 'promoter',\n",
        " 'proprietor',\n",
        " 'prosecutor',\n",
        " 'protagonist',\n",
        " 'protege',\n",
        " 'protester',\n",
        " 'provost',\n",
        " 'psychiatrist',\n",
        " 'psychologist',\n",
        " 'publicist',\n",
        " 'pundit',\n",
        " 'rabbi',\n",
        " 'radiologist',\n",
        " 'ranger',\n",
        " 'realtor',\n",
        " 'receptionist',\n",
        " 'registered_nurse',\n",
        " 'researcher',\n",
        " 'restaurateur',\n",
        " 'sailor',\n",
        " 'saint',\n",
        " 'salesman',\n",
        " 'saxophonist',\n",
        " 'scholar',\n",
        " 'scientist',\n",
        " 'screenwriter',\n",
        " 'sculptor',\n",
        " 'secretary',\n",
        " 'senator',\n",
        " 'sergeant',\n",
        " 'servant',\n",
        " 'serviceman',\n",
        " 'sheriff_deputy',\n",
        " 'shopkeeper',\n",
        " 'singer',\n",
        " 'singer_songwriter',\n",
        " 'skipper',\n",
        " 'socialite',\n",
        " 'sociologist',\n",
        " 'soft_spoken',\n",
        " 'soldier',\n",
        " 'solicitor',\n",
        " 'solicitor_general',\n",
        " 'soloist',\n",
        " 'sportsman',\n",
        " 'sportswriter',\n",
        " 'statesman',\n",
        " 'steward',\n",
        " 'stockbroker',\n",
        " 'strategist',\n",
        " 'student',\n",
        " 'stylist',\n",
        " 'substitute',\n",
        " 'superintendent',\n",
        " 'surgeon',\n",
        " 'surveyor',\n",
        " 'swimmer',\n",
        " 'taxi_driver',\n",
        " 'teacher',\n",
        " 'technician',\n",
        " 'teenager',\n",
        " 'therapist',\n",
        " 'trader',\n",
        " 'treasurer',\n",
        " 'trooper',\n",
        " 'trucker',\n",
        " 'trumpeter',\n",
        " 'tutor',\n",
        " 'tycoon',\n",
        " 'undersecretary',\n",
        " 'understudy',\n",
        " 'valedictorian',\n",
        " 'vice_chancellor',\n",
        " 'violinist',\n",
        " 'vocalist',\n",
        " 'waiter',\n",
        " 'waitress',\n",
        " 'warden',\n",
        " 'warrior',\n",
        " 'welder',\n",
        " 'worker',\n",
        " 'wrestler',\n",
        " 'writer']"
      ],
      "metadata": {
        "id": "Fq4lHWjqvS5X"
      },
      "execution_count": 44,
      "outputs": []
    },
    {
      "cell_type": "code",
      "source": [
        "res_i = list(set(profession_words) & set(nem.words))"
      ],
      "metadata": {
        "id": "RlTV-Jxh81g0"
      },
      "execution_count": 45,
      "outputs": []
    },
    {
      "cell_type": "code",
      "source": [
        "res_i"
      ],
      "metadata": {
        "colab": {
          "base_uri": "https://localhost:8080/"
        },
        "id": "_Wt3pheA98SE",
        "outputId": "8345bbc1-97ec-4c09-d1e9-e3130ff38d8f"
      },
      "execution_count": 46,
      "outputs": [
        {
          "output_type": "execute_result",
          "data": {
            "text/plain": [
              "['writer',\n",
              " 'teacher',\n",
              " 'coach',\n",
              " 'author',\n",
              " 'student',\n",
              " 'character',\n",
              " 'doctor',\n",
              " 'dad',\n",
              " 'president']"
            ]
          },
          "metadata": {},
          "execution_count": 46
        }
      ]
    },
    {
      "cell_type": "code",
      "source": [
        "v_gender = nem.diff('he', 'she')"
      ],
      "metadata": {
        "id": "WwEjMwidYmAJ"
      },
      "execution_count": 47,
      "outputs": []
    },
    {
      "cell_type": "code",
      "source": [
        "nem"
      ],
      "metadata": {
        "colab": {
          "base_uri": "https://localhost:8080/"
        },
        "id": "V1BX6Xl8XzBN",
        "outputId": "4d469081-c378-414b-b61e-24079a2c3487"
      },
      "execution_count": 48,
      "outputs": [
        {
          "output_type": "execute_result",
          "data": {
            "text/plain": [
              "<debiaswe.debiaswe.we.WordEmbedding at 0x7ff8863db290>"
            ]
          },
          "metadata": {},
          "execution_count": 48
        }
      ]
    },
    {
      "cell_type": "code",
      "source": [
        "# analogies gender\n",
        "a_gender = nem.best_analogies_dist_thresh(v_gender)\n",
        "\n",
        "for (a,b,c) in a_gender:\n",
        "    print(a+\"-\"+b)"
      ],
      "metadata": {
        "colab": {
          "base_uri": "https://localhost:8080/"
        },
        "id": "pf1VaCyrXzGW",
        "outputId": "56b0d6bb-d6c7-4a09-8c57-baea81dc441e"
      },
      "execution_count": 49,
      "outputs": [
        {
          "output_type": "stream",
          "name": "stdout",
          "text": [
            "Computing neighbors\n",
            "Mean: 1998.0\n",
            "Median: 1998.0\n",
            "he-she\n",
            "going-bad\n",
            "listening-united\n",
            "became-frowning\n",
            "worth-insecure\n",
            "despair-lord\n",
            "brother-white\n",
            "sing-death\n",
            "gt-ugly\n",
            "religion-miserable\n",
            "match-king\n",
            "hurting-switch\n",
            "can-anyone\n",
            "mood-grow\n",
            "8-anything\n",
            "expecting-legs\n",
            "100-ex\n",
            "daily-nation\n",
            "favorite-hour\n",
            "houstontexans-compliment\n",
            "tonight-give\n",
            "door-india\n",
            "straight-mini\n",
            "bitter-mean\n",
            "madden-sweet\n",
            "piss-by\n",
            "guess-motivation\n",
            "10-hair\n",
            "shudder-server\n",
            "up-put\n",
            "gives-an\n",
            "bf-lit\n",
            "reply-low\n",
            "draw-hit\n",
            "vs-chance\n",
            "spent-7\n",
            "sending-faced\n",
            "burst-mom\n",
            "say-hope\n",
            "sulk-window\n",
            "forward-40\n",
            "changes-bees\n",
            "protests-lil\n",
            "pray-arsehole\n",
            "movie-experience\n",
            "aggravate-security\n",
            "mention-huge\n",
            "harm-fuckin\n",
            "sadness-horrific\n",
            "disappointment-does\n",
            "likes-down\n",
            "wake-exhilarating\n",
            "terrific-facewithtearsofjoyfacewithtearsofjoy\n",
            "wasted-behappy\n",
            "complete-beyond\n",
            "oil-wine\n",
            "huh-temper\n",
            "collect-neutralface\n",
            "treat-hi\n",
            "half-tomorrow\n",
            "totally-midnight\n",
            "fucked-held\n",
            "centre-spirit\n",
            "joke-worried\n",
            "don-posted\n",
            "posts-ghost\n",
            "said-literally\n",
            "others-glee\n",
            "election-wasnt\n",
            "voice-those\n",
            "coach-subway\n",
            "terrorists-hangry\n",
            "people-man\n",
            "steve-canceled\n",
            "chirp-whos\n",
            "carpet-grinningface\n",
            "major-buoyant\n",
            "upon-idk\n",
            "started-it\n",
            "teacher-wee\n",
            "stomach-russia\n",
            "sink-kikme\n",
            "needed-plan\n",
            "ready-knowing\n",
            "seem-starting\n",
            "red-almost\n",
            "also-anger\n",
            "gift-violence\n",
            "tip-enjoy\n",
            "personally-courage\n",
            "political-leadership\n",
            "cross-heartbreaking\n",
            "side-room\n",
            "nightmare-what\n",
            "is-serious\n",
            "account-spot\n",
            "customers-frustration\n",
            "respect-calm\n",
            "cnn-weather\n",
            "crash-nap\n",
            "chair-broke\n",
            "bed-saying\n",
            "access-punny\n",
            "process-facebook\n",
            "comment-mighty\n",
            "pleasing-rest\n",
            "tears-wonderful\n",
            "hand-blacks\n",
            "minute-blessing\n",
            "fuming-depression\n",
            "thank-sad\n",
            "following-facts\n",
            "christmas-anywhere\n",
            "provoke-some\n",
            "cheer-your\n",
            "club-animosity\n",
            "data-ten\n",
            "slightly-female\n",
            "okay-future\n",
            "unhappy-stop\n",
            "fox-nope\n",
            "dear-hearty\n",
            "be-gun\n",
            "lonely-sucks\n",
            "boys-other\n",
            "whole-why\n",
            "confusedface-wins\n",
            "currently-per\n",
            "brad-teach\n",
            "—-coming\n",
            "shady-cake\n",
            "moon-crimes\n",
            "three-bb\n",
            "september-righteous\n",
            "ep-irritation\n",
            "cancel-focus\n",
            "musically-customerservice\n",
            "sober-now\n",
            "tolerance-bday\n",
            "jovial-control\n",
            "something-know\n",
            "watch-product\n",
            "british-pic\n",
            "yep-amount\n",
            "sign-practice\n",
            "wonder-positive\n",
            "cats-clearly\n",
            "god-day\n",
            "truly-muslims\n",
            "onto-pool\n",
            "coaching-socialmedia\n",
            "leads-blessed\n",
            "20-raging\n",
            "cantsleep-regret\n",
            "meeting-missing\n",
            "physical-fault\n",
            "holding-sugar\n",
            "worry-might\n",
            "pay-came\n",
            "past-walk\n",
            "anxious-aflcatsswans\n",
            "exactly-cunt\n",
            "loose-freaking\n",
            "affront-catch\n",
            "amazing-rain\n",
            "kill-her\n",
            "cooking-smilingface\n",
            "ahs-placed\n",
            "family-done\n",
            "indeed-driver\n",
            "rock-line\n",
            "deal-app\n",
            "hard-shocking\n",
            "outrage-could\n",
            "nice-looking\n",
            "prices-ffs\n",
            "missed-dangerous\n",
            "after-2016\n",
            "smoke-shell\n",
            "15-left\n",
            "holds-discover\n",
            "weve-having\n",
            "recovery-services\n",
            "5-flight\n",
            "horror-always\n",
            "view-picture\n",
            "using-matter\n",
            "answer-machines\n",
            "called-tweets\n",
            "board-losing\n",
            "bt-disappointing\n",
            "brings-easyjet\n",
            "men-threaten\n",
            "shitty-network\n",
            "sentence-clients\n",
            "office-booked\n",
            "concern-sleep\n",
            "the-would\n",
            "wants-balls\n",
            "sounds-obama\n",
            "welcome-total\n",
            "lt3-worship\n",
            "deserve-conversation\n",
            "annoyed-till\n",
            "ruin-losers\n",
            "wont-juggle\n",
            "animals-af\n",
            "married-feelings\n",
            "sound-kik\n",
            "drinking-pull\n",
            "have-stay\n",
            "order-birthday\n",
            "meant-which\n",
            "written-contact\n",
            "best-good\n",
            "con-once\n",
            "action-sun\n",
            "has-english\n",
            "asked-elated\n",
            "business-then\n",
            "milk-project\n",
            "seriously-miss\n",
            "2017-distracting\n",
            "bottom-filled\n",
            "fight-shes\n",
            "nigga-near\n",
            "fine-leaving\n",
            "years-there\n",
            "minutes-quote\n",
            "whatever-helping\n",
            "call-na\n",
            "winning-women\n",
            "author-thoughts\n",
            "fall-stupid\n",
            "couple-father\n",
            "potential-val\n",
            "lively-heads\n",
            "s-dreadful\n",
            "kind-lives\n",
            "level-baby\n",
            "tantrums-rip\n",
            "bag-dismal\n",
            "history-living\n",
            "brain-deserves\n",
            "broadcast-calls\n",
            "such-works\n",
            "amazon-inflame\n",
            "results-grand\n",
            "nights-redheart\n",
            "were-second\n",
            "itll-style\n",
            "twitter-ur\n",
            "close-re\n",
            "3rd-unable\n",
            "party-paul\n",
            "shoes-force\n",
            "game-get\n",
            "genius-disgusted\n",
            "speaking-sigh\n",
            "laughs-child\n",
            "emotions-spend\n",
            "bb18-turn\n",
            "care-turned\n",
            "alone-answers\n",
            "easy-john\n",
            "paper-ugh\n",
            "defending-learned\n",
            "laughter-anxiety\n",
            "rude-chat\n",
            "helpful-leaves\n",
            "eye-round\n",
            "muslim-joey\n",
            "die-stuff\n",
            "thinks-loves\n",
            "sunk-islam\n",
            "sold-chelsea\n",
            "obviously-americans\n",
            "jealous-noise\n",
            "happens-hanging\n",
            "food-or\n",
            "theyre-lol\n",
            "friends-pakistan\n",
            "music-playful\n",
            "flushedface-chuckle\n",
            "30-“\n",
            "mouth-greatest\n",
            "prove-survivor\n",
            "l-starts\n",
            "stopped-sharing\n",
            "kindness-protesting\n",
            "already-much\n",
            "avoid-michelle\n",
            "ask-destroy\n",
            "ive-today\n",
            "silly-harder\n",
            "swear-faceblowingakiss\n",
            "asleep-cryingface\n",
            "country-ago\n",
            "negative-dry\n",
            "choice-adorable\n",
            "trump-back\n",
            "end-lost\n",
            "psychology-break\n",
            "bout-sept\n",
            "dick-record\n",
            "writing-saturday\n",
            "f-ruffle\n",
            "fashion-gained\n",
            "idiots-nobody\n",
            "term-angrily\n",
            "sue-street\n",
            "statement-emails\n",
            "shy-sick\n",
            "ruins-planet\n",
            "decided-videos\n",
            "things-go\n",
            "due-attacks\n",
            "defense-local\n",
            "beautiful-terrorism\n",
            "holy-system\n",
            "idiot-min\n",
            "ordered-telling\n",
            "putin-crazy\n",
            "pine-piece\n",
            "find-tweet\n",
            "fan-sometimes\n",
            "wearing-driving\n",
            "as-send\n",
            "wtf-blood\n",
            "went-attempt\n",
            "lately-fails\n",
            "bakewell-kick\n",
            "will-anyway\n",
            "early-self\n",
            "tmobile-thy\n",
            "stayed-hillary\n",
            "live-n\n",
            "ios10-vacation\n",
            "dance-refuse\n",
            "facewithtearsofjoyfacewithtearsofjoyfacewithtearsofjoy-struggle\n",
            "intimidation-inspiring\n",
            "girls-fighting\n",
            "come-either\n",
            "was-dull\n",
            "teeth-delicious\n",
            "somewhere-someones\n",
            "facewithrollingeyes-dinner\n",
            "truth-dreams\n",
            "youre-saw\n",
            "themselves-based\n",
            "knows-takes\n",
            "strike-ice\n",
            "writer-stress\n",
            "perfect-stand\n",
            "rn-dropped\n",
            "anymore-argument\n",
            "price-across\n",
            "exist-holiday\n",
            "glad-12\n",
            "talkin-fed\n",
            "non-iphone\n",
            "state-listen\n",
            "short-pro\n",
            "thing-boiling\n",
            "signed-drink\n",
            "pretty-nothing\n",
            "emoji-names\n",
            "jubilant-quit\n",
            "relentless-strong\n",
            "face-first\n",
            "floor-spider\n",
            "absolute-lack\n",
            "brought-chris\n",
            "read-joyous\n",
            "bunch-horny\n",
            "cheerfulness-infuriate\n",
            "aint-keeps\n",
            "rape-unga\n",
            "race-bringing\n",
            "heard-irritate\n",
            "delight-hurt\n",
            "reason-biggest\n",
            "jesus-beat\n",
            "c-mostly\n",
            "fact-with\n",
            "weeks-plus\n",
            "and-fuck\n",
            "government-album\n",
            "willing-tnf\n",
            "free-america\n",
            "typical-changed\n",
            "president-including\n",
            "horrible-run\n",
            "hello-yourself\n",
            "unknown-nasty\n",
            "calling-course\n",
            "wait-peace\n",
            "support-afraid\n",
            "more-school\n",
            "singing-shall\n",
            "challenges-charlotte\n",
            "soon-damn\n",
            "gratitude-attitude\n",
            "win-means\n",
            "furious-facewithtearsofjoy\n",
            "giving-clear\n",
            "emo-mhchat\n",
            "discourage-lies\n",
            "wash-hot\n",
            "students-however\n",
            "’-change\n",
            "usually-rich\n",
            "cheering-video\n",
            "thousand-rt\n",
            "not-its\n",
            "msnbc-despite\n",
            "downcastfacewithsweat-same\n",
            "football-intimidate\n",
            "rush-blind\n",
            "indignant-confused\n",
            "ones-omg\n",
            "series-outta\n",
            "actually-ever\n",
            "nah-holidays\n",
            "only-awesome\n",
            "doctor-refund\n",
            "walking-racist\n",
            "comes-too\n",
            "son-b\n",
            "tryna-appreciate\n",
            "nn-ha\n",
            "grinningfacewithbigeyes-alive\n",
            "sure-must\n",
            "got-2\n",
            "6-murder\n",
            "legit-latest\n",
            "basically-joe\n",
            "shower-number\n",
            "goals-loving\n",
            "v-smh\n",
            "gladness-fearful\n",
            "block-luv\n",
            "cry-replaced\n",
            "boy-worse\n",
            "longer-completely\n",
            "year-yall\n",
            "ignored-false\n",
            "dejected-terrifying\n",
            "random-policy\n",
            "group-jimmy\n",
            "article-bet\n",
            "many-how\n",
            "instead-d\n",
            "sadly-true\n",
            "cold-resentment\n",
            "taken-apparently\n",
            "william-peter\n",
            "every-do\n",
            "cable-loudlycryingfaceloudlycryingfaceloudlycryingface\n",
            "haha-drunk\n",
            "hell-house\n",
            "storm-annoying\n",
            "often-join\n",
            "tumblr-»\n",
            "university-wasp\n",
            "save-haunt\n",
            "fml-gifts\n",
            "young-friday\n",
            "lmao-rooney\n",
            "mirth-add\n",
            "mary-most\n",
            "form-power\n",
            "shake-goes\n",
            "mistake-gloom\n",
            "grateful-seems\n",
            "finger-download\n",
            "bc-night\n",
            "blm-memories\n",
            "pizza-sat\n",
            "killed-mins\n",
            "wheres-north\n",
            "damage-fret\n",
            "happened-cops\n",
            "date-wednesday\n",
            "yr-pitch\n",
            "a-even\n",
            "groups-fearing\n",
            "reverse-hurts\n",
            "summer-fam\n",
            "dumb-become\n",
            "tax-ride\n",
            "breakfast-common\n",
            "girl-bill\n",
            "hed-shine\n",
            "yes-mufc\n",
            "restless-share\n",
            "hearing-kinda\n",
            "guy-smiling\n",
            "traffic-weekend\n",
            "bake-dad\n"
          ]
        }
      ]
    },
    {
      "cell_type": "code",
      "source": [
        "sp = sorted([(nem.v(w).dot(v_gender), w) for w in res_i])\n",
        "sp[0:20], sp[-20:]"
      ],
      "metadata": {
        "colab": {
          "base_uri": "https://localhost:8080/"
        },
        "id": "On4KOCHSkmSz",
        "outputId": "1044750f-c264-4000-c0ef-c6bfd915245f"
      },
      "execution_count": 50,
      "outputs": [
        {
          "output_type": "execute_result",
          "data": {
            "text/plain": [
              "([(0.0007325481, 'dad'),\n",
              "  (0.0014068095, 'student'),\n",
              "  (0.00357544, 'character'),\n",
              "  (0.0046673967, 'president'),\n",
              "  (0.0048077074, 'writer'),\n",
              "  (0.0050418265, 'doctor'),\n",
              "  (0.0058117495, 'author'),\n",
              "  (0.0071301213, 'teacher'),\n",
              "  (0.008055753, 'coach')],\n",
              " [(0.0007325481, 'dad'),\n",
              "  (0.0014068095, 'student'),\n",
              "  (0.00357544, 'character'),\n",
              "  (0.0046673967, 'president'),\n",
              "  (0.0048077074, 'writer'),\n",
              "  (0.0050418265, 'doctor'),\n",
              "  (0.0058117495, 'author'),\n",
              "  (0.0071301213, 'teacher'),\n",
              "  (0.008055753, 'coach')])"
            ]
          },
          "metadata": {},
          "execution_count": 50
        }
      ]
    },
    {
      "cell_type": "code",
      "source": [
        "%cd ..\n",
        "%cd data"
      ],
      "metadata": {
        "colab": {
          "base_uri": "https://localhost:8080/"
        },
        "id": "sCyHbQi1_T4L",
        "outputId": "8f22552e-c257-4ab9-c0a8-d28c9504a726"
      },
      "execution_count": 51,
      "outputs": [
        {
          "output_type": "stream",
          "name": "stdout",
          "text": [
            "/content/debiaswe\n",
            "/content/debiaswe/data\n"
          ]
        }
      ]
    },
    {
      "cell_type": "code",
      "source": [
        "import json"
      ],
      "metadata": {
        "id": "YQkz18jAAtU1"
      },
      "execution_count": 52,
      "outputs": []
    },
    {
      "cell_type": "code",
      "source": [
        "# Lets load some gender related word lists to help us with debiasing\n",
        "with open('definitional_pairs.json', \"r\") as f:\n",
        "    defs = json.load(f)\n",
        "print(\"definitional\", defs)\n",
        "\n",
        "with open('equalize_pairs.json', \"r\") as f:\n",
        "    equalize_pairs = json.load(f)\n",
        "\n",
        "with open('gender_specific_seed.json', \"r\") as f:\n",
        "    gender_specific_words = json.load(f)\n",
        "print(\"gender specific\", len(gender_specific_words), gender_specific_words[:10])"
      ],
      "metadata": {
        "colab": {
          "base_uri": "https://localhost:8080/"
        },
        "id": "BWNx5tnP-215",
        "outputId": "bfce4ee8-e4e6-451d-be08-910c222f82e4"
      },
      "execution_count": 78,
      "outputs": [
        {
          "output_type": "stream",
          "name": "stdout",
          "text": [
            "definitional [['woman', 'man'], ['girl', 'boy'], ['she', 'he'], ['mother', 'father'], ['daughter', 'son'], ['her', 'his']]\n",
            "gender specific 218 ['actress', 'actresses', 'aunt', 'aunts', 'bachelor', 'ballerina', 'barbershop', 'baritone', 'beard', 'beards']\n"
          ]
        }
      ]
    },
    {
      "cell_type": "code",
      "source": [
        "!pwd\n",
        "%cd data"
      ],
      "metadata": {
        "colab": {
          "base_uri": "https://localhost:8080/"
        },
        "id": "YoZ_vHvEceWU",
        "outputId": "decdd0fc-ad6a-42ca-da05-dae927d49010"
      },
      "execution_count": 77,
      "outputs": [
        {
          "output_type": "stream",
          "name": "stdout",
          "text": [
            "/content/debiaswe\n",
            "/content/debiaswe/data\n"
          ]
        }
      ]
    },
    {
      "cell_type": "code",
      "source": [
        "%cd ..\n",
        "%cd debiaswe"
      ],
      "metadata": {
        "colab": {
          "base_uri": "https://localhost:8080/"
        },
        "id": "3j65eVwzBjlk",
        "outputId": "4de127c5-6a02-4b28-8ea2-3aaeae2501b3"
      },
      "execution_count": 79,
      "outputs": [
        {
          "output_type": "stream",
          "name": "stdout",
          "text": [
            "/content/debiaswe\n",
            "/content/debiaswe/debiaswe\n"
          ]
        }
      ]
    },
    {
      "cell_type": "code",
      "source": [
        "!ls\n",
        "%cd .."
      ],
      "metadata": {
        "colab": {
          "base_uri": "https://localhost:8080/"
        },
        "id": "KH04WJzKB3Ru",
        "outputId": "e85e3ec5-4383-4140-af15-12245f0fdf22"
      },
      "execution_count": 80,
      "outputs": [
        {
          "output_type": "stream",
          "name": "stdout",
          "text": [
            "data.py    embeddingtext1.txt  learn_gender_specific.py  we.py\n",
            "debias.py  __init__.py\t       __pycache__\n",
            "/content/debiaswe\n"
          ]
        }
      ]
    },
    {
      "cell_type": "code",
      "source": [
        "# import errors, sourced from debiaswe/debiaswe/debias\n",
        "\n",
        "def debias(embedding, gender_specific_words, definitional, equalize):\n",
        "    E = embedding\n",
        "    gender_direction = we.doPCA(definitional, E).components_[0]\n",
        "    specific_set = set(gender_specific_words)\n",
        "    for i, w in enumerate(E.words):\n",
        "        if w not in specific_set:\n",
        "            E.vecs[i] = we.drop(E.vecs[i], gender_direction)\n",
        "    E.normalize()\n",
        "    candidates = {x for e1, e2 in equalize for x in [(e1.lower(), e2.lower()),\n",
        "                                                     (e1.title(), e2.title()),\n",
        "                                                     (e1.upper(), e2.upper())]}\n",
        "    print(candidates)\n",
        "    for (a, b) in candidates:\n",
        "        if (a in E.index and b in E.index):\n",
        "            y = we.drop((E.v(a) + E.v(b)) / 2, gender_direction)\n",
        "            z = np.sqrt(1 - np.linalg.norm(y)**2)\n",
        "            if (E.v(a) - E.v(b)).dot(gender_direction) < 0:\n",
        "                z = -z\n",
        "            E.vecs[E.index[a]] = z * gender_direction + y\n",
        "            E.vecs[E.index[b]] = -z * gender_direction + y\n",
        "    E.normalize()\n",
        "    return E\n",
        "\n"
      ],
      "metadata": {
        "id": "hea44CuHBrc_"
      },
      "execution_count": 70,
      "outputs": []
    },
    {
      "cell_type": "code",
      "source": [
        "nem_db = debias(nem, gender_specific_words, defs, equalize_pairs)"
      ],
      "metadata": {
        "colab": {
          "base_uri": "https://localhost:8080/"
        },
        "id": "g9PuH9mw-3FP",
        "outputId": "59899f0c-38db-474a-b748-f65644bc7654"
      },
      "execution_count": 81,
      "outputs": [
        {
          "output_type": "stream",
          "name": "stdout",
          "text": [
            "1999 words of dimension 300 : i, im, like, amp, ..., strike, cruel, michael, arsehole\n",
            "{('Uncle', 'Aunt'), ('HE', 'SHE'), ('gelding', 'mare'), ('fraternity', 'sorority'), ('MEN', 'WOMEN'), ('males', 'females'), ('BROTHERS', 'SISTERS'), ('FATHER', 'MOTHER'), ('Male', 'Female'), ('gentlemen', 'ladies'), ('GRANDFATHER', 'GRANDMOTHER'), ('chairman', 'chairwoman'), ('congressman', 'congresswoman'), ('Fraternity', 'Sorority'), ('BUSINESSMAN', 'BUSINESSWOMAN'), ('brothers', 'sisters'), ('GENTLEMAN', 'LADY'), ('Father', 'Mother'), ('CONGRESSMAN', 'CONGRESSWOMAN'), ('twin_brother', 'twin_sister'), ('SPOKESMAN', 'SPOKESWOMAN'), ('COUNCILMAN', 'COUNCILWOMAN'), ('Fella', 'Granny'), ('Kings', 'Queens'), ('sons', 'daughters'), ('Dudes', 'Gals'), ('TESTOSTERONE', 'ESTROGEN'), ('Wives', 'Husbands'), ('Catholic_Priest', 'Nun'), ('prince', 'princess'), ('KING', 'QUEEN'), ('EX_GIRLFRIEND', 'EX_BOYFRIEND'), ('Schoolboy', 'Schoolgirl'), ('GRANDPA', 'GRANDMA'), ('fella', 'granny'), ('Gelding', 'Mare'), ('HIS', 'HER'), ('nephew', 'niece'), ('Boy', 'Girl'), ('brother', 'sister'), ('prostate_cancer', 'ovarian_cancer'), ('Grandsons', 'Granddaughters'), ('UNCLE', 'AUNT'), ('he', 'she'), ('NEPHEW', 'NIECE'), ('Fatherhood', 'Motherhood'), ('MALE', 'FEMALE'), ('SON', 'DAUGHTER'), ('Prostate_Cancer', 'Ovarian_Cancer'), ('Men', 'Women'), ('MAN', 'WOMAN'), ('Grandfather', 'Grandmother'), ('king', 'queen'), ('PROSTATE_CANCER', 'OVARIAN_CANCER'), ('father', 'mother'), ('SCHOOLBOY', 'SCHOOLGIRL'), ('BOY', 'GIRL'), ('testosterone', 'estrogen'), ('WIVES', 'HUSBANDS'), ('DUDES', 'GALS'), ('dad', 'mom'), ('monastery', 'convent'), ('MALES', 'FEMALES'), ('Colt', 'Filly'), ('Dads', 'Moms'), ('Twin_Brother', 'Twin_Sister'), ('colt', 'filly'), ('dads', 'moms'), ('uncle', 'aunt'), ('HIMSELF', 'HERSELF'), ('GRANDSON', 'GRANDDAUGHTER'), ('kings', 'queens'), ('Gentlemen', 'Ladies'), ('grandsons', 'granddaughters'), ('King', 'Queen'), ('councilman', 'councilwoman'), ('wives', 'husbands'), ('Testosterone', 'Estrogen'), ('schoolboy', 'schoolgirl'), ('His', 'Her'), ('KINGS', 'QUEENS'), ('Sons', 'Daughters'), ('Fathers', 'Mothers'), ('Councilman', 'Councilwoman'), ('GRANDSONS', 'GRANDDAUGHTERS'), ('Man', 'Woman'), ('GENTLEMEN', 'LADIES'), ('Son', 'Daughter'), ('his', 'her'), ('FRATERNITY', 'SORORITY'), ('Himself', 'Herself'), ('Dad', 'Mom'), ('BROTHER', 'SISTER'), ('dudes', 'gals'), ('fathers', 'mothers'), ('COLT', 'FILLY'), ('catholic_priest', 'nun'), ('Gentleman', 'Lady'), ('Congressman', 'Congresswoman'), ('SONS', 'DAUGHTERS'), ('CATHOLIC_PRIEST', 'NUN'), ('ex_girlfriend', 'ex_boyfriend'), ('DADS', 'MOMS'), ('Grandson', 'Granddaughter'), ('businessman', 'businesswoman'), ('boy', 'girl'), ('himself', 'herself'), ('Nephew', 'Niece'), ('man', 'woman'), ('son', 'daughter'), ('TWIN_BROTHER', 'TWIN_SISTER'), ('gentleman', 'lady'), ('boys', 'girls'), ('Grandpa', 'Grandma'), ('grandpa', 'grandma'), ('Chairman', 'Chairwoman'), ('PRINCE', 'PRINCESS'), ('FATHERHOOD', 'MOTHERHOOD'), ('Boys', 'Girls'), ('He', 'She'), ('CHAIRMAN', 'CHAIRWOMAN'), ('Ex_Girlfriend', 'Ex_Boyfriend'), ('DAD', 'MOM'), ('grandfather', 'grandmother'), ('GELDING', 'MARE'), ('MONASTERY', 'CONVENT'), ('Spokesman', 'Spokeswoman'), ('Monastery', 'Convent'), ('FATHERS', 'MOTHERS'), ('BOYS', 'GIRLS'), ('male', 'female'), ('Brother', 'Sister'), ('Males', 'Females'), ('Businessman', 'Businesswoman'), ('fatherhood', 'motherhood'), ('Brothers', 'Sisters'), ('spokesman', 'spokeswoman'), ('FELLA', 'GRANNY'), ('men', 'women'), ('grandson', 'granddaughter'), ('Prince', 'Princess')}\n",
            "1999 words of dimension 300 : i, im, like, amp, ..., strike, cruel, michael, arsehole\n"
          ]
        }
      ]
    }
  ]
}